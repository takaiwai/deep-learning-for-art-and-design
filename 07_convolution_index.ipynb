{
 "cells": [
  {
   "cell_type": "code",
   "execution_count": 1,
   "metadata": {
    "collapsed": true
   },
   "outputs": [],
   "source": [
    "import numpy as np\n",
    "import tensorflow as tf"
   ]
  },
  {
   "cell_type": "markdown",
   "metadata": {},
   "source": [
    "# Notation\n",
    "\n",
    "\n",
    "| Notation                  | Meaning               | Size                                              |\n",
    "|:--------------------------|:----------------------|:--------------------------------------------------|\n",
    "| $\\boldsymbol{X}$          | 2D Input Matrix       | $(H_{in}$, $W_{in})$                              |\n",
    "| $\\boldsymbol{\\mathsf{X}}$ | 3D Input Tensor       | $(H_{in}$, $W_{in}$, $C_{in})$                    |\n",
    "| $\\boldsymbol{\\mathsf{X}}$ | 4D Input Tensor       | $(N_{in}$, $H_{in}$, $W_{in}$, $C_{in})$          |\n",
    "| $\\boldsymbol{W}$          | 2D Filter Matrix      | $(H_{filter}$, $W_{filter})$                      |\n",
    "| $\\boldsymbol{\\mathsf{W}}$ | 3D Filter Tensor      | $(H_{filter}$, $W_{filter}$, $C_{in})$            |\n",
    "| $\\boldsymbol{\\mathsf{W}}$ | 4D Filter Tensor      | $(H_{filter}$, $W_{filter}$, $C_{in}$, $C_{out})$ |\n",
    "| $\\boldsymbol{Y}$          | 2D Output Matrix      | $(H_{out}$, $W_{out})$                            |\n",
    "| $\\boldsymbol{\\mathsf{Y}}$ | 3D Outpu Tensor       | $(H_{out}$, $W_{out}$, $C_{out})$                 |\n",
    "| $\\boldsymbol{\\mathsf{Y}}$ | 4D Outpu Tensor       | $(N_{in}$, $H_{out}$, $W_{out}$, $C_{out})$       |\n",
    " \n",
    "\n",
    "\n"
   ]
  },
  {
   "cell_type": "markdown",
   "metadata": {},
   "source": [
    "# Convolution Operation Forward Pass"
   ]
  },
  {
   "cell_type": "markdown",
   "metadata": {},
   "source": [
    "Try calculation with NumPy and TensorFlow for the followings\n",
    "\n",
    "1. Basic (4x4) $*$ (3x3) = (2x2)\n",
    "2. Padding (6x6) $*$ (3x3) = (4x4)\n",
    "3. Stride (2x2) $*$ (2x2)\n",
    "4. Padding and Stride (2x2) $*$ (2x2)\n",
    "5. Channel (2x2) $*$ (2x2)\n",
    "6. Channel and bias (2x2) $*$ (2x2) + (1)\n",
    "7. Multiple Kernels (2x2) $*$ (2x2)\n",
    "8. Multiple Kernels + bias (2x2) $*$ (3x3x3x4) + (1x1x4)\n",
    "9. Mini-batch (2x4x4x3) $*$ (3x3x3x4)\n",
    "10. Mini-batch (2x4x4x3) $*$ (3x3x3x4) + (1x1x4)"
   ]
  },
  {
   "cell_type": "code",
   "execution_count": null,
   "metadata": {
    "collapsed": true
   },
   "outputs": [],
   "source": []
  },
  {
   "cell_type": "code",
   "execution_count": null,
   "metadata": {
    "collapsed": true
   },
   "outputs": [],
   "source": []
  },
  {
   "cell_type": "code",
   "execution_count": null,
   "metadata": {
    "collapsed": true
   },
   "outputs": [],
   "source": []
  },
  {
   "cell_type": "code",
   "execution_count": null,
   "metadata": {
    "collapsed": true
   },
   "outputs": [],
   "source": []
  },
  {
   "cell_type": "markdown",
   "metadata": {},
   "source": [
    "# Convolution Operation Naive Backward Pass\n",
    "\n",
    "Try calculating NumPy, then check with TensorFlow and numerical gradient"
   ]
  },
  {
   "cell_type": "code",
   "execution_count": null,
   "metadata": {
    "collapsed": true
   },
   "outputs": [],
   "source": []
  },
  {
   "cell_type": "code",
   "execution_count": null,
   "metadata": {
    "collapsed": true
   },
   "outputs": [],
   "source": []
  },
  {
   "cell_type": "markdown",
   "metadata": {},
   "source": [
    "# Fast Forward Pass with im2col\n",
    "\n",
    "Try calculating NumPy, then check with the result above"
   ]
  },
  {
   "cell_type": "code",
   "execution_count": null,
   "metadata": {
    "collapsed": true
   },
   "outputs": [],
   "source": []
  },
  {
   "cell_type": "markdown",
   "metadata": {},
   "source": [
    "# Convolution Operation Fast Backward\n",
    "\n",
    "Try calculating NumPy, then check with TensorFlow"
   ]
  },
  {
   "cell_type": "code",
   "execution_count": null,
   "metadata": {
    "collapsed": true
   },
   "outputs": [],
   "source": []
  },
  {
   "cell_type": "markdown",
   "metadata": {},
   "source": [
    "# Fast Forward Pass with im2col\n",
    "\n",
    "Try calculating NumPy, then check with the result above"
   ]
  },
  {
   "cell_type": "code",
   "execution_count": null,
   "metadata": {
    "collapsed": true
   },
   "outputs": [],
   "source": []
  }
 ],
 "metadata": {
  "kernelspec": {
   "display_name": "Python 3",
   "language": "python",
   "name": "python3"
  },
  "language_info": {
   "codemirror_mode": {
    "name": "ipython",
    "version": 3
   },
   "file_extension": ".py",
   "mimetype": "text/x-python",
   "name": "python",
   "nbconvert_exporter": "python",
   "pygments_lexer": "ipython3",
   "version": "3.6.2"
  }
 },
 "nbformat": 4,
 "nbformat_minor": 2
}
