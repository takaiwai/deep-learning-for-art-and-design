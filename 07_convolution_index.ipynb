{
 "cells": [
  {
   "cell_type": "code",
   "execution_count": 1,
   "metadata": {
    "collapsed": true
   },
   "outputs": [],
   "source": [
    "import numpy as np\n",
    "import tensorflow as tf"
   ]
  },
  {
   "cell_type": "markdown",
   "metadata": {},
   "source": [
    "# Notation\n",
    "\n",
    "Convolution is an operation between matrices or tensors denoted by $*$.\n",
    "\n",
    "\n",
    "| Symbols                   | Meaning               | Size                                              |\n",
    "|:--------------------------|:----------------------|:--------------------------------------------------|\n",
    "| $\\boldsymbol{X}$          | 2D Input Matrix       | $(H_{in}$, $W_{in})$                              |\n",
    "| $\\boldsymbol{\\mathsf{X}}$ | 3D Input Tensor       | $(H_{in}$, $W_{in}$, $C_{in})$                    |\n",
    "| $\\boldsymbol{\\mathsf{X}}$ | 4D Input Tensor       | $(N_{in}$, $H_{in}$, $W_{in}$, $C_{in})$          |\n",
    "| $\\boldsymbol{W}$          | 2D Filter Matrix      | $(H_{filter}$, $W_{filter})$                      |\n",
    "| $\\boldsymbol{\\mathsf{W}}$ | 3D Filter Tensor      | $(H_{filter}$, $W_{filter}$, $C_{in})$            |\n",
    "| $\\boldsymbol{\\mathsf{W}}$ | 4D Filter Tensor      | $(H_{filter}$, $W_{filter}$, $C_{in}$, $C_{out})$ |\n",
    "| $\\boldsymbol{Y}$          | 2D Output Matrix      | $(H_{out}$, $W_{out})$                            |\n",
    "| $\\boldsymbol{\\mathsf{Y}}$ | 3D Output Tensor      | $(H_{out}$, $W_{out}$, $C_{out})$                 |\n",
    "| $\\boldsymbol{\\mathsf{Y}}$ | 4D Output Tensor      | $(N_{in}$, $H_{out}$, $W_{out}$, $C_{out})$       |\n",
    " \n",
    "Please note that letter `w` stands for `weight` as in $\\boldsymbol{W}$ or $\\boldsymbol{\\mathsf{W}}$, and `width` as in $W_{in}$, too.\n",
    "\n",
    "Also, a convolution can takes padding $P$ and stride $S$."
   ]
  },
  {
   "cell_type": "markdown",
   "metadata": {},
   "source": [
    "# Convolution Operation Forward Pass"
   ]
  },
  {
   "cell_type": "markdown",
   "metadata": {},
   "source": [
    "Try calculation with NumPy and TensorFlow for the followings\n",
    "\n",
    "1. Basic $(4 \\times 4) * (3 \\times 3) = (2 \\times 2)$\n",
    "2. Padding $(4 \\times 4) * (3 \\times 3) = (4 \\times 4)$ where $P=1$\n",
    "3. Stride $(7 \\times 7) * (3 \\times 3) = (3 \\times 3)$ where $S=2$\n",
    "4. Stride $(7 \\times 7) * (3 \\times 3) = (4 \\times 4)$ where $P=1, S=2$\n",
    "5. Channel (2x2) $*$ (2x2)\n",
    "6. Channel and bias (2x2) $*$ (2x2) + (1)\n",
    "7. Multiple Kernels (2x2) $*$ (2x2)\n",
    "8. Multiple Kernels + bias (2x2) $*$ (3x3x3x4) + (1x1x4)\n",
    "9. Mini-batch (2x4x4x3) $*$ (3x3x3x4)\n",
    "10. All"
   ]
  },
  {
   "cell_type": "code",
   "execution_count": 27,
   "metadata": {},
   "outputs": [],
   "source": [
    "def float_sequence(size):\n",
    "    return np.arange(size, dtype=np.float32)"
   ]
  },
  {
   "cell_type": "code",
   "execution_count": 35,
   "metadata": {},
   "outputs": [
    {
     "name": "stdout",
     "output_type": "stream",
     "text": [
      "=== X ===\n",
      "[[  0.   1.   2.   3.]\n",
      " [  4.   5.   6.   7.]\n",
      " [  8.   9.  10.  11.]\n",
      " [ 12.  13.  14.  15.]]\n",
      "=== W ===\n",
      "[[ 12.  11.  10.]\n",
      " [  9.   8.   7.]\n",
      " [  6.   5.   4.]]\n",
      "=== Y ===\n",
      "[[ 282.  354.]\n",
      " [ 570.  642.]]\n",
      "[[ 282.  354.]\n",
      " [ 570.  642.]]\n"
     ]
    }
   ],
   "source": [
    "# 1. Basic convolution\n",
    "# (4×4)∗(3×3)=(2×2)\n",
    "\n",
    "X = float_sequence(4*4).reshape(4,4)\n",
    "W = 12 - float_sequence(3*3).reshape(3,3)\n",
    "print(\"=== X ===\")\n",
    "print(X)\n",
    "print(\"=== W ===\")\n",
    "print(W)\n",
    "\n",
    "Y = np.zeros((2,2))\n",
    "for w in range(4-3+1):\n",
    "    for h in range(4-3+1):\n",
    "        for i in range(3):\n",
    "            for j in range(3):\n",
    "                Y[h,w] += X[h+i, w+j] * W[i, j]\n",
    "\n",
    "print(\"=== Y ===\")     \n",
    "print(Y)\n",
    "\n",
    "with tf.Session() as sess:\n",
    "    Y_tf = sess.run(tf.nn.conv2d(\n",
    "        X.reshape(1, 4, 4, 1),\n",
    "        W.reshape(3, 3, 1, 1),\n",
    "        strides=[1, 1, 1, 1],\n",
    "        padding='VALID'\n",
    "    ))\n",
    "    print(Y_tf[0, :, :, 0])"
   ]
  },
  {
   "cell_type": "code",
   "execution_count": null,
   "metadata": {
    "collapsed": true
   },
   "outputs": [],
   "source": []
  },
  {
   "cell_type": "code",
   "execution_count": null,
   "metadata": {
    "collapsed": true
   },
   "outputs": [],
   "source": []
  },
  {
   "cell_type": "code",
   "execution_count": null,
   "metadata": {
    "collapsed": true
   },
   "outputs": [],
   "source": []
  },
  {
   "cell_type": "markdown",
   "metadata": {},
   "source": [
    "# Convolution Operation Naive Backward Pass\n",
    "\n",
    "Try calculating NumPy, then check with TensorFlow and numerical gradient"
   ]
  },
  {
   "cell_type": "code",
   "execution_count": null,
   "metadata": {
    "collapsed": true
   },
   "outputs": [],
   "source": []
  },
  {
   "cell_type": "code",
   "execution_count": null,
   "metadata": {
    "collapsed": true
   },
   "outputs": [],
   "source": []
  },
  {
   "cell_type": "markdown",
   "metadata": {},
   "source": [
    "# Fast Forward Pass with im2col\n",
    "\n",
    "Try calculating NumPy, then check with the result above"
   ]
  },
  {
   "cell_type": "code",
   "execution_count": null,
   "metadata": {
    "collapsed": true
   },
   "outputs": [],
   "source": []
  },
  {
   "cell_type": "markdown",
   "metadata": {},
   "source": [
    "# Convolution Operation Fast Backward\n",
    "\n",
    "Try calculating NumPy, then check with TensorFlow"
   ]
  },
  {
   "cell_type": "code",
   "execution_count": null,
   "metadata": {
    "collapsed": true
   },
   "outputs": [],
   "source": []
  },
  {
   "cell_type": "markdown",
   "metadata": {},
   "source": [
    "# Fast Forward Pass with im2col\n",
    "\n",
    "Try calculating NumPy, then check with the result above"
   ]
  },
  {
   "cell_type": "code",
   "execution_count": null,
   "metadata": {
    "collapsed": true
   },
   "outputs": [],
   "source": []
  }
 ],
 "metadata": {
  "kernelspec": {
   "display_name": "Python 3",
   "language": "python",
   "name": "python3"
  },
  "language_info": {
   "codemirror_mode": {
    "name": "ipython",
    "version": 3
   },
   "file_extension": ".py",
   "mimetype": "text/x-python",
   "name": "python",
   "nbconvert_exporter": "python",
   "pygments_lexer": "ipython3",
   "version": "3.6.2"
  }
 },
 "nbformat": 4,
 "nbformat_minor": 2
}
