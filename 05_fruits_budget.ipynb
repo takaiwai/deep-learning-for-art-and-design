{
 "cells": [
  {
   "cell_type": "code",
   "execution_count": 1,
   "metadata": {
    "collapsed": true
   },
   "outputs": [],
   "source": [
    "import numpy as np"
   ]
  },
  {
   "cell_type": "markdown",
   "metadata": {},
   "source": [
    "## Case 1: Orange and Bag"
   ]
  },
  {
   "cell_type": "code",
   "execution_count": 2,
   "metadata": {
    "collapsed": true
   },
   "outputs": [],
   "source": [
    "price_orange = 1.5\n",
    "count_orange = 3\n",
    "price_bag = 0.5"
   ]
  },
  {
   "cell_type": "code",
   "execution_count": 3,
   "metadata": {
    "collapsed": true
   },
   "outputs": [],
   "source": [
    "def f1(price_orange, count_orange, price_bag):\n",
    "    return price_orange * count_orange + price_bag"
   ]
  },
  {
   "cell_type": "code",
   "execution_count": 4,
   "metadata": {},
   "outputs": [
    {
     "data": {
      "text/plain": [
       "5.0"
      ]
     },
     "execution_count": 4,
     "metadata": {},
     "output_type": "execute_result"
    }
   ],
   "source": [
    "f1(price_orange, count_orange, price_bag)"
   ]
  },
  {
   "cell_type": "markdown",
   "metadata": {},
   "source": [
    "## AddLayer MulLayer"
   ]
  },
  {
   "cell_type": "code",
   "execution_count": 48,
   "metadata": {
    "collapsed": true
   },
   "outputs": [],
   "source": [
    "class AddLayer():\n",
    "    def forward(self, x, y):\n",
    "        return x + y\n",
    "    \n",
    "    def backward(self, dout):\n",
    "        return dout, dout"
   ]
  },
  {
   "cell_type": "code",
   "execution_count": 49,
   "metadata": {
    "collapsed": true
   },
   "outputs": [],
   "source": [
    "class MulLayer():\n",
    "    def __init(self):\n",
    "        self.x = None\n",
    "        self.y = None\n",
    "        \n",
    "    def forward(self, x, y):\n",
    "        self.x = x\n",
    "        self.y = y\n",
    "        return x * y\n",
    "    \n",
    "    def backward(self, dout):\n",
    "        dx = dout * self.y\n",
    "        dy = dout * self.x\n",
    "        return dx, dy"
   ]
  },
  {
   "cell_type": "markdown",
   "metadata": {},
   "source": [
    "## Solve Case 1 using Layers"
   ]
  },
  {
   "cell_type": "code",
   "execution_count": 50,
   "metadata": {
    "collapsed": true
   },
   "outputs": [],
   "source": [
    "orange_l = MulLayer()\n",
    "orange_v = orange_l.forward(price_orange, count_orange)"
   ]
  },
  {
   "cell_type": "code",
   "execution_count": 51,
   "metadata": {},
   "outputs": [],
   "source": [
    "bag_l = AddLayer()\n",
    "bag_v = bag_l.forward(orange_v, price_bag)"
   ]
  },
  {
   "cell_type": "code",
   "execution_count": 52,
   "metadata": {},
   "outputs": [
    {
     "data": {
      "text/plain": [
       "5.0"
      ]
     },
     "execution_count": 52,
     "metadata": {},
     "output_type": "execute_result"
    }
   ],
   "source": [
    "bag_v"
   ]
  },
  {
   "cell_type": "code",
   "execution_count": 54,
   "metadata": {
    "collapsed": true
   },
   "outputs": [],
   "source": [
    "d_orange, d_price_bag = bag_l.backward(1)"
   ]
  },
  {
   "cell_type": "code",
   "execution_count": 55,
   "metadata": {},
   "outputs": [],
   "source": [
    "d_price_orange, d_count_orange = orange_l.backward(d_orange)"
   ]
  },
  {
   "cell_type": "code",
   "execution_count": 56,
   "metadata": {},
   "outputs": [
    {
     "name": "stdout",
     "output_type": "stream",
     "text": [
      "d_price_orange:  3\n",
      "d_count_orange:  1.5\n",
      "d_price_bag:  1\n"
     ]
    }
   ],
   "source": [
    "print(\"d_price_orange: \", d_price_orange)\n",
    "print(\"d_count_orange: \", d_count_orange)\n",
    "print(\"d_price_bag: \", d_price_bag)"
   ]
  },
  {
   "cell_type": "code",
   "execution_count": 57,
   "metadata": {},
   "outputs": [
    {
     "data": {
      "text/plain": [
       "5.0"
      ]
     },
     "execution_count": 57,
     "metadata": {},
     "output_type": "execute_result"
    }
   ],
   "source": [
    "f1(price_orange, count_orange, price_bag)"
   ]
  },
  {
   "cell_type": "code",
   "execution_count": 58,
   "metadata": {},
   "outputs": [
    {
     "data": {
      "text/plain": [
       "8.0"
      ]
     },
     "execution_count": 58,
     "metadata": {},
     "output_type": "execute_result"
    }
   ],
   "source": [
    "f1(price_orange+1, count_orange, price_bag)"
   ]
  },
  {
   "cell_type": "code",
   "execution_count": 59,
   "metadata": {},
   "outputs": [
    {
     "data": {
      "text/plain": [
       "6.5"
      ]
     },
     "execution_count": 59,
     "metadata": {},
     "output_type": "execute_result"
    }
   ],
   "source": [
    "f1(price_orange, count_orange+1, price_bag)"
   ]
  },
  {
   "cell_type": "code",
   "execution_count": 60,
   "metadata": {},
   "outputs": [
    {
     "data": {
      "text/plain": [
       "6.0"
      ]
     },
     "execution_count": 60,
     "metadata": {},
     "output_type": "execute_result"
    }
   ],
   "source": [
    "f1(price_orange, count_orange, price_bag+1)"
   ]
  },
  {
   "cell_type": "markdown",
   "metadata": {},
   "source": [
    "## Case 2: Smoothie"
   ]
  },
  {
   "cell_type": "code",
   "execution_count": 92,
   "metadata": {
    "collapsed": true
   },
   "outputs": [],
   "source": [
    "price_orange = 1.5\n",
    "price_mango = 2.5\n",
    "count_smoothie = 3\n",
    "price_bag = 0.5"
   ]
  },
  {
   "cell_type": "code",
   "execution_count": 93,
   "metadata": {
    "collapsed": true
   },
   "outputs": [],
   "source": [
    "def f2(price_orange, price_mango, count_smoothie, price_bag):\n",
    "    return price_orange * count_smoothie + price_mango * count_smoothie + price_bag"
   ]
  },
  {
   "cell_type": "code",
   "execution_count": 94,
   "metadata": {},
   "outputs": [
    {
     "data": {
      "text/plain": [
       "12.5"
      ]
     },
     "execution_count": 94,
     "metadata": {},
     "output_type": "execute_result"
    }
   ],
   "source": [
    "f2(price_orange, price_mango, count_smoothie, price_bag)"
   ]
  },
  {
   "cell_type": "markdown",
   "metadata": {},
   "source": [
    "## Solve Case 2 using Layers"
   ]
  },
  {
   "cell_type": "code",
   "execution_count": 95,
   "metadata": {
    "collapsed": true
   },
   "outputs": [],
   "source": [
    "l_orange = MulLayer()\n",
    "v_orange = l_orange.forward(price_orange, count_smoothie)\n",
    "\n",
    "l_mango = MulLayer()\n",
    "v_mango = l_mango.forward(price_mango, count_smoothie)"
   ]
  },
  {
   "cell_type": "code",
   "execution_count": 96,
   "metadata": {},
   "outputs": [],
   "source": [
    "l_smoothie = AddLayer()\n",
    "v_smoothie = l_smoothie.forward(v_orange, v_mango)"
   ]
  },
  {
   "cell_type": "code",
   "execution_count": 97,
   "metadata": {},
   "outputs": [],
   "source": [
    "l_total = AddLayer()\n",
    "v_total = l_total.forward(v_smoothie, price_bag)"
   ]
  },
  {
   "cell_type": "code",
   "execution_count": 98,
   "metadata": {},
   "outputs": [
    {
     "data": {
      "text/plain": [
       "12.5"
      ]
     },
     "execution_count": 98,
     "metadata": {},
     "output_type": "execute_result"
    }
   ],
   "source": [
    "v_total"
   ]
  },
  {
   "cell_type": "code",
   "execution_count": 99,
   "metadata": {
    "collapsed": true
   },
   "outputs": [],
   "source": [
    "d_smoothie, d_price_bag = l_total.backward(1)"
   ]
  },
  {
   "cell_type": "code",
   "execution_count": 100,
   "metadata": {
    "collapsed": true
   },
   "outputs": [],
   "source": [
    "d_orange, d_mango = l_smoothie.backward(d_smoothie)"
   ]
  },
  {
   "cell_type": "code",
   "execution_count": 101,
   "metadata": {
    "collapsed": true
   },
   "outputs": [],
   "source": [
    "d_price_mango, d_count_mango = l_mango.backward(d_mango)"
   ]
  },
  {
   "cell_type": "code",
   "execution_count": 102,
   "metadata": {
    "collapsed": true
   },
   "outputs": [],
   "source": [
    "d_price_orange, d_count_orange = l_orange.backward(d_orange)"
   ]
  },
  {
   "cell_type": "code",
   "execution_count": 103,
   "metadata": {
    "collapsed": true
   },
   "outputs": [],
   "source": [
    "d_count_smoothie = d_count_orange + d_count_mango"
   ]
  },
  {
   "cell_type": "code",
   "execution_count": 104,
   "metadata": {},
   "outputs": [
    {
     "name": "stdout",
     "output_type": "stream",
     "text": [
      "d_price_orange:  3\n",
      "d_price_mango:  3\n",
      "d_count_smoothie:  4.0\n",
      "d_price_bag:  1\n"
     ]
    }
   ],
   "source": [
    "print(\"d_price_orange: \", d_price_orange)\n",
    "print(\"d_price_mango: \", d_price_mango)\n",
    "print(\"d_count_smoothie: \", d_count_smoothie)\n",
    "print(\"d_price_bag: \", d_price_bag)"
   ]
  },
  {
   "cell_type": "code",
   "execution_count": 105,
   "metadata": {},
   "outputs": [
    {
     "data": {
      "text/plain": [
       "12.5"
      ]
     },
     "execution_count": 105,
     "metadata": {},
     "output_type": "execute_result"
    }
   ],
   "source": [
    "f2(price_orange, price_mango, count_smoothie, price_bag)"
   ]
  },
  {
   "cell_type": "code",
   "execution_count": 106,
   "metadata": {},
   "outputs": [
    {
     "data": {
      "text/plain": [
       "15.5"
      ]
     },
     "execution_count": 106,
     "metadata": {},
     "output_type": "execute_result"
    }
   ],
   "source": [
    "f2(price_orange+1, price_mango, count_smoothie, price_bag)"
   ]
  },
  {
   "cell_type": "code",
   "execution_count": 107,
   "metadata": {},
   "outputs": [
    {
     "data": {
      "text/plain": [
       "15.5"
      ]
     },
     "execution_count": 107,
     "metadata": {},
     "output_type": "execute_result"
    }
   ],
   "source": [
    "f2(price_orange, price_mango+1, count_smoothie, price_bag)"
   ]
  },
  {
   "cell_type": "code",
   "execution_count": 108,
   "metadata": {},
   "outputs": [
    {
     "data": {
      "text/plain": [
       "16.5"
      ]
     },
     "execution_count": 108,
     "metadata": {},
     "output_type": "execute_result"
    }
   ],
   "source": [
    "f2(price_orange, price_mango, count_smoothie+1, price_bag)"
   ]
  },
  {
   "cell_type": "code",
   "execution_count": 109,
   "metadata": {},
   "outputs": [
    {
     "data": {
      "text/plain": [
       "13.5"
      ]
     },
     "execution_count": 109,
     "metadata": {},
     "output_type": "execute_result"
    }
   ],
   "source": [
    "f2(price_orange, price_mango, count_smoothie, price_bag+1)"
   ]
  },
  {
   "cell_type": "markdown",
   "metadata": {},
   "source": [
    "## Case 3: Fruits in CA, NY, and TX"
   ]
  },
  {
   "cell_type": "markdown",
   "metadata": {},
   "source": [
    "$$\n",
    "\\boldsymbol{C} = \\begin{bmatrix}\n",
    "    c_{orange} & c_{mango}\n",
    "\\end{bmatrix}\n",
    "$$\n",
    "\n",
    "$$\n",
    "\\boldsymbol{P} = \\begin{bmatrix}\n",
    "    p_{orange, CA} & p_{orange, NY} & p_{orange, TX} \\\\\n",
    "    p_{mango, CA}  & p_{mango, NY}  & p_{mango, TX}  \\\\\n",
    "\\end{bmatrix}\n",
    "$$\n",
    "\n",
    "$$\n",
    "\\boldsymbol{b} = \\begin{pmatrix}\n",
    "    b_{CA} & b_{NY} & b_{TX}\n",
    "\\end{pmatrix}\n",
    "$$\n",
    "\n",
    "$$\n",
    "Total = \\sum C P + b\n",
    "$$"
   ]
  },
  {
   "cell_type": "code",
   "execution_count": 110,
   "metadata": {
    "collapsed": true
   },
   "outputs": [],
   "source": [
    "C = np.array([\n",
    "    [3, 2]\n",
    "])\n",
    "P = np.array([\n",
    "    [1.5, 1.0, 2.0],\n",
    "    [3.0, 2.0, 4.0]\n",
    "])\n",
    "b = np.array([0.5, 1.0, 0.7])"
   ]
  },
  {
   "cell_type": "code",
   "execution_count": 112,
   "metadata": {},
   "outputs": [
    {
     "data": {
      "text/plain": [
       "array([[ 11. ,   8. ,  14.7]])"
      ]
     },
     "execution_count": 112,
     "metadata": {},
     "output_type": "execute_result"
    }
   ],
   "source": [
    "np.dot(C, P) + b"
   ]
  },
  {
   "cell_type": "code",
   "execution_count": 113,
   "metadata": {},
   "outputs": [
    {
     "data": {
      "text/plain": [
       "33.700000000000003"
      ]
     },
     "execution_count": 113,
     "metadata": {},
     "output_type": "execute_result"
    }
   ],
   "source": [
    "np.sum(np.dot(C, P) + b)"
   ]
  },
  {
   "cell_type": "code",
   "execution_count": 124,
   "metadata": {},
   "outputs": [],
   "source": [
    "def f3(C, P, b):\n",
    "    return C[0,0] * P[0,0] + C[0,1] * P[1,0] + C[0,0] * P[0,1] + C[0,1] * P[1,1] +  C[0,0] * P[0,2] + C[0,1] * P[1,2] + b[0] + b[1] + b[2]"
   ]
  },
  {
   "cell_type": "code",
   "execution_count": 125,
   "metadata": {},
   "outputs": [
    {
     "data": {
      "text/plain": [
       "33.700000000000003"
      ]
     },
     "execution_count": 125,
     "metadata": {},
     "output_type": "execute_result"
    }
   ],
   "source": [
    "f3(C, P, b)"
   ]
  },
  {
   "cell_type": "markdown",
   "metadata": {},
   "source": [
    "## MatMul and MatAdd Layers"
   ]
  },
  {
   "cell_type": "code",
   "execution_count": 149,
   "metadata": {
    "collapsed": true
   },
   "outputs": [],
   "source": [
    "class MatMul:\n",
    "    def __init__(self):\n",
    "        self.X = None\n",
    "        self.W = None\n",
    "        \n",
    "    def forward(self, X, W):\n",
    "        Y = np.dot(X, W)\n",
    "        self.X = X\n",
    "        self.W = W\n",
    "        return Y\n",
    "    \n",
    "    def backward(self, dY):\n",
    "        dX = np.dot(dY, self.W.T)\n",
    "        dW = np.dot(self.X.T, dY)\n",
    "        return dX, dW"
   ]
  },
  {
   "cell_type": "code",
   "execution_count": 150,
   "metadata": {
    "collapsed": true
   },
   "outputs": [],
   "source": [
    "class MatAdd:\n",
    "    def forward(self, A, b):\n",
    "        return A + b\n",
    "    \n",
    "    def backward(self, dY):\n",
    "        dA = dY\n",
    "        db = np.sum(dY, axis=0)\n",
    "        return dA, db"
   ]
  },
  {
   "cell_type": "code",
   "execution_count": 151,
   "metadata": {},
   "outputs": [],
   "source": [
    "l_fruit = MatMul()\n",
    "v_fruit = l_fruit.forward(C, P)"
   ]
  },
  {
   "cell_type": "code",
   "execution_count": 152,
   "metadata": {
    "collapsed": true
   },
   "outputs": [],
   "source": [
    "l_bag = MatAdd()\n",
    "v_bag = l_bag.forward(v_fruit, b)"
   ]
  },
  {
   "cell_type": "code",
   "execution_count": 153,
   "metadata": {},
   "outputs": [
    {
     "data": {
      "text/plain": [
       "33.700000000000003"
      ]
     },
     "execution_count": 153,
     "metadata": {},
     "output_type": "execute_result"
    }
   ],
   "source": [
    "np.sum(v_bag)"
   ]
  },
  {
   "cell_type": "code",
   "execution_count": 154,
   "metadata": {},
   "outputs": [],
   "source": [
    "d_v_fruit, d_b = l_bag.backward(np.ones((1, 3)))"
   ]
  },
  {
   "cell_type": "code",
   "execution_count": 155,
   "metadata": {},
   "outputs": [],
   "source": [
    "dC, dP = l_fruit.backward(d_v_fruit)"
   ]
  },
  {
   "cell_type": "code",
   "execution_count": 157,
   "metadata": {},
   "outputs": [
    {
     "name": "stdout",
     "output_type": "stream",
     "text": [
      "dC:\n",
      "[[ 4.5  9. ]]\n",
      "dP:\n",
      "[[ 3.  3.  3.]\n",
      " [ 2.  2.  2.]]\n",
      "d_b:\n",
      "[ 1.  1.  1.]\n"
     ]
    }
   ],
   "source": [
    "print(\"dC:\")\n",
    "print(dC)\n",
    "print(\"dP:\")\n",
    "print(dP)\n",
    "print(\"d_b:\")\n",
    "print(d_b)"
   ]
  },
  {
   "cell_type": "code",
   "execution_count": 158,
   "metadata": {},
   "outputs": [
    {
     "data": {
      "text/plain": [
       "33.700000000000003"
      ]
     },
     "execution_count": 158,
     "metadata": {},
     "output_type": "execute_result"
    }
   ],
   "source": [
    "C = np.array([\n",
    "    [3, 2]\n",
    "])\n",
    "P = np.array([\n",
    "    [1.5, 1.0, 2.0],\n",
    "    [3.0, 2.0, 4.0]\n",
    "])\n",
    "b = np.array([0.5, 1.0, 0.7])\n",
    "f3(C, P, b)"
   ]
  },
  {
   "cell_type": "code",
   "execution_count": 160,
   "metadata": {},
   "outputs": [
    {
     "data": {
      "text/plain": [
       "42.700000000000003"
      ]
     },
     "execution_count": 160,
     "metadata": {},
     "output_type": "execute_result"
    }
   ],
   "source": [
    "# Increase mango count\n",
    "C2 = np.array([\n",
    "    [3, 3]\n",
    "])\n",
    "P2 = np.array([\n",
    "    [1.5, 1.0, 2.0],\n",
    "    [3.0, 2.0, 4.0]\n",
    "])\n",
    "b2 = np.array([0.5, 1.0, 0.7])\n",
    "f3(C2, P2, b2)"
   ]
  },
  {
   "cell_type": "code",
   "execution_count": 161,
   "metadata": {},
   "outputs": [
    {
     "data": {
      "text/plain": [
       "30.699999999999999"
      ]
     },
     "execution_count": 161,
     "metadata": {},
     "output_type": "execute_result"
    }
   ],
   "source": [
    "C2 = np.array([\n",
    "    [3, 2]\n",
    "])\n",
    "# Decrease orange price in TX\n",
    "P2 = np.array([\n",
    "    [1.5, 1.0, 1.0],\n",
    "    [3.0, 2.0, 4.0]\n",
    "])\n",
    "b2 = np.array([0.5, 1.0, 0.7])\n",
    "f3(C2, P2, b2)"
   ]
  },
  {
   "cell_type": "markdown",
   "metadata": {},
   "source": [
    "## Case 4: Group of friends in CA, NY, and TX"
   ]
  },
  {
   "cell_type": "code",
   "execution_count": 173,
   "metadata": {
    "collapsed": true
   },
   "outputs": [],
   "source": [
    "C = np.array([\n",
    "    [3, 2],\n",
    "    [1, 0],\n",
    "    [0, 4],\n",
    "    [5, 6],\n",
    "])"
   ]
  },
  {
   "cell_type": "code",
   "execution_count": 174,
   "metadata": {},
   "outputs": [
    {
     "data": {
      "text/plain": [
       "157.30000000000001"
      ]
     },
     "execution_count": 174,
     "metadata": {},
     "output_type": "execute_result"
    }
   ],
   "source": [
    "np.sum(np.dot(C, P) + b)"
   ]
  },
  {
   "cell_type": "code",
   "execution_count": 175,
   "metadata": {
    "collapsed": true
   },
   "outputs": [],
   "source": [
    "l_fruit = MatMul()\n",
    "v_fruit = l_fruit.forward(C, P)\n",
    "l_bag = MatAdd()\n",
    "v_bag = l_bag.forward(v_fruit, b)\n",
    "\n",
    "d_v_fruit, d_b = l_bag.backward(np.ones((4, 3)))\n",
    "dC, dP = l_fruit.backward(d_v_fruit)"
   ]
  },
  {
   "cell_type": "code",
   "execution_count": 176,
   "metadata": {},
   "outputs": [
    {
     "name": "stdout",
     "output_type": "stream",
     "text": [
      "dC:\n",
      "[[ 4.5  9. ]\n",
      " [ 4.5  9. ]\n",
      " [ 4.5  9. ]\n",
      " [ 4.5  9. ]]\n",
      "dP:\n",
      "[[  9.   9.   9.]\n",
      " [ 12.  12.  12.]]\n",
      "d_b:\n",
      "[ 4.  4.  4.]\n"
     ]
    }
   ],
   "source": [
    "print(\"dC:\")\n",
    "print(dC)\n",
    "print(\"dP:\")\n",
    "print(dP)\n",
    "print(\"d_b:\")\n",
    "print(d_b)"
   ]
  },
  {
   "cell_type": "code",
   "execution_count": 177,
   "metadata": {},
   "outputs": [
    {
     "data": {
      "text/plain": [
       "157.30000000000001"
      ]
     },
     "execution_count": 177,
     "metadata": {},
     "output_type": "execute_result"
    }
   ],
   "source": [
    "# Original\n",
    "C = np.array([\n",
    "    [3, 2],\n",
    "    [1, 0],\n",
    "    [0, 4],\n",
    "    [5, 6],\n",
    "])\n",
    "P = np.array([\n",
    "    [1.5, 1.0, 2.0],\n",
    "    [3.0, 2.0, 4.0]\n",
    "])\n",
    "b = np.array([0.5, 1.0, 0.7])\n",
    "np.sum(np.dot(C, P) + b)"
   ]
  },
  {
   "cell_type": "code",
   "execution_count": 178,
   "metadata": {},
   "outputs": [
    {
     "data": {
      "text/plain": [
       "161.30000000000001"
      ]
     },
     "execution_count": 178,
     "metadata": {},
     "output_type": "execute_result"
    }
   ],
   "source": [
    "# CA bag price increase\n",
    "C2 = np.array([\n",
    "    [3, 2],\n",
    "    [1, 0],\n",
    "    [0, 4],\n",
    "    [5, 6],\n",
    "])\n",
    "P2 = np.array([\n",
    "    [1.5, 1.0, 2.0],\n",
    "    [3.0, 2.0, 4.0]\n",
    "])\n",
    "b2 = np.array([1.5, 1.0, 0.7])\n",
    "np.sum(np.dot(C2, P2) + b2)"
   ]
  },
  {
   "cell_type": "code",
   "execution_count": 179,
   "metadata": {},
   "outputs": [
    {
     "data": {
      "text/plain": [
       "166.30000000000001"
      ]
     },
     "execution_count": 179,
     "metadata": {},
     "output_type": "execute_result"
    }
   ],
   "source": [
    "# Original\n",
    "C2 = np.array([\n",
    "    [3, 3],\n",
    "    [1, 0],\n",
    "    [0, 4],\n",
    "    [5, 6],\n",
    "])\n",
    "P2 = np.array([\n",
    "    [1.5, 1.0, 2.0],\n",
    "    [3.0, 2.0, 4.0]\n",
    "])\n",
    "b2 = np.array([0.5, 1.0, 0.7])\n",
    "np.sum(np.dot(C2, P2) + b2)"
   ]
  }
 ],
 "metadata": {
  "kernelspec": {
   "display_name": "Python 3",
   "language": "python",
   "name": "python3"
  },
  "language_info": {
   "codemirror_mode": {
    "name": "ipython",
    "version": 3
   },
   "file_extension": ".py",
   "mimetype": "text/x-python",
   "name": "python",
   "nbconvert_exporter": "python",
   "pygments_lexer": "ipython3",
   "version": "3.6.2"
  }
 },
 "nbformat": 4,
 "nbformat_minor": 2
}
