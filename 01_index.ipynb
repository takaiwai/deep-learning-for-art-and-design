{
 "cells": [
  {
   "cell_type": "markdown",
   "metadata": {},
   "source": [
    "# Deep Learning Notes"
   ]
  },
  {
   "cell_type": "markdown",
   "metadata": {},
   "source": [
    "Contents I'd like to cover\n",
    "\n",
    "* Motivational examples\n",
    "* Optimization\n",
    "* Numerical gradient\n",
    "* 2 layer neural net\n",
    "* Backprop and computational graph\n",
    "    * Gradient check\n",
    "* Training techniquies\n",
    "    * Optimizers\n",
    "    * Deeper network\n",
    "    * Activation functions\n",
    "    * Initializations\n",
    "    * Batch Normalizations\n",
    "    * Regularizations\n",
    "* Convolutional Neural Networks\n",
    "    * Conv layer\n",
    "    * Pooling layer\n",
    "* More training techniques\n",
    "    * Data argumentation\n",
    "    * Ensamble learning"
   ]
  },
  {
   "cell_type": "markdown",
   "metadata": {},
   "source": [
    "Appendix\n",
    "\n",
    "* Math\n",
    "* Python\n",
    "* NumPy\n",
    "* Matplotlib\n",
    "* MNIST\n",
    "* TensorFlow"
   ]
  },
  {
   "cell_type": "code",
   "execution_count": null,
   "metadata": {
    "collapsed": true
   },
   "outputs": [],
   "source": []
  }
 ],
 "metadata": {
  "kernelspec": {
   "display_name": "Python 3",
   "language": "python",
   "name": "python3"
  },
  "language_info": {
   "codemirror_mode": {
    "name": "ipython",
    "version": 3
   },
   "file_extension": ".py",
   "mimetype": "text/x-python",
   "name": "python",
   "nbconvert_exporter": "python",
   "pygments_lexer": "ipython3",
   "version": "3.6.2"
  }
 },
 "nbformat": 4,
 "nbformat_minor": 2
}
