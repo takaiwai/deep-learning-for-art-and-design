{
 "cells": [
  {
   "cell_type": "markdown",
   "metadata": {},
   "source": [
    "# Deep Learning Notes"
   ]
  },
  {
   "cell_type": "markdown",
   "metadata": {},
   "source": [
    "Contents I'd like to cover\n",
    "\n",
    "\n",
    "## 1. Inspirational Examples\n",
    "\n",
    "\n",
    "## 2. Optimization and Differentiation\n",
    "\n",
    "* Functions with one variable\n",
    "    * Quadratic functions\n",
    "    * Quartic function\n",
    "* Numerical differentiation\n",
    "\n",
    "\n",
    "## 3. Multi-variable Functions and Gradient\n",
    "\n",
    "* Functions with multiple variables\n",
    "* Numerical gradient\n",
    "\n",
    "\n",
    "## 4. Classification\n",
    "\n",
    "* Logistic regression\n",
    "\n",
    "\n",
    "## 5. Multi-class classification\n",
    "\n",
    "* Softmax\n",
    "\n",
    "\n",
    "## 6. Neural Networks for Non-linear Classification\n",
    "\n",
    "* Non-linear classification\n",
    "* 2 layer neural net\n",
    "\n",
    "\n",
    "## 7. MNIST and backpropagation\n",
    "\n",
    "* MNIST Dataset\n",
    "* Backprop and computational graph\n",
    "* Gradient check\n",
    "\n",
    "\n",
    "## 6. Training techniquies\n",
    "\n",
    "* Optimizers\n",
    "* Deeper network\n",
    "* Activation functions\n",
    "* Initializations\n",
    "* Batch Normalizations\n",
    "* Regularizations\n",
    "* Data argumentation\n",
    "* Ensamble learning\n",
    "\n",
    "## 7. Convolutional Neural Networks\n",
    "\n",
    "\n",
    "* 7-1. Convolution Layer\n",
    "* 7-2. Forward pass of conv layer\n",
    "* 7-3. Backward pass of conv layer\n",
    "* 7-4. Fast Forward pass with im2col\n",
    "* 7-5. Fast Backward pass with col2im\n",
    "* 7-6. Max Pooling layer\n",
    "* 7-7. Forward pass of max pooling layer\n",
    "* 7-8. Backward pass of max pooling layer\n",
    "\n",
    "\n",
    "## Appendix\n",
    "\n",
    "* Math\n",
    "* Python\n",
    "* NumPy\n",
    "* Matplotlib\n",
    "* MNIST\n",
    "* TensorFlow"
   ]
  },
  {
   "cell_type": "markdown",
   "metadata": {},
   "source": []
  },
  {
   "cell_type": "code",
   "execution_count": null,
   "metadata": {
    "collapsed": true
   },
   "outputs": [],
   "source": []
  }
 ],
 "metadata": {
  "kernelspec": {
   "display_name": "Python 3",
   "language": "python",
   "name": "python3"
  },
  "language_info": {
   "codemirror_mode": {
    "name": "ipython",
    "version": 3
   },
   "file_extension": ".py",
   "mimetype": "text/x-python",
   "name": "python",
   "nbconvert_exporter": "python",
   "pygments_lexer": "ipython3",
   "version": "3.6.2"
  }
 },
 "nbformat": 4,
 "nbformat_minor": 2
}
