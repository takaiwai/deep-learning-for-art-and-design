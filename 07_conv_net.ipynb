{
 "cells": [
  {
   "cell_type": "code",
   "execution_count": 1,
   "metadata": {
    "collapsed": true
   },
   "outputs": [],
   "source": [
    "import numpy as np\n",
    "import tensorflow as tf"
   ]
  },
  {
   "cell_type": "code",
   "execution_count": 65,
   "metadata": {},
   "outputs": [],
   "source": [
    "X = tf.constant([1, 2, 3, 4, 5, 6, 7, 8, 9], dtype=tf.float32)\n",
    "X2 = tf.reshape(X, [-1, 3, 3, 1])\n",
    "\n",
    "W = np.array([\n",
    "    [[[1.0, 5.0]], [[2.0, 6.0]]],\n",
    "    [[[2.0, 7.0]], [[1.0, 8.0]]]\n",
    "])\n",
    "W2 = tf.constant(W, dtype=tf.float32)\n",
    "\n",
    "conv = tf.nn.conv2d(X2, W2, strides=[1, 1, 1, 1], padding='VALID')"
   ]
  },
  {
   "cell_type": "code",
   "execution_count": 68,
   "metadata": {},
   "outputs": [
    {
     "name": "stdout",
     "output_type": "stream",
     "text": [
      "--X2.shape--\n",
      "(1, 3, 3, 1)\n",
      "X2\n",
      "[[ 1.  2.  3.]\n",
      " [ 4.  5.  6.]\n",
      " [ 7.  8.  9.]]\n",
      "\n",
      "--W2.shape--\n",
      "(2, 2, 1, 2)\n",
      "W2 first\n",
      "[[ 1.  2.]\n",
      " [ 2.  1.]]\n",
      "W2 second\n",
      "[[ 5.  6.]\n",
      " [ 7.  8.]]\n",
      "\n",
      "--Convolution--\n",
      "(1, 2, 2, 2)\n",
      "First filter\n",
      "[[ 18.  24.]\n",
      " [ 36.  42.]]\n",
      "Second filter\n",
      "[[  85.  111.]\n",
      " [ 163.  189.]]\n"
     ]
    }
   ],
   "source": [
    "with tf.Session() as sess:\n",
    "    out = sess.run([X2, W2, conv])\n",
    "\n",
    "    \n",
    "    print(\"--X2.shape--\")\n",
    "    print(X2.shape)\n",
    "    print(\"X2\")\n",
    "    print(out[0][0, :, :, 0])\n",
    "    print('')\n",
    "    \n",
    "    print(\"--W2.shape--\")\n",
    "    print(W2.shape)\n",
    "    print(\"W2 first\")\n",
    "    print(out[1][:, :, 0, 0])\n",
    "    print(\"W2 second\")\n",
    "    print(out[1][:, :, 0, 1])\n",
    "    print('')\n",
    "    \n",
    "    print(\"--Convolution--\")\n",
    "    print(out[2].shape)\n",
    "    print(\"First filter\")\n",
    "    print(out[2][0, :, :, 0])\n",
    "    \n",
    "    print(\"Second filter\")\n",
    "    print(out[2][0, :, :, 1])"
   ]
  },
  {
   "cell_type": "markdown",
   "metadata": {},
   "source": [
    "[tf.nn.conv2d](https://www.tensorflow.org/api_docs/python/tf/nn/conv2d)"
   ]
  },
  {
   "cell_type": "code",
   "execution_count": null,
   "metadata": {
    "collapsed": true
   },
   "outputs": [],
   "source": []
  }
 ],
 "metadata": {
  "kernelspec": {
   "display_name": "Python 3",
   "language": "python",
   "name": "python3"
  },
  "language_info": {
   "codemirror_mode": {
    "name": "ipython",
    "version": 3
   },
   "file_extension": ".py",
   "mimetype": "text/x-python",
   "name": "python",
   "nbconvert_exporter": "python",
   "pygments_lexer": "ipython3",
   "version": "3.6.2"
  }
 },
 "nbformat": 4,
 "nbformat_minor": 2
}
