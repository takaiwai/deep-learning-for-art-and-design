{
 "cells": [
  {
   "cell_type": "code",
   "execution_count": 1,
   "metadata": {
    "collapsed": true
   },
   "outputs": [],
   "source": [
    "import numpy as np\n",
    "%matplotlib inline\n",
    "from mpl_toolkits import mplot3d\n",
    "import matplotlib.pyplot as plt\n",
    "import pickle"
   ]
  },
  {
   "cell_type": "markdown",
   "metadata": {},
   "source": [
    "# 8.9 Ensemble Learning"
   ]
  },
  {
   "cell_type": "markdown",
   "metadata": {},
   "source": [
    "## Solo"
   ]
  },
  {
   "cell_type": "code",
   "execution_count": 19,
   "metadata": {},
   "outputs": [],
   "source": [
    "plt.rcParams['figure.figsize'] = [6.0, 4.0]"
   ]
  },
  {
   "cell_type": "code",
   "execution_count": 20,
   "metadata": {},
   "outputs": [
    {
     "name": "stdout",
     "output_type": "stream",
     "text": [
      "0.9646\n",
      "0.9684\n",
      "0.9651\n",
      "0.9699\n",
      "0.9637\n"
     ]
    },
    {
     "data": {
      "image/png": "[encoded data removed]",
      "text/plain": [
       "<matplotlib.figure.Figure at 0x112436438>"
      ]
     },
     "metadata": {},
     "output_type": "display_data"
    }
   ],
   "source": [
    "acc = []\n",
    "labels = []\n",
    "\n",
    "for i in range(1, 6):\n",
    "    a = pickle.load(open('code/08_techniques/08_9_ensemble_learning/seven_layer_{}_log.pkl'.format(i), \"rb\"))['test_acc']\n",
    "    acc.append(a * 100)\n",
    "    print(a)\n",
    "    labels.append(\"net {}\".format(i))\n",
    "\n",
    "plt.bar([0, 1, 2, 3, 4], acc, tick_label=labels)\n",
    "plt.ylim(95, 98)\n",
    "plt.show()"
   ]
  },
  {
   "cell_type": "markdown",
   "metadata": {},
   "source": [
    "## Ensemble"
   ]
  },
  {
   "cell_type": "code",
   "execution_count": 17,
   "metadata": {},
   "outputs": [
    {
     "name": "stdout",
     "output_type": "stream",
     "text": [
      "0.9788\n"
     ]
    },
    {
     "data": {
      "image/png": "[encoded data removed]",
      "text/plain": [
       "<matplotlib.figure.Figure at 0x111a924e0>"
      ]
     },
     "metadata": {},
     "output_type": "display_data"
    }
   ],
   "source": [
    "acc = []\n",
    "labels = []\n",
    "\n",
    "for i in range(1, 6):\n",
    "    a = pickle.load(open('code/08_techniques/08_9_ensemble_learning/seven_layer_{}_log.pkl'.format(i), \"rb\"))['test_acc']\n",
    "    acc.append(a * 100)\n",
    "    labels.append(\"net {}\".format(i))\n",
    "\n",
    "a = pickle.load(open('code/08_techniques/08_9_ensemble_learning/ensemble_{}_log.pkl'.format(5), \"rb\"))['test_acc']\n",
    "print(a)\n",
    "acc.append(a * 100)\n",
    "labels.append(\"ensemble {}\".format(5))\n",
    "    \n",
    "plt.bar([0, 1, 2, 3, 4, 5], acc, tick_label=labels)\n",
    "plt.ylim(95, 98)\n",
    "plt.show()"
   ]
  },
  {
   "cell_type": "markdown",
   "metadata": {},
   "source": [
    "## 25 experiments"
   ]
  },
  {
   "cell_type": "code",
   "execution_count": 27,
   "metadata": {
    "collapsed": true
   },
   "outputs": [],
   "source": [
    "plt.rcParams['figure.figsize'] = [18.0, 4.0]"
   ]
  },
  {
   "cell_type": "code",
   "execution_count": 53,
   "metadata": {},
   "outputs": [
    {
     "data": {
      "image/png": "[encoded data removed]",
      "text/plain": [
       "<matplotlib.figure.Figure at 0x1120bb748>"
      ]
     },
     "metadata": {},
     "output_type": "display_data"
    }
   ],
   "source": [
    "acc_solo = []\n",
    "labels_solo = []\n",
    "x_solo = []\n",
    "\n",
    "for i in range(50):\n",
    "    a = pickle.load(open('code/08_techniques/08_9_ensemble_learning/solo_{}_log.pkl'.format(i), \"rb\"))['test_acc']\n",
    "    acc_solo.append(a * 100)\n",
    "    labels_solo.append(\"s{}\".format(i))\n",
    "    x_solo.append(i)\n",
    "\n",
    "acc_ens = []\n",
    "labels_ens = []\n",
    "x_ens = []\n",
    "\n",
    "for i in range(2, 5):\n",
    "    index = i\n",
    "    a = pickle.load(open('code/08_techniques/08_9_ensemble_learning/compare_{}_log.pkl'.format(index), \"rb\"))['test_acc']\n",
    "    acc_ens.append(a * 100)\n",
    "    labels_ens.append(\"{}\".format(index))\n",
    "    x_ens.append(48 + i)\n",
    "    \n",
    "for i in range(1, 11):\n",
    "    index = i * 5\n",
    "    a = pickle.load(open('code/08_techniques/08_9_ensemble_learning/compare_{}_log.pkl'.format(index), \"rb\"))['test_acc']\n",
    "    acc_ens.append(a * 100)\n",
    "    labels_ens.append(\"{}\".format(index))\n",
    "    x_ens.append(49 + 3 + i)\n",
    "\n",
    "plt.bar(x_solo, acc_solo, tick_label=labels_solo)\n",
    "plt.bar(x_ens, acc_ens, tick_label=labels_ens)\n",
    "plt.ylim(95, 98.5)\n",
    "plt.show()"
   ]
  },
  {
   "cell_type": "code",
   "execution_count": 54,
   "metadata": {},
   "outputs": [
    {
     "name": "stdout",
     "output_type": "stream",
     "text": [
      "96.7474\n"
     ]
    }
   ],
   "source": [
    "print(np.mean(acc_solo))"
   ]
  },
  {
   "cell_type": "code",
   "execution_count": 57,
   "metadata": {},
   "outputs": [
    {
     "name": "stdout",
     "output_type": "stream",
     "text": [
      "98.13\n"
     ]
    }
   ],
   "source": [
    "print(np.max(acc_ens))"
   ]
  },
  {
   "cell_type": "code",
   "execution_count": 58,
   "metadata": {},
   "outputs": [
    {
     "data": {
      "text/plain": [
       "1.3825999999999823"
      ]
     },
     "execution_count": 58,
     "metadata": {},
     "output_type": "execute_result"
    }
   ],
   "source": [
    "np.max(acc_ens) - np.mean(acc_solo)"
   ]
  },
  {
   "cell_type": "code",
   "execution_count": null,
   "metadata": {
    "collapsed": true
   },
   "outputs": [],
   "source": []
  }
 ],
 "metadata": {
  "kernelspec": {
   "display_name": "Python 3",
   "language": "python",
   "name": "python3"
  },
  "language_info": {
   "codemirror_mode": {
    "name": "ipython",
    "version": 3
   },
   "file_extension": ".py",
   "mimetype": "text/x-python",
   "name": "python",
   "nbconvert_exporter": "python",
   "pygments_lexer": "ipython3",
   "version": "3.6.2"
  }
 },
 "nbformat": 4,
 "nbformat_minor": 2
}
