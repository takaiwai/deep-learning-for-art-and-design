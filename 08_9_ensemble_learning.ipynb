{
 "cells": [
  {
   "cell_type": "code",
   "execution_count": 1,
   "metadata": {
    "collapsed": true
   },
   "outputs": [],
   "source": [
    "import numpy as np\n",
    "%matplotlib inline\n",
    "from mpl_toolkits import mplot3d\n",
    "import matplotlib.pyplot as plt\n",
    "import pickle"
   ]
  },
  {
   "cell_type": "markdown",
   "metadata": {},
   "source": [
    "# 8.9 Ensemble Learning"
   ]
  },
  {
   "cell_type": "markdown",
   "metadata": {},
   "source": [
    "## Solo"
   ]
  },
  {
   "cell_type": "code",
   "execution_count": 14,
   "metadata": {},
   "outputs": [
    {
     "data": {
      "image/png": "[encoded data removed]",
      "text/plain": [
       "<matplotlib.figure.Figure at 0x11210aef0>"
      ]
     },
     "metadata": {},
     "output_type": "display_data"
    }
   ],
   "source": [
    "acc = []\n",
    "labels = []\n",
    "\n",
    "for i in range(1, 6):\n",
    "    a = pickle.load(open('code/08_techniques/08_9_ensemble_learning/seven_layer_{}_log.pkl'.format(i), \"rb\"))['test_acc']\n",
    "    acc.append(a * 100)\n",
    "    labels.append(\"net {}\".format(i))\n",
    "\n",
    "plt.bar([0, 1, 2, 3, 4], acc, tick_label=labels)\n",
    "plt.ylim(95, 98)\n",
    "plt.show()"
   ]
  },
  {
   "cell_type": "markdown",
   "metadata": {},
   "source": [
    "## Ensemble"
   ]
  },
  {
   "cell_type": "code",
   "execution_count": null,
   "metadata": {
    "collapsed": true
   },
   "outputs": [],
   "source": [
    "acc = []\n",
    "labels = []\n",
    "\n",
    "for i in range(1, 6):\n",
    "    a = pickle.load(open('code/08_techniques/08_9_ensemble_learning/seven_layer_{}_log.pkl'.format(i), \"rb\"))['test_acc']\n",
    "    acc.append(a * 100)\n",
    "    labels.append(\"net {}\".format(i))\n",
    "\n",
    "a = pickle.load(open('code/08_techniques/08_9_ensemble_learning/ensemble_{}_log.pkl'.format(5), \"rb\"))['test_acc']\n",
    "acc.append(a * 100)\n",
    "labels.append(\"net {}\".format(i))\n",
    "    \n",
    "plt.bar([0, 1, 2, 3, 4, 5], acc, tick_label=labels)\n",
    "plt.ylim(95, 98)\n",
    "plt.show()"
   ]
  }
 ],
 "metadata": {
  "kernelspec": {
   "display_name": "Python 3",
   "language": "python",
   "name": "python3"
  },
  "language_info": {
   "codemirror_mode": {
    "name": "ipython",
    "version": 3
   },
   "file_extension": ".py",
   "mimetype": "text/x-python",
   "name": "python",
   "nbconvert_exporter": "python",
   "pygments_lexer": "ipython3",
   "version": "3.6.2"
  }
 },
 "nbformat": 4,
 "nbformat_minor": 2
}
