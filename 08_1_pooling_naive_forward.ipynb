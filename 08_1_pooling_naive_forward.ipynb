{
 "cells": [
  {
   "cell_type": "code",
   "execution_count": 3,
   "metadata": {
    "collapsed": true
   },
   "outputs": [],
   "source": [
    "import numpy as np\n",
    "import tensorflow as tf"
   ]
  },
  {
   "cell_type": "markdown",
   "metadata": {},
   "source": [
    "# Notation\n",
    "\n",
    "Max pooling reduces the width and height of given volumes.\n",
    "\n",
    "\n",
    "| Symbols                   | Meaning               | Size                                              |\n",
    "|:--------------------------|:----------------------|:--------------------------------------------------|\n",
    "| $\\boldsymbol{X}$          | 2D Input Matrix       | $(H_{in}$, $W_{in})$                              |\n",
    "| $\\boldsymbol{\\mathsf{X}}$ | 3D Input Tensor       | $(H_{in}$, $W_{in}$, $C_{in})$                    |\n",
    "| $\\boldsymbol{\\mathsf{X}}$ | 4D Input Tensor       | $(N_{batch}$, $H_{in}$, $W_{in}$, $C_{in})$       |\n",
    "| $\\boldsymbol{Y}$          | 2D Output Matrix      | $(H_{out}$, $W_{out})$                            |\n",
    "| $\\boldsymbol{\\mathsf{Y}}$ | 3D Output Tensor      | $(H_{out}$, $W_{out}$, $C_{out})$                 |\n",
    "| $\\boldsymbol{\\mathsf{Y}}$ | 4D Output Tensor      | $(N_{batch}$, $H_{out}$, $W_{out}$, $C_{out})$    |\n",
    "\n",
    "As opposed to convolution, max pooling doesn't have any learnable parameters,\n",
    "so there's no $\\boldsymbol{\\mathsf{W}}$ or $\\boldsymbol{b}$ in the list of notation above."
   ]
  },
  {
   "cell_type": "markdown",
   "metadata": {},
   "source": [
    "# 08-1: Max Pooling Forward Pass"
   ]
  },
  {
   "cell_type": "markdown",
   "metadata": {},
   "source": [
    "Try calculation with NumPy and TensorFlow for the followings\n",
    "\n",
    "#### 1. Max Pooling with stride\n",
    "$(4 \\times 4) \\rightarrow (2 \\times 2)$ where $S=2$\n",
    "\n",
    "#### 2. Multiple Channels\n",
    "$(4 \\times 4 \\times 3) \\rightarrow (2 \\times 2 \\times 3)$ where $S=2$\n",
    "\n",
    "#### 3. Mini-batch\n",
    "$(4 \\times 4 \\times 4 \\times 3) \\rightarrow (4 \\times 2 \\times 2 \\times 3)$ where $S=2$"
   ]
  },
  {
   "cell_type": "code",
   "execution_count": 4,
   "metadata": {
    "collapsed": true
   },
   "outputs": [],
   "source": [
    "def float_sequence(size):\n",
    "    return np.arange(size, dtype=np.float32)"
   ]
  },
  {
   "cell_type": "markdown",
   "metadata": {},
   "source": [
    "## 1. Max Pooling with stride\n",
    "$(4 \\times 4) \\rightarrow (2 \\times 2)$ where $S=2$\n",
    "\n",
    "TensorFlow: [tf.nn.max_pool](https://www.tensorflow.org/api_docs/python/tf/nn/max_pool)\n",
    "\n",
    "For the size of output width and height, the same fomula as convolution operation hold.\n",
    "\n",
    "$$\n",
    "H_{out} = \\frac{H_{in} + 2P - H_{filter}}{S} + 1\n",
    "$$\n",
    "\n",
    "$$\n",
    "W_{out} = \\frac{W_{in} + 2P - F_{filter}}{S} + 1\n",
    "$$\n",
    "\n",
    "However, padding $P$ is not used in max pooling, and often filter size $H_{filter}$ and $F_{filter}$ is the same as stride $S$.\n",
    "As a result, the size can be calculated as follwing.\n",
    "\n",
    "$$\n",
    "H_{out} = \\frac{H_{in}}{S}\n",
    "$$\n",
    "\n",
    "$$\n",
    "W_{out} = \\frac{W_{in}}{S}\n",
    "$$"
   ]
  },
  {
   "cell_type": "code",
   "execution_count": 13,
   "metadata": {},
   "outputs": [
    {
     "name": "stdout",
     "output_type": "stream",
     "text": [
      "=== X ===\n",
      "[[  0.   1.   2.   3.]\n",
      " [  4.   5.   6.   7.]\n",
      " [  8.   9.  10.  11.]\n",
      " [ 12.  13.  14.  15.]]\n",
      "=== Y ===\n",
      "[[  5.   7.]\n",
      " [ 13.  15.]]\n",
      "=== Y (TF) ===\n",
      "[[  5.   7.]\n",
      " [ 13.  15.]]\n",
      "=== Matched? ===\n",
      "True\n"
     ]
    }
   ],
   "source": [
    "X = float_sequence(4*4).reshape(4,4)\n",
    "S = 2\n",
    "\n",
    "H_out = 4 // S\n",
    "W_out = 4 // S\n",
    "\n",
    "print(\"=== X ===\")\n",
    "print(X)\n",
    "\n",
    "Y = np.zeros((H_out, W_out))\n",
    "for h in range(W_out):\n",
    "    for w in range(W_out):\n",
    "        h_start = h * S\n",
    "        h_end   = h_start + S\n",
    "        w_start = w * S\n",
    "        w_end   = w_start + S\n",
    "        \n",
    "        X_slice = X[h_start:h_end, w_start:w_end]\n",
    "        #print(X_slice)\n",
    "        Y[h,w] = np.max(X_slice)\n",
    "\n",
    "print(\"=== Y ===\")     \n",
    "print(Y)\n",
    "\n",
    "with tf.Session() as sess:\n",
    "    Y_tf = sess.run(tf.nn.max_pool(\n",
    "        X.reshape(1, 4, 4, 1),\n",
    "        ksize=[1, S, S, 1],\n",
    "        strides=[1, S, S, 1],\n",
    "        padding='VALID'\n",
    "    ))\n",
    "    print(\"=== Y (TF) ===\")     \n",
    "    print(Y_tf[0, :, :, 0])\n",
    "\n",
    "print(\"=== Matched? ===\")    \n",
    "print(np.all(Y == Y_tf[0, :, :, 0]))"
   ]
  },
  {
   "cell_type": "markdown",
   "metadata": {},
   "source": [
    "## 2. Multiple Channels\n",
    "$(4 \\times 4 \\times 3) \\rightarrow (2 \\times 2 \\times 3)$ where $S=2$"
   ]
  },
  {
   "cell_type": "code",
   "execution_count": 31,
   "metadata": {},
   "outputs": [
    {
     "name": "stdout",
     "output_type": "stream",
     "text": [
      "=== Y ===\n",
      "[[[ 15.  21.]\n",
      "  [ 39.  45.]]\n",
      "\n",
      " [[ 16.  22.]\n",
      "  [ 40.  46.]]\n",
      "\n",
      " [[ 17.  23.]\n",
      "  [ 41.  47.]]]\n",
      "=== Y (TF) ===\n",
      "[[[ 15.  21.]\n",
      "  [ 39.  45.]]\n",
      "\n",
      " [[ 16.  22.]\n",
      "  [ 40.  46.]]\n",
      "\n",
      " [[ 17.  23.]\n",
      "  [ 41.  47.]]]\n",
      "=== Matched? ===\n",
      "True\n"
     ]
    }
   ],
   "source": [
    "X = float_sequence(4*4*3).reshape(4,4,3)\n",
    "\n",
    "S = 2\n",
    "\n",
    "H_out = 4 // S\n",
    "W_out = 4 // S\n",
    "\n",
    "# print(\"=== X ===\")\n",
    "# print(X.transpose(2, 0, 1))\n",
    "\n",
    "Y = np.zeros((H_out, W_out, 3))\n",
    "for h in range(W_out):\n",
    "    for w in range(W_out):\n",
    "        h_start = h * S\n",
    "        h_end   = h_start + S\n",
    "        w_start = w * S\n",
    "        w_end   = w_start + S\n",
    "        \n",
    "        X_slice = X[h_start:h_end, w_start:w_end, :]\n",
    "#         print(\"slice: \", X_slice.shape)\n",
    "#         print(np.max(X_slice, axis=(0,1)))\n",
    "        Y[h,w, :] = np.max(X_slice, axis=(0,1))\n",
    "\n",
    "print(\"=== Y ===\")     \n",
    "print(Y.transpose(2,0,1))\n",
    "\n",
    "with tf.Session() as sess:\n",
    "    Y_tf = sess.run(tf.nn.max_pool(\n",
    "        X.reshape(1, 4, 4, 3),\n",
    "        ksize=[1, S, S, 1],\n",
    "        strides=[1, S, S, 1],\n",
    "        padding='VALID'\n",
    "    ))\n",
    "    print(\"=== Y (TF) ===\")     \n",
    "    print(Y_tf[0, :, :, :].transpose(2,0,1))\n",
    "\n",
    "print(\"=== Matched? ===\")    \n",
    "print(np.all(Y == Y_tf[0, :, :, :]))"
   ]
  },
  {
   "cell_type": "markdown",
   "metadata": {},
   "source": [
    "## 3. Mini-batch\n",
    "$(4 \\times 4 \\times 4 \\times 3) \\rightarrow (4 \\times 2 \\times 2 \\times 3)$ where $S=2$"
   ]
  },
  {
   "cell_type": "code",
   "execution_count": 42,
   "metadata": {},
   "outputs": [
    {
     "name": "stdout",
     "output_type": "stream",
     "text": [
      "=== X (first) ===\n",
      "[[[  0.   3.   6.   9.]\n",
      "  [ 12.  15.  18.  21.]\n",
      "  [ 24.  27.  30.  33.]\n",
      "  [ 36.  39.  42.  45.]]\n",
      "\n",
      " [[  1.   4.   7.  10.]\n",
      "  [ 13.  16.  19.  22.]\n",
      "  [ 25.  28.  31.  34.]\n",
      "  [ 37.  40.  43.  46.]]\n",
      "\n",
      " [[  2.   5.   8.  11.]\n",
      "  [ 14.  17.  20.  23.]\n",
      "  [ 26.  29.  32.  35.]\n",
      "  [ 38.  41.  44.  47.]]]\n",
      "=== Y (first) ===\n",
      "[[[ 15.  21.]\n",
      "  [ 39.  45.]]\n",
      "\n",
      " [[ 16.  22.]\n",
      "  [ 40.  46.]]\n",
      "\n",
      " [[ 17.  23.]\n",
      "  [ 41.  47.]]]\n",
      "=== Y (TF, 1st) ===\n",
      "[[[ 15.  21.]\n",
      "  [ 39.  45.]]\n",
      "\n",
      " [[ 16.  22.]\n",
      "  [ 40.  46.]]\n",
      "\n",
      " [[ 17.  23.]\n",
      "  [ 41.  47.]]]\n",
      "=== Matched? ===\n",
      "True\n"
     ]
    }
   ],
   "source": [
    "X = float_sequence(4*4*4*3).reshape(4,4,4,3)\n",
    "\n",
    "S = 2\n",
    "\n",
    "H_out = 4 // S\n",
    "W_out = 4 // S\n",
    "\n",
    "print(\"=== X (first) ===\")\n",
    "print(X[0, :, :, :].transpose(2, 0, 1))\n",
    "\n",
    "Y = np.zeros((4, H_out, W_out, 3))\n",
    "for h in range(W_out):\n",
    "    for w in range(W_out):\n",
    "        h_start = h * S\n",
    "        h_end   = h_start + S\n",
    "        w_start = w * S\n",
    "        w_end   = w_start + S\n",
    "        \n",
    "        X_slice = X[:, h_start:h_end, w_start:w_end, :]\n",
    "#         print(\"slice: \", X_slice.shape)\n",
    "#         print(X_slice)\n",
    "#         print(np.max(X_slice, axis=(1,2)))\n",
    "        Y[:, h, w, :] = np.max(X_slice, axis=(1,2))\n",
    "\n",
    "print(\"=== Y (first) ===\")     \n",
    "print(Y[0, :, :, :].transpose(2,0,1))\n",
    "\n",
    "with tf.Session() as sess:\n",
    "#     Y_tf = sess.run(tf.nn.max_pool(\n",
    "#         X,\n",
    "#         ksize=[1, S, S, 1],\n",
    "#         strides=[1, S, S, 1],\n",
    "#         padding='VALID'\n",
    "#     ))\n",
    "#     print(\"=== Y (TF, 1st) ===\")     \n",
    "#     print(Y_tf[0, :, :, :].transpose(2, 0, 1))\n",
    "\n",
    "print(\"=== Matched? ===\")    \n",
    "print(np.all(Y == Y_tf))"
   ]
  },
  {
   "cell_type": "markdown",
   "metadata": {},
   "source": [
    "# Generalize naive convolution foward"
   ]
  },
  {
   "cell_type": "code",
   "execution_count": 48,
   "metadata": {
    "collapsed": true
   },
   "outputs": [],
   "source": [
    "def max_pool_naive_foward(X, S):\n",
    "    N_batch, H_in, W_in, C_in = X.shape\n",
    "    \n",
    "    H_out = H_in // S\n",
    "    W_out = W_in // S\n",
    "\n",
    "    Y = np.zeros((N_batch, H_out, W_out, C_in))\n",
    "    for h in range(W_out):\n",
    "        h_start = h * S\n",
    "        h_end   = h_start + S\n",
    "        for w in range(W_out):\n",
    "            w_start = w * S\n",
    "            w_end   = w_start + S\n",
    "            X_slice = X[:, h_start:h_end, w_start:w_end, :]\n",
    "            Y[:, h, w, :] = np.max(X_slice, axis=(1,2))\n",
    "\n",
    "    return Y"
   ]
  },
  {
   "cell_type": "code",
   "execution_count": 49,
   "metadata": {},
   "outputs": [
    {
     "name": "stdout",
     "output_type": "stream",
     "text": [
      "=== Matched? ===\n",
      "True 0.0\n"
     ]
    }
   ],
   "source": [
    "S = 2\n",
    "X = np.random.randn(10, 8, 8, 3).astype(np.float32)\n",
    "\n",
    "Y = max_pool_naive_foward(X, S)\n",
    "\n",
    "with tf.Session() as sess:\n",
    "    Y_tf = sess.run(tf.nn.max_pool(\n",
    "        X,\n",
    "        ksize=[1, S, S, 1],\n",
    "        strides=[1, S, S, 1],\n",
    "        padding='VALID'\n",
    "    ))\n",
    "#     print(\"=== Y (TF, 1st) ===\")     \n",
    "    print(Y_tf[0, :, :, :].transpose(2, 0, 1))\n",
    "\n",
    "print(\"=== Matched? ===\")    \n",
    "check = np.linalg.norm(Y - Y_tf) / ((np.linalg.norm(Y) + np.linalg.norm(Y_tf)))\n",
    "print(check < 1e-7, check)"
   ]
  },
  {
   "cell_type": "markdown",
   "metadata": {},
   "source": [
    "# Benchmark"
   ]
  },
  {
   "cell_type": "code",
   "execution_count": 18,
   "metadata": {},
   "outputs": [
    {
     "name": "stdout",
     "output_type": "stream",
     "text": [
      "=== Matched? ===\n",
      "True 5.39970939486e-08\n"
     ]
    }
   ],
   "source": [
    "P = 1\n",
    "S = 1\n",
    "X = np.random.randn(128, 28, 28, 3).astype(np.float32)\n",
    "W = np.random.randn(3, 3, 3, 16).astype(np.float32)\n",
    "b = np.random.randn(16).astype(np.float32)\n",
    "\n",
    "Y = conv_naive_foward(X, W, b, P, S)\n",
    "\n",
    "with tf.Session() as sess:\n",
    "    Y_tf = sess.run(tf.nn.conv2d(\n",
    "        X,\n",
    "        W,\n",
    "        strides=[1, S, S, 1],\n",
    "        padding='SAME'\n",
    "    ) + b)\n",
    "\n",
    "print(\"=== Matched? ===\")    \n",
    "check = np.linalg.norm(Y - Y_tf) / ((np.linalg.norm(Y) + np.linalg.norm(Y_tf)))\n",
    "print(check < 1e-7, check)"
   ]
  },
  {
   "cell_type": "code",
   "execution_count": 19,
   "metadata": {},
   "outputs": [
    {
     "name": "stdout",
     "output_type": "stream",
     "text": [
      "8.58 s ± 23.9 ms per loop (mean ± std. dev. of 3 runs, 3 loops each)\n"
     ]
    }
   ],
   "source": [
    "%%timeit -n3 -r3\n",
    "\n",
    "conv_naive_foward(X, W, b, P, S)"
   ]
  },
  {
   "cell_type": "markdown",
   "metadata": {},
   "source": [
    "# Shape Test"
   ]
  },
  {
   "cell_type": "code",
   "execution_count": 38,
   "metadata": {},
   "outputs": [
    {
     "name": "stdout",
     "output_type": "stream",
     "text": [
      "(64, 11, 9, 32)\n",
      "=== Matched? ===\n",
      "True 1.4678668145e-07\n"
     ]
    }
   ],
   "source": [
    "P = 3\n",
    "S = 1\n",
    "X = np.random.randn(64, 11, 9, 16).astype(np.float32)\n",
    "W = np.random.randn(7, 7, 16, 32).astype(np.float32)\n",
    "b = np.random.randn(32).astype(np.float32)\n",
    "\n",
    "Y = conv_naive_foward(X, W, b, P, S)\n",
    "print(Y.shape)\n",
    "\n",
    "with tf.Session() as sess:\n",
    "    Y_tf = sess.run(tf.nn.conv2d(\n",
    "        X,\n",
    "        W,\n",
    "        strides=[1, S, S, 1],\n",
    "        padding='SAME'\n",
    "    ) + b)\n",
    "\n",
    "print(\"=== Matched? ===\")    \n",
    "check = np.linalg.norm(Y - Y_tf) / ((np.linalg.norm(Y) + np.linalg.norm(Y_tf)))\n",
    "print(check < 1e-5, check)"
   ]
  },
  {
   "cell_type": "code",
   "execution_count": 40,
   "metadata": {},
   "outputs": [
    {
     "name": "stdout",
     "output_type": "stream",
     "text": [
      "(4, 5, 7, 2)\n",
      "=== Matched? ===\n",
      "True 1.32524826708e-07\n"
     ]
    }
   ],
   "source": [
    "P = 0\n",
    "S = 5\n",
    "X = np.random.randn(4, 28, 46, 128).astype(np.float32)\n",
    "W = np.random.randn(8, 16, 128, 2).astype(np.float32)\n",
    "b = np.random.randn(2).astype(np.float32)\n",
    "\n",
    "Y = conv_naive_foward(X, W, b, P, S)\n",
    "print(Y.shape)\n",
    "\n",
    "with tf.Session() as sess:\n",
    "    Y_tf = sess.run(tf.nn.conv2d(\n",
    "        X,\n",
    "        W,\n",
    "        strides=[1, S, S, 1],\n",
    "        padding='VALID'\n",
    "    ) + b)\n",
    "\n",
    "print(\"=== Matched? ===\")    \n",
    "check = np.linalg.norm(Y - Y_tf) / ((np.linalg.norm(Y) + np.linalg.norm(Y_tf)))\n",
    "print(check < 1e-5, check)"
   ]
  },
  {
   "cell_type": "code",
   "execution_count": null,
   "metadata": {
    "collapsed": true
   },
   "outputs": [],
   "source": []
  }
 ],
 "metadata": {
  "kernelspec": {
   "display_name": "Python 3",
   "language": "python",
   "name": "python3"
  },
  "language_info": {
   "codemirror_mode": {
    "name": "ipython",
    "version": 3
   },
   "file_extension": ".py",
   "mimetype": "text/x-python",
   "name": "python",
   "nbconvert_exporter": "python",
   "pygments_lexer": "ipython3",
   "version": "3.6.2"
  }
 },
 "nbformat": 4,
 "nbformat_minor": 2
}
