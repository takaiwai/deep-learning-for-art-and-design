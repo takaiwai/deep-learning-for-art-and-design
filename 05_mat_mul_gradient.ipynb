{
 "cells": [
  {
   "cell_type": "code",
   "execution_count": 1,
   "metadata": {
    "collapsed": true
   },
   "outputs": [],
   "source": [
    "import numpy as np"
   ]
  },
  {
   "cell_type": "markdown",
   "metadata": {},
   "source": [
    "## Matrix-Vector Addition"
   ]
  },
  {
   "cell_type": "code",
   "execution_count": 2,
   "metadata": {
    "collapsed": true
   },
   "outputs": [],
   "source": [
    "X = np.array([\n",
    "    [1, 2, 3]\n",
    "])"
   ]
  },
  {
   "cell_type": "code",
   "execution_count": 3,
   "metadata": {},
   "outputs": [
    {
     "data": {
      "text/plain": [
       "array([[1, 2, 3]])"
      ]
     },
     "execution_count": 3,
     "metadata": {},
     "output_type": "execute_result"
    }
   ],
   "source": [
    "X"
   ]
  },
  {
   "cell_type": "code",
   "execution_count": 4,
   "metadata": {
    "collapsed": true
   },
   "outputs": [],
   "source": [
    "b = np.array([10, 20, 30])"
   ]
  },
  {
   "cell_type": "code",
   "execution_count": 5,
   "metadata": {},
   "outputs": [
    {
     "data": {
      "text/plain": [
       "array([10, 20, 30])"
      ]
     },
     "execution_count": 5,
     "metadata": {},
     "output_type": "execute_result"
    }
   ],
   "source": [
    "b"
   ]
  },
  {
   "cell_type": "code",
   "execution_count": 6,
   "metadata": {},
   "outputs": [
    {
     "data": {
      "text/plain": [
       "array([[11, 22, 33]])"
      ]
     },
     "execution_count": 6,
     "metadata": {},
     "output_type": "execute_result"
    }
   ],
   "source": [
    "X + b"
   ]
  },
  {
   "cell_type": "code",
   "execution_count": 7,
   "metadata": {
    "collapsed": true
   },
   "outputs": [],
   "source": [
    "X2 = np.array([\n",
    "    [1, 2, 3],\n",
    "    [4, 5, 6],\n",
    "    [7, 8, 9],\n",
    "    [10, 11, 12]\n",
    "])"
   ]
  },
  {
   "cell_type": "code",
   "execution_count": 8,
   "metadata": {},
   "outputs": [
    {
     "data": {
      "text/plain": [
       "array([[ 1,  2,  3],\n",
       "       [ 4,  5,  6],\n",
       "       [ 7,  8,  9],\n",
       "       [10, 11, 12]])"
      ]
     },
     "execution_count": 8,
     "metadata": {},
     "output_type": "execute_result"
    }
   ],
   "source": [
    "X2"
   ]
  },
  {
   "cell_type": "code",
   "execution_count": 9,
   "metadata": {},
   "outputs": [
    {
     "data": {
      "text/plain": [
       "array([[11, 22, 33],\n",
       "       [14, 25, 36],\n",
       "       [17, 28, 39],\n",
       "       [20, 31, 42]])"
      ]
     },
     "execution_count": 9,
     "metadata": {},
     "output_type": "execute_result"
    }
   ],
   "source": [
    "X2 + b"
   ]
  },
  {
   "cell_type": "markdown",
   "metadata": {},
   "source": [
    "## Matrix-Matrix Multiplication"
   ]
  },
  {
   "cell_type": "code",
   "execution_count": 10,
   "metadata": {
    "collapsed": true
   },
   "outputs": [],
   "source": [
    "X = np.array([\n",
    "    [1.0, 2.0, 3.0],\n",
    "    [4.0, 5.0, 6.0]\n",
    "])"
   ]
  },
  {
   "cell_type": "code",
   "execution_count": 11,
   "metadata": {},
   "outputs": [
    {
     "data": {
      "text/plain": [
       "array([[ 1.,  2.,  3.],\n",
       "       [ 4.,  5.,  6.]])"
      ]
     },
     "execution_count": 11,
     "metadata": {},
     "output_type": "execute_result"
    }
   ],
   "source": [
    "X"
   ]
  },
  {
   "cell_type": "code",
   "execution_count": 12,
   "metadata": {
    "collapsed": true
   },
   "outputs": [],
   "source": [
    "W = np.array([\n",
    "    [10.0, 20.0],\n",
    "    [30.0, 40.0],\n",
    "    [50.0, 60.0]\n",
    "])"
   ]
  },
  {
   "cell_type": "code",
   "execution_count": 13,
   "metadata": {},
   "outputs": [
    {
     "data": {
      "text/plain": [
       "array([[ 10.,  20.],\n",
       "       [ 30.,  40.],\n",
       "       [ 50.,  60.]])"
      ]
     },
     "execution_count": 13,
     "metadata": {},
     "output_type": "execute_result"
    }
   ],
   "source": [
    "W"
   ]
  },
  {
   "cell_type": "code",
   "execution_count": 14,
   "metadata": {},
   "outputs": [
    {
     "data": {
      "text/plain": [
       "array([[ 220.,  280.],\n",
       "       [ 490.,  640.]])"
      ]
     },
     "execution_count": 14,
     "metadata": {},
     "output_type": "execute_result"
    }
   ],
   "source": [
    "np.dot(X, W)"
   ]
  },
  {
   "cell_type": "code",
   "execution_count": 15,
   "metadata": {},
   "outputs": [
    {
     "data": {
      "text/plain": [
       "1630.0"
      ]
     },
     "execution_count": 15,
     "metadata": {},
     "output_type": "execute_result"
    }
   ],
   "source": [
    "np.sum(np.dot(X, W))"
   ]
  },
  {
   "cell_type": "markdown",
   "metadata": {},
   "source": [
    "## Function taking two matrices"
   ]
  },
  {
   "cell_type": "code",
   "execution_count": 16,
   "metadata": {
    "collapsed": true
   },
   "outputs": [],
   "source": [
    "def f(X, W):\n",
    "    return np.sum(np.dot(X, W))"
   ]
  },
  {
   "cell_type": "code",
   "execution_count": 17,
   "metadata": {},
   "outputs": [
    {
     "data": {
      "text/plain": [
       "1630.0"
      ]
     },
     "execution_count": 17,
     "metadata": {},
     "output_type": "execute_result"
    }
   ],
   "source": [
    "f(X, W)"
   ]
  },
  {
   "cell_type": "markdown",
   "metadata": {},
   "source": [
    "## Iteration over Numpy Array"
   ]
  },
  {
   "cell_type": "code",
   "execution_count": 18,
   "metadata": {},
   "outputs": [
    {
     "name": "stdout",
     "output_type": "stream",
     "text": [
      "1.0 (0, 0)\n",
      "===before==\n",
      "[[ 1.  2.  3.]\n",
      " [ 4.  5.  6.]]\n",
      "===after==\n",
      "[[ 2.  2.  3.]\n",
      " [ 4.  5.  6.]]\n",
      "2.0 (0, 1)\n",
      "===before==\n",
      "[[ 2.  2.  3.]\n",
      " [ 4.  5.  6.]]\n",
      "===after==\n",
      "[[ 2.  3.  3.]\n",
      " [ 4.  5.  6.]]\n",
      "3.0 (0, 2)\n",
      "===before==\n",
      "[[ 2.  3.  3.]\n",
      " [ 4.  5.  6.]]\n",
      "===after==\n",
      "[[ 2.  3.  4.]\n",
      " [ 4.  5.  6.]]\n",
      "4.0 (1, 0)\n",
      "===before==\n",
      "[[ 2.  3.  4.]\n",
      " [ 4.  5.  6.]]\n",
      "===after==\n",
      "[[ 2.  3.  4.]\n",
      " [ 5.  5.  6.]]\n",
      "5.0 (1, 1)\n",
      "===before==\n",
      "[[ 2.  3.  4.]\n",
      " [ 5.  5.  6.]]\n",
      "===after==\n",
      "[[ 2.  3.  4.]\n",
      " [ 5.  6.  6.]]\n",
      "6.0 (1, 2)\n",
      "===before==\n",
      "[[ 2.  3.  4.]\n",
      " [ 5.  6.  6.]]\n",
      "===after==\n",
      "[[ 2.  3.  4.]\n",
      " [ 5.  6.  7.]]\n"
     ]
    }
   ],
   "source": [
    "copyX = np.zeros_like(X)\n",
    "itr = np.nditer(X, flags=['multi_index'], op_flags=['writeonly'])\n",
    "while not itr.finished:\n",
    "#     itr[0] = it.multi_index[1] - it.multi_index[0]\n",
    "    print(itr[0], itr.multi_index)\n",
    "    print(\"===before==\")\n",
    "    print(X)\n",
    "    itr[0] += 1\n",
    "    copyX[itr.multi_index] = itr[0]\n",
    "    print(\"===after==\")\n",
    "    print(X)\n",
    "    itr.iternext()"
   ]
  },
  {
   "cell_type": "markdown",
   "metadata": {},
   "source": [
    "## Numerical Gradient of Matrices"
   ]
  },
  {
   "cell_type": "code",
   "execution_count": 19,
   "metadata": {
    "collapsed": true
   },
   "outputs": [],
   "source": [
    "def numerical_gradient(X, W):\n",
    "    h = 1e-4\n",
    "    dX = np.zeros_like(X)\n",
    "    dW = np.zeros_like(W)\n",
    "    \n",
    "    itr = np.nditer(X, flags=['multi_index'], op_flags=['readwrite'])\n",
    "    while not itr.finished:\n",
    "        original = itr[0].copy()\n",
    "        \n",
    "        itr[0] = original + h\n",
    "        v1 = f(X, W)\n",
    "        itr[0] = original - h\n",
    "        v2 = f(X, W)\n",
    "        dX[itr.multi_index] = (v1 - v2) / (2 * h)\n",
    "        \n",
    "        X[itr.multi_index] = original        \n",
    "        itr.iternext()\n",
    "\n",
    "    itr = np.nditer(W, flags=['multi_index'], op_flags=['readwrite'])\n",
    "    while not itr.finished:\n",
    "        original = itr[0].copy()\n",
    "        \n",
    "        itr[0] = original + h\n",
    "        v1 = f(X, W)\n",
    "        itr[0] = original - h\n",
    "        v2 = f(X, W)\n",
    "        dW[itr.multi_index] = (v1 - v2) / (2 * h)\n",
    "        \n",
    "        itr[0] = original\n",
    "        itr.iternext()\n",
    "            \n",
    "    return dX, dW"
   ]
  },
  {
   "cell_type": "markdown",
   "metadata": {},
   "source": [
    "## Gradient of Matrix Multiplication"
   ]
  },
  {
   "cell_type": "code",
   "execution_count": 20,
   "metadata": {
    "collapsed": true
   },
   "outputs": [],
   "source": [
    "dX, dW = numerical_gradient(X, W)"
   ]
  },
  {
   "cell_type": "code",
   "execution_count": 21,
   "metadata": {},
   "outputs": [
    {
     "name": "stdout",
     "output_type": "stream",
     "text": [
      "dX\n",
      "[[  30.   70.  110.]\n",
      " [  30.   70.  110.]]\n"
     ]
    }
   ],
   "source": [
    "print('dX')\n",
    "print(dX)"
   ]
  },
  {
   "cell_type": "code",
   "execution_count": 22,
   "metadata": {},
   "outputs": [
    {
     "name": "stdout",
     "output_type": "stream",
     "text": [
      "dW\n",
      "[[  7.   7.]\n",
      " [  9.   9.]\n",
      " [ 11.  11.]]\n"
     ]
    }
   ],
   "source": [
    "print('dW')\n",
    "print(dW)"
   ]
  },
  {
   "cell_type": "code",
   "execution_count": 23,
   "metadata": {},
   "outputs": [
    {
     "data": {
      "text/plain": [
       "299.0"
      ]
     },
     "execution_count": 23,
     "metadata": {},
     "output_type": "execute_result"
    }
   ],
   "source": [
    "X = np.array([\n",
    "    [1.0, 2.0, 3.0],\n",
    "    [4.0, 5.0, 6.0]\n",
    "])\n",
    "W = np.array([\n",
    "    [10.0, 9.0],\n",
    "    [8.0, 7.0],\n",
    "    [6.0, 5.0]\n",
    "])\n",
    "f(X, W)\n",
    "# np.dot(X, W)"
   ]
  },
  {
   "cell_type": "code",
   "execution_count": 24,
   "metadata": {},
   "outputs": [
    {
     "data": {
      "text/plain": [
       "299.0"
      ]
     },
     "execution_count": 24,
     "metadata": {},
     "output_type": "execute_result"
    }
   ],
   "source": [
    "X2 = np.array([\n",
    "    [1.0, 2.0, 3.0],\n",
    "    [4.0, 5.0, 6.0]\n",
    "])\n",
    "W2 = np.array([\n",
    "    [10.0, 9.0],\n",
    "    [8.0, 7.0],\n",
    "    [6.0, 5.0]\n",
    "])\n",
    "f(X2, W2)"
   ]
  },
  {
   "cell_type": "code",
   "execution_count": 25,
   "metadata": {},
   "outputs": [
    {
     "data": {
      "text/plain": [
       "array([[ 19.,  15.,  11.],\n",
       "       [ 19.,  15.,  11.]])"
      ]
     },
     "execution_count": 25,
     "metadata": {},
     "output_type": "execute_result"
    }
   ],
   "source": [
    "np.dot(np.ones((2,2)), W.T)"
   ]
  },
  {
   "cell_type": "code",
   "execution_count": 26,
   "metadata": {},
   "outputs": [
    {
     "data": {
      "text/plain": [
       "array([[ 5.,  5.],\n",
       "       [ 7.,  7.],\n",
       "       [ 9.,  9.]])"
      ]
     },
     "execution_count": 26,
     "metadata": {},
     "output_type": "execute_result"
    }
   ],
   "source": [
    "np.dot(X.T, np.ones((2,2)))"
   ]
  },
  {
   "cell_type": "code",
   "execution_count": null,
   "metadata": {
    "collapsed": true
   },
   "outputs": [],
   "source": []
  }
 ],
 "metadata": {
  "kernelspec": {
   "display_name": "Python 3",
   "language": "python",
   "name": "python3"
  },
  "language_info": {
   "codemirror_mode": {
    "name": "ipython",
    "version": 3
   },
   "file_extension": ".py",
   "mimetype": "text/x-python",
   "name": "python",
   "nbconvert_exporter": "python",
   "pygments_lexer": "ipython3",
   "version": "3.6.2"
  }
 },
 "nbformat": 4,
 "nbformat_minor": 2
}
