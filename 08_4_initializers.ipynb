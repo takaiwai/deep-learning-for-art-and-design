{
 "cells": [
  {
   "cell_type": "code",
   "execution_count": 2,
   "metadata": {
    "collapsed": true
   },
   "outputs": [],
   "source": [
    "import numpy as np\n",
    "import matplotlib.pyplot as plt"
   ]
  },
  {
   "cell_type": "markdown",
   "metadata": {},
   "source": [
    "# 8-4. Initializers"
   ]
  },
  {
   "cell_type": "markdown",
   "metadata": {},
   "source": [
    "To avoid vanishing or exploding gradient, we want the activation of each layer not too smaller or larger than 1.\n",
    "\n",
    "Careful choice of initization method can help with it."
   ]
  },
  {
   "cell_type": "markdown",
   "metadata": {
    "collapsed": true
   },
   "source": [
    "## Xavier Initialization\n",
    "\n",
    "$$\n",
    "W \\sim U \\left[ -\\frac{\\sqrt{6}}{\\sqrt{n_j + n_{j+1}}} , \\frac{\\sqrt{6}}{\\sqrt{n_j + n_{j+1}}} \\right]\n",
    "$$\n",
    "\n",
    "Works well with tanh activation. Sometime called Glorot Initialization because the name of author is Xavier Glorot.\n",
    "\n",
    "X. Glorot, and Y. Bengio. Understanding the difficulty of training deep feedforward neural networks. Proc. AISTATS, volume 9, pp. 249-256, 2010."
   ]
  },
  {
   "cell_type": "code",
   "execution_count": 94,
   "metadata": {},
   "outputs": [],
   "source": [
    "def xavier_init(n_in, n_out):\n",
    "    limit = np.sqrt(6.0 / (n_in + n_out))\n",
    "    return np.random.uniform(low=-limit, high=limit, size=(n_in, n_out))"
   ]
  },
  {
   "cell_type": "markdown",
   "metadata": {},
   "source": [
    "#### Not careful initialization"
   ]
  },
  {
   "cell_type": "code",
   "execution_count": 95,
   "metadata": {},
   "outputs": [],
   "source": [
    "x = np.random.randn(4, 10)\n",
    "w = np.random.randn(10, 5) * 0.01\n",
    "z = np.dot(x, w)\n",
    "a = np.tanh(z)"
   ]
  },
  {
   "cell_type": "code",
   "execution_count": 96,
   "metadata": {},
   "outputs": [
    {
     "data": {
      "text/plain": [
       "array([[-0.04507395,  0.01255039,  0.01269483, -0.01700625, -0.01022171],\n",
       "       [ 0.01336227,  0.0051835 ,  0.03422804,  0.02580452, -0.01032969],\n",
       "       [ 0.0144389 , -0.02422666,  0.03621563,  0.06837236, -0.01462751],\n",
       "       [ 0.0003048 ,  0.01203136,  0.00232223, -0.02757834,  0.01105016]])"
      ]
     },
     "execution_count": 96,
     "metadata": {},
     "output_type": "execute_result"
    }
   ],
   "source": [
    "a"
   ]
  },
  {
   "cell_type": "code",
   "execution_count": 97,
   "metadata": {},
   "outputs": [
    {
     "name": "stdout",
     "output_type": "stream",
     "text": [
      "-0.0014452073883\n",
      "0.880298669146\n"
     ]
    }
   ],
   "source": [
    "print(np.mean(x))\n",
    "print(np.var(x))"
   ]
  },
  {
   "cell_type": "code",
   "execution_count": 98,
   "metadata": {},
   "outputs": [
    {
     "name": "stdout",
     "output_type": "stream",
     "text": [
      "-0.000543260635673\n",
      "0.00011873470013\n"
     ]
    }
   ],
   "source": [
    "print(np.mean(w))\n",
    "print(np.var(w))"
   ]
  },
  {
   "cell_type": "code",
   "execution_count": 99,
   "metadata": {},
   "outputs": [
    {
     "name": "stdout",
     "output_type": "stream",
     "text": [
      "0.00497474219852\n",
      "0.000621362876611\n"
     ]
    }
   ],
   "source": [
    "print(np.mean(a))\n",
    "print(np.var(a))"
   ]
  },
  {
   "cell_type": "markdown",
   "metadata": {},
   "source": [
    "#### Xavier initialization"
   ]
  },
  {
   "cell_type": "code",
   "execution_count": 101,
   "metadata": {},
   "outputs": [],
   "source": [
    "x = np.random.randn(4, 10)\n",
    "w = xavier_init(10, 5)\n",
    "z = np.dot(x, w)\n",
    "a = np.tanh(z)"
   ]
  },
  {
   "cell_type": "code",
   "execution_count": 102,
   "metadata": {},
   "outputs": [
    {
     "data": {
      "text/plain": [
       "array([[ 0.63471777,  0.98118756,  0.18944596, -0.8199876 , -0.45919988],\n",
       "       [-0.99015396,  0.17578035,  0.47659541, -0.83468998,  0.99182153],\n",
       "       [ 0.99635009,  0.87748178,  0.05048396,  0.00991787, -0.98682464],\n",
       "       [ 0.82586428,  0.1167327 , -0.6691873 ,  0.88485741, -0.97895723]])"
      ]
     },
     "execution_count": 102,
     "metadata": {},
     "output_type": "execute_result"
    }
   ],
   "source": [
    "a"
   ]
  },
  {
   "cell_type": "code",
   "execution_count": 103,
   "metadata": {},
   "outputs": [
    {
     "name": "stdout",
     "output_type": "stream",
     "text": [
      "0.236280798853\n",
      "0.968990220414\n"
     ]
    }
   ],
   "source": [
    "print(np.mean(x))\n",
    "print(np.var(x))"
   ]
  },
  {
   "cell_type": "code",
   "execution_count": 104,
   "metadata": {},
   "outputs": [
    {
     "name": "stdout",
     "output_type": "stream",
     "text": [
      "0.01104697889\n",
      "0.14875860035\n"
     ]
    }
   ],
   "source": [
    "print(np.mean(w))\n",
    "print(np.var(w))"
   ]
  },
  {
   "cell_type": "code",
   "execution_count": 105,
   "metadata": {},
   "outputs": [
    {
     "name": "stdout",
     "output_type": "stream",
     "text": [
      "0.0736118047532\n",
      "0.535959863578\n"
     ]
    }
   ],
   "source": [
    "print(np.mean(a))\n",
    "print(np.var(a))"
   ]
  },
  {
   "cell_type": "markdown",
   "metadata": {},
   "source": [
    "## He Initialization\n",
    "\n",
    "$$\n",
    "W \\sim N \\left(0, \\sigma \\sim \\sqrt{2/n_j} \\right)\n",
    "$$\n",
    "\n",
    "K. He, X. Zhang, S. Ren, and J. Sun. Delving deep into rectifiers: Surpassing human-level performance on imagenet classification. IEEE International Conference on Computer Vision (ICCV), 2015."
   ]
  },
  {
   "cell_type": "code",
   "execution_count": 92,
   "metadata": {
    "collapsed": true
   },
   "outputs": [],
   "source": [
    "def he_init(n_in, n_out):\n",
    "    return np.random.randn(n_in, n_out) * np.sqrt(2 / n_in)"
   ]
  },
  {
   "cell_type": "markdown",
   "metadata": {},
   "source": [
    "#### Not careful initialization"
   ]
  },
  {
   "cell_type": "code",
   "execution_count": 153,
   "metadata": {
    "collapsed": true
   },
   "outputs": [],
   "source": [
    "x = np.random.randn(4, 10)\n",
    "w = np.random.randn(10, 5) * 0.01\n",
    "z = np.dot(x, w)\n",
    "a = np.maximum(0, z)"
   ]
  },
  {
   "cell_type": "code",
   "execution_count": 154,
   "metadata": {},
   "outputs": [
    {
     "data": {
      "text/plain": [
       "array([[ 0.0024203 ,  0.0085116 ,  0.02099162,  0.        ,  0.        ],\n",
       "       [ 0.        ,  0.00639004,  0.        ,  0.00015616,  0.01880949],\n",
       "       [ 0.        ,  0.00519537,  0.03535715,  0.        ,  0.05381484],\n",
       "       [ 0.00416783,  0.02985453,  0.00887663,  0.        ,  0.        ]])"
      ]
     },
     "execution_count": 154,
     "metadata": {},
     "output_type": "execute_result"
    }
   ],
   "source": [
    "a"
   ]
  },
  {
   "cell_type": "code",
   "execution_count": 155,
   "metadata": {},
   "outputs": [
    {
     "name": "stdout",
     "output_type": "stream",
     "text": [
      "0.0635551887776\n",
      "1.11468786193\n"
     ]
    }
   ],
   "source": [
    "print(np.mean(x))\n",
    "print(np.var(x))"
   ]
  },
  {
   "cell_type": "code",
   "execution_count": 156,
   "metadata": {},
   "outputs": [
    {
     "name": "stdout",
     "output_type": "stream",
     "text": [
      "-0.0006936920337\n",
      "8.03739166255e-05\n"
     ]
    }
   ],
   "source": [
    "print(np.mean(w))\n",
    "print(np.var(w))"
   ]
  },
  {
   "cell_type": "code",
   "execution_count": 157,
   "metadata": {},
   "outputs": [
    {
     "name": "stdout",
     "output_type": "stream",
     "text": [
      "0.00972727695541\n",
      "0.000209091187891\n"
     ]
    }
   ],
   "source": [
    "print(np.mean(a))\n",
    "print(np.var(a))"
   ]
  },
  {
   "cell_type": "markdown",
   "metadata": {},
   "source": [
    "#### He initialization"
   ]
  },
  {
   "cell_type": "code",
   "execution_count": 158,
   "metadata": {},
   "outputs": [],
   "source": [
    "x = np.random.randn(4, 10)\n",
    "w = he_init(10, 5)\n",
    "z = np.dot(x, w)\n",
    "a = np.maximum(0, z)"
   ]
  },
  {
   "cell_type": "code",
   "execution_count": 159,
   "metadata": {},
   "outputs": [
    {
     "data": {
      "text/plain": [
       "array([[ 2.83892649,  0.12540959,  1.8773216 ,  0.        ,  0.        ],\n",
       "       [ 3.12595268,  0.        ,  2.02350429,  0.        ,  0.        ],\n",
       "       [ 0.79231206,  0.83048718,  0.        ,  0.        ,  0.0616421 ],\n",
       "       [ 0.        ,  0.        ,  0.66078818,  3.10196686,  0.76032443]])"
      ]
     },
     "execution_count": 159,
     "metadata": {},
     "output_type": "execute_result"
    }
   ],
   "source": [
    "a"
   ]
  },
  {
   "cell_type": "code",
   "execution_count": 160,
   "metadata": {},
   "outputs": [
    {
     "name": "stdout",
     "output_type": "stream",
     "text": [
      "-0.0462626760197\n",
      "1.281288575\n"
     ]
    }
   ],
   "source": [
    "print(np.mean(x))\n",
    "print(np.var(x))"
   ]
  },
  {
   "cell_type": "code",
   "execution_count": 161,
   "metadata": {},
   "outputs": [
    {
     "name": "stdout",
     "output_type": "stream",
     "text": [
      "0.0381517311581\n",
      "0.227150939144\n"
     ]
    }
   ],
   "source": [
    "print(np.mean(w))\n",
    "print(np.var(w))"
   ]
  },
  {
   "cell_type": "code",
   "execution_count": 162,
   "metadata": {},
   "outputs": [
    {
     "name": "stdout",
     "output_type": "stream",
     "text": [
      "0.80993177273\n",
      "1.21520637866\n"
     ]
    }
   ],
   "source": [
    "print(np.mean(a))\n",
    "print(np.var(a))"
   ]
  }
 ],
 "metadata": {
  "kernelspec": {
   "display_name": "Python 3",
   "language": "python",
   "name": "python3"
  },
  "language_info": {
   "codemirror_mode": {
    "name": "ipython",
    "version": 3
   },
   "file_extension": ".py",
   "mimetype": "text/x-python",
   "name": "python",
   "nbconvert_exporter": "python",
   "pygments_lexer": "ipython3",
   "version": "3.6.2"
  }
 },
 "nbformat": 4,
 "nbformat_minor": 2
}
