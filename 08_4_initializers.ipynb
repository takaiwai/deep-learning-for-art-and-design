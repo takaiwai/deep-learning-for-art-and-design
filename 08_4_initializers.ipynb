{
 "cells": [
  {
   "cell_type": "code",
   "execution_count": 2,
   "metadata": {
    "collapsed": true
   },
   "outputs": [],
   "source": [
    "import numpy as np\n",
    "import matplotlib.pyplot as plt"
   ]
  },
  {
   "cell_type": "markdown",
   "metadata": {},
   "source": [
    "# 8-4. Initializers"
   ]
  },
  {
   "cell_type": "markdown",
   "metadata": {},
   "source": [
    "To avoid vanishing or exploding gradient, we want the activation of each layer not too smaller or larger than 1.\n",
    "\n",
    "Careful choice of initization method can help with it."
   ]
  },
  {
   "cell_type": "markdown",
   "metadata": {
    "collapsed": true
   },
   "source": [
    "## Xavier Initialization\n",
    "\n",
    "$$\n",
    "W ~ U \\left[ -\\frac{\\sqrt{6}}{\\sqrt{n_j + n_{j+1}}} , \\frac{\\sqrt{6}}{\\sqrt{n_j + n_{j+1}}} \\right]\n",
    "$$\n",
    "\n",
    "Works well with tanh activation. Sometime called Glorot Initialization because the name of author is Xavier Glorot.\n",
    "\n",
    "X. Glorot, and Y. Bengio. Understanding the difficulty of training deep feedforward neural networks. Proc. AISTATS, volume 9, pp. 249-256, 2010."
   ]
  },
  {
   "cell_type": "code",
   "execution_count": 47,
   "metadata": {},
   "outputs": [],
   "source": [
    "def xavier_init(n_in, n_out):\n",
    "    limit = np.sqrt(6.0 / (n_in + n_out))\n",
    "    return np.random.uniform(low=-limit, high=limit, size=(n_in, n_out))"
   ]
  },
  {
   "cell_type": "markdown",
   "metadata": {},
   "source": [
    "#### Not careful initialization"
   ]
  },
  {
   "cell_type": "code",
   "execution_count": 75,
   "metadata": {},
   "outputs": [],
   "source": [
    "x = np.random.randn(4, 10)\n",
    "w = np.random.rand(10, 5) * 0.01\n",
    "z = np.dot(x, w)\n",
    "a = np.tanh(z)"
   ]
  },
  {
   "cell_type": "code",
   "execution_count": 76,
   "metadata": {},
   "outputs": [
    {
     "data": {
      "text/plain": [
       "array([[-0.03169883, -0.01401587, -0.03051881, -0.01716881, -0.0068985 ],\n",
       "       [ 0.00604145, -0.00514469, -0.00155403, -0.01120579, -0.00641372],\n",
       "       [-0.01578172, -0.00402429, -0.00561204, -0.02732289, -0.01917034],\n",
       "       [-0.02890823, -0.01879694, -0.00350305, -0.02548757, -0.02527769]])"
      ]
     },
     "execution_count": 76,
     "metadata": {},
     "output_type": "execute_result"
    }
   ],
   "source": [
    "a"
   ]
  },
  {
   "cell_type": "code",
   "execution_count": 77,
   "metadata": {},
   "outputs": [
    {
     "name": "stdout",
     "output_type": "stream",
     "text": [
      "-0.213624441131\n",
      "1.09739694476\n"
     ]
    }
   ],
   "source": [
    "print(np.mean(x))\n",
    "print(np.var(x))"
   ]
  },
  {
   "cell_type": "code",
   "execution_count": 78,
   "metadata": {},
   "outputs": [
    {
     "name": "stdout",
     "output_type": "stream",
     "text": [
      "0.00514046097504\n",
      "8.07739736653e-06\n"
     ]
    }
   ],
   "source": [
    "print(np.mean(w))\n",
    "print(np.var(w))"
   ]
  },
  {
   "cell_type": "code",
   "execution_count": 79,
   "metadata": {},
   "outputs": [
    {
     "name": "stdout",
     "output_type": "stream",
     "text": [
      "-0.0146231177692\n",
      "0.000116552335896\n"
     ]
    }
   ],
   "source": [
    "print(np.mean(a))\n",
    "print(np.var(a))"
   ]
  },
  {
   "cell_type": "markdown",
   "metadata": {},
   "source": [
    "#### Xavier initialization"
   ]
  },
  {
   "cell_type": "code",
   "execution_count": 80,
   "metadata": {
    "collapsed": true
   },
   "outputs": [],
   "source": [
    "x = np.random.randn(4, 10)\n",
    "w = xavier_init(10, 5)\n",
    "z = np.dot(x, w)\n",
    "a = np.tanh(z)"
   ]
  },
  {
   "cell_type": "code",
   "execution_count": 81,
   "metadata": {},
   "outputs": [
    {
     "data": {
      "text/plain": [
       "array([[ 0.90007808,  0.83604129,  0.78359356, -0.93803927, -0.62864109],\n",
       "       [-0.53958882, -0.89232924, -0.61626704,  0.07091654,  0.5156064 ],\n",
       "       [ 0.68572553,  0.56603592,  0.80902637, -0.83510455, -0.77763795],\n",
       "       [-0.00522897, -0.77569961, -0.78265741, -0.39748203, -0.86856651]])"
      ]
     },
     "execution_count": 81,
     "metadata": {},
     "output_type": "execute_result"
    }
   ],
   "source": [
    "a"
   ]
  },
  {
   "cell_type": "code",
   "execution_count": 82,
   "metadata": {},
   "outputs": [
    {
     "name": "stdout",
     "output_type": "stream",
     "text": [
      "0.0592525909824\n",
      "1.13072093473\n"
     ]
    }
   ],
   "source": [
    "print(np.mean(x))\n",
    "print(np.var(x))"
   ]
  },
  {
   "cell_type": "code",
   "execution_count": 83,
   "metadata": {},
   "outputs": [
    {
     "name": "stdout",
     "output_type": "stream",
     "text": [
      "-0.0060916606688\n",
      "0.144268379321\n"
     ]
    }
   ],
   "source": [
    "print(np.mean(w))\n",
    "print(np.var(w))"
   ]
  },
  {
   "cell_type": "code",
   "execution_count": 84,
   "metadata": {},
   "outputs": [
    {
     "name": "stdout",
     "output_type": "stream",
     "text": [
      "-0.144510939779\n",
      "0.479629251386\n"
     ]
    }
   ],
   "source": [
    "print(np.mean(a))\n",
    "print(np.var(a))"
   ]
  },
  {
   "cell_type": "markdown",
   "metadata": {},
   "source": [
    "## He Initialization\n",
    "\n",
    "\n",
    "K. He, X. Zhang, S. Ren, and J. Sun. Delving deep into rectifiers: Surpassing human-level performance on imagenet classification. IEEE International Conference on Computer Vision (ICCV), 2015."
   ]
  },
  {
   "cell_type": "code",
   "execution_count": null,
   "metadata": {
    "collapsed": true
   },
   "outputs": [],
   "source": []
  },
  {
   "cell_type": "code",
   "execution_count": null,
   "metadata": {
    "collapsed": true
   },
   "outputs": [],
   "source": []
  },
  {
   "cell_type": "code",
   "execution_count": null,
   "metadata": {
    "collapsed": true
   },
   "outputs": [],
   "source": []
  },
  {
   "cell_type": "code",
   "execution_count": null,
   "metadata": {
    "collapsed": true
   },
   "outputs": [],
   "source": []
  }
 ],
 "metadata": {
  "kernelspec": {
   "display_name": "Python 3",
   "language": "python",
   "name": "python3"
  },
  "language_info": {
   "codemirror_mode": {
    "name": "ipython",
    "version": 3
   },
   "file_extension": ".py",
   "mimetype": "text/x-python",
   "name": "python",
   "nbconvert_exporter": "python",
   "pygments_lexer": "ipython3",
   "version": "3.6.2"
  }
 },
 "nbformat": 4,
 "nbformat_minor": 2
}
