{
 "cells": [
  {
   "cell_type": "markdown",
   "metadata": {},
   "source": [
    "# Deep Learning Notes"
   ]
  },
  {
   "cell_type": "markdown",
   "metadata": {},
   "source": [
    "Contents I'd like to cover\n",
    "\n",
    "\n",
    "## 1. Inspirational Examples\n",
    "\n",
    "\n",
    "## 2. Optimization and Differentiation\n",
    "\n",
    "* Functions with one variable\n",
    "    * Quadratic functions\n",
    "    * Quartic function\n",
    "* Numerical differentiation\n",
    "\n",
    "\n",
    "## 3. Multi-variable Functions and Gradient\n",
    "\n",
    "* Functions with multiple variables\n",
    "* Numerical gradient\n",
    "\n",
    "\n",
    "## 4. Classification\n",
    "\n",
    "* Logistic regression\n",
    "\n",
    "\n",
    "## 5. Multi-class classification\n",
    "\n",
    "* Softmax\n",
    "\n",
    "\n",
    "## 6. Neural Networks for Non-linear Classification\n",
    "\n",
    "* Non-linear classification\n",
    "* 2 layer neural net\n",
    "\n",
    "\n",
    "## 7. Backpropagation\n",
    "\n",
    "* 7-1. Gradient of matrix addition\n",
    "* 7-2. Gradient of matrix multiplication\n",
    "* 7-3. Smoothie example\n",
    "* 7-4. Applying for MNIST and Gradient check\n",
    "\n",
    "\n",
    "## 8. Training techniquies\n",
    "\n",
    "* 8-1. Optimizers\n",
    "* 8-2. Deeper network\n",
    "* 8-3. Activation functions\n",
    "* 8-4. Initializations\n",
    "* 8-5. Deeper network redo\n",
    "* 8-6. Regularizations\n",
    "* 8-7. Batch Normalizations\n",
    "* 8-8. Data argumentation\n",
    "* 8-9. Ensemble learning\n",
    "\n",
    "\n",
    "## 9. Convolutional Neural Networks\n",
    "\n",
    "* 9-1. Convolution Layer\n",
    "* 9-2. Forward pass of conv layer\n",
    "* 9-3. Backward pass of conv layer\n",
    "* 9-4. Fast Forward pass with im2col\n",
    "* 9-5. Fast Backward pass with col2im\n",
    "* 9-6. Max Pooling layer\n",
    "* 9-7. Forward pass of max pooling layer\n",
    "* 9-8. Backward pass of max pooling layer\n",
    "\n",
    "\n",
    "## 10. Putting It All Together\n",
    "\n",
    "* Deep MNIST\n",
    "\n",
    "## Appendix\n",
    "\n",
    "* Math\n",
    "* Python\n",
    "* NumPy\n",
    "* Matplotlib\n",
    "* MNIST\n",
    "* TensorFlow"
   ]
  },
  {
   "cell_type": "code",
   "execution_count": null,
   "metadata": {
    "collapsed": true
   },
   "outputs": [],
   "source": []
  }
 ],
 "metadata": {
  "kernelspec": {
   "display_name": "Python 3",
   "language": "python",
   "name": "python3"
  },
  "language_info": {
   "codemirror_mode": {
    "name": "ipython",
    "version": 3
   },
   "file_extension": ".py",
   "mimetype": "text/x-python",
   "name": "python",
   "nbconvert_exporter": "python",
   "pygments_lexer": "ipython3",
   "version": "3.6.2"
  }
 },
 "nbformat": 4,
 "nbformat_minor": 2
}
