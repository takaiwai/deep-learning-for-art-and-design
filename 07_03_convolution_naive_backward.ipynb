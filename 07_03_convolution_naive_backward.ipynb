{
 "cells": [
  {
   "cell_type": "code",
   "execution_count": 1,
   "metadata": {
    "collapsed": true
   },
   "outputs": [],
   "source": [
    "import numpy as np\n",
    "import tensorflow as tf"
   ]
  },
  {
   "cell_type": "markdown",
   "metadata": {},
   "source": [
    "# 07-03: Convolution Operation Naive Backward Pass\n",
    "\n",
    "Try calculating NumPy, then check with TensorFlow and numerical gradient"
   ]
  },
  {
   "cell_type": "markdown",
   "metadata": {},
   "source": [
    "#### 1. Basic\n",
    "$(4 \\times 4) * (3 \\times 3) = (2 \\times 2)$\n",
    "\n",
    "#### 2. Padding\n",
    "$(4 \\times 4) * (3 \\times 3) = (4 \\times 4)$ where $P=1$\n",
    "\n",
    "#### 3. Stride\n",
    "$(7 \\times 7) * (3 \\times 3) = (3 \\times 3)$ where $S=2$\n",
    "\n",
    "#### 4. Padding and Stride\n",
    "$(7 \\times 7) * (3 \\times 3) = (4 \\times 4)$ where $P=1, S=2$\n",
    "\n",
    "#### 5. Channel\n",
    "$(4 \\times 4 \\times 3) * (3 \\times 3 \\times 3) = (2 \\times 2)$\n",
    "\n",
    "#### 6. Channel and bias \n",
    "$(4 \\times 4 \\times 3) * (3 \\times 3 \\times 3) + (1) = (2 \\times 2)$\n",
    "\n",
    "#### 7. Multiple Filters\n",
    "$(4 \\times 4 \\times 3) * (3 \\times 3 \\times 3 \\times 4) = (2 \\times 2 \\times 4)$\n",
    "\n",
    "#### 8.Multiple Filters + bias \n",
    "$(4 \\times 4 \\times 3) * (3 \\times 3 \\times 3 \\times 4) + (4)= (2 \\times 2 \\times 4)$\n",
    "\n",
    "#### 9. Mini-batch + bias\n",
    "$(3 \\times 4 \\times 4 \\times 3) * (3 \\times 3 \\times 3 \\times 4) + (4)= (3 \\times 2 \\times 2 \\times 4)$\n",
    "\n",
    "#### 10. RGB Mini-batch $*$ Multiple Filters with stride and padding\n",
    "$(3 \\times 7 \\times 7 \\times 3) * (3 \\times 3 \\times 3 \\times 4) + (4)= (3 \\times 4 \\times 4 \\times 4)$ where $P=1, S=2$\n"
   ]
  },
  {
   "cell_type": "code",
   "execution_count": 27,
   "metadata": {
    "collapsed": true
   },
   "outputs": [],
   "source": [
    "def float_sequence(size):\n",
    "    return np.arange(size, dtype=np.float32)"
   ]
  },
  {
   "cell_type": "markdown",
   "metadata": {},
   "source": [
    "### 1. Basic Convolution\n",
    "\n",
    "$(4 \\times 4) * (3 \\times 3) = (2 \\times 2)$"
   ]
  },
  {
   "cell_type": "code",
   "execution_count": null,
   "metadata": {},
   "outputs": [],
   "source": []
  },
  {
   "cell_type": "markdown",
   "metadata": {},
   "source": [
    "### 2. Convolution with padding\n",
    "\n",
    "$(4 \\times 4) * (3 \\times 3) = (4 \\times 4)$ where $P=1$"
   ]
  },
  {
   "cell_type": "code",
   "execution_count": null,
   "metadata": {},
   "outputs": [],
   "source": []
  },
  {
   "cell_type": "markdown",
   "metadata": {},
   "source": [
    "### 3. Convolution with Stride\n",
    "\n",
    "$(7 \\times 7) * (3 \\times 3) = (3 \\times 3)$ where $S=2$"
   ]
  },
  {
   "cell_type": "code",
   "execution_count": null,
   "metadata": {},
   "outputs": [],
   "source": []
  },
  {
   "cell_type": "markdown",
   "metadata": {},
   "source": [
    "### 4. Padding and Stride\n",
    "\n",
    "$(7 \\times 7) * (3 \\times 3) = (4 \\times 4)$ where $P=1, S=2$"
   ]
  },
  {
   "cell_type": "code",
   "execution_count": null,
   "metadata": {},
   "outputs": [],
   "source": []
  },
  {
   "cell_type": "markdown",
   "metadata": {},
   "source": [
    "### 5. Channel\n",
    "\n",
    "$(4 \\times 4 \\times 3) * (3 \\times 3 \\times 3) = (2 \\times 2)$"
   ]
  },
  {
   "cell_type": "code",
   "execution_count": null,
   "metadata": {},
   "outputs": [],
   "source": []
  },
  {
   "cell_type": "markdown",
   "metadata": {},
   "source": [
    "### 6. Channel and bias \n",
    "\n",
    "$(4 \\times 4 \\times 3) * (3 \\times 3 \\times 3) + (1) = (2 \\times 2)$"
   ]
  },
  {
   "cell_type": "code",
   "execution_count": null,
   "metadata": {},
   "outputs": [],
   "source": []
  },
  {
   "cell_type": "markdown",
   "metadata": {},
   "source": [
    "### 7. Multiple Filters\n",
    "\n",
    "$(4 \\times 4 \\times 3) * (3 \\times 3 \\times 3 \\times 4) = (2 \\times 2 \\times 4)$"
   ]
  },
  {
   "cell_type": "code",
   "execution_count": null,
   "metadata": {},
   "outputs": [],
   "source": []
  },
  {
   "cell_type": "markdown",
   "metadata": {},
   "source": [
    "### 8. Multiple Filters + bias \n",
    "\n",
    "$(4 \\times 4 \\times 3) * (3 \\times 3 \\times 3 \\times 4) + (4)= (2 \\times 2 \\times 4)$"
   ]
  },
  {
   "cell_type": "code",
   "execution_count": null,
   "metadata": {},
   "outputs": [],
   "source": []
  },
  {
   "cell_type": "markdown",
   "metadata": {},
   "source": [
    "### 9. Mini-batch + bias\n",
    "\n",
    "$(3 \\times 4 \\times 4 \\times 3) * (3 \\times 3 \\times 3 \\times 4) + (4)= (3 \\times 2 \\times 2 \\times 4)$"
   ]
  },
  {
   "cell_type": "code",
   "execution_count": null,
   "metadata": {},
   "outputs": [],
   "source": []
  },
  {
   "cell_type": "markdown",
   "metadata": {},
   "source": [
    "#### 10. RGB Mini-batch $*$ Multiple Filters with stride and padding\n",
    "$(3 \\times 7 \\times 7 \\times 3) * (3 \\times 3 \\times 3 \\times 4) + (4)= (3 \\times 4 \\times 4 \\times 4)$ where $P=1, S=2$"
   ]
  },
  {
   "cell_type": "code",
   "execution_count": null,
   "metadata": {},
   "outputs": [],
   "source": []
  }
 ],
 "metadata": {
  "kernelspec": {
   "display_name": "Python 3",
   "language": "python",
   "name": "python3"
  },
  "language_info": {
   "codemirror_mode": {
    "name": "ipython",
    "version": 3
   },
   "file_extension": ".py",
   "mimetype": "text/x-python",
   "name": "python",
   "nbconvert_exporter": "python",
   "pygments_lexer": "ipython3",
   "version": "3.6.2"
  }
 },
 "nbformat": 4,
 "nbformat_minor": 2
}
