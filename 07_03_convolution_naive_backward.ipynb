{
 "cells": [
  {
   "cell_type": "code",
   "execution_count": 2,
   "metadata": {
    "collapsed": true
   },
   "outputs": [],
   "source": [
    "import numpy as np\n",
    "import tensorflow as tf"
   ]
  },
  {
   "cell_type": "markdown",
   "metadata": {},
   "source": [
    "# 07-03: Convolution Operation Naive Backward Pass\n",
    "\n",
    "Try calculating NumPy, then check with TensorFlow and numerical gradient"
   ]
  },
  {
   "cell_type": "markdown",
   "metadata": {},
   "source": [
    "#### 1. Basic\n",
    "$(4 \\times 4) * (3 \\times 3) = (2 \\times 2)$\n",
    "\n",
    "#### 2. Padding\n",
    "$(4 \\times 4) * (3 \\times 3) = (4 \\times 4)$ where $P=1$\n",
    "\n",
    "#### 3. Stride\n",
    "$(7 \\times 7) * (3 \\times 3) = (3 \\times 3)$ where $S=2$\n",
    "\n",
    "#### 4. Padding and Stride\n",
    "$(7 \\times 7) * (3 \\times 3) = (4 \\times 4)$ where $P=1, S=2$\n",
    "\n",
    "#### 5. Channel\n",
    "$(4 \\times 4 \\times 3) * (3 \\times 3 \\times 3) = (2 \\times 2)$\n",
    "\n",
    "#### 6. Channel and bias \n",
    "$(4 \\times 4 \\times 3) * (3 \\times 3 \\times 3) + (1) = (2 \\times 2)$\n",
    "\n",
    "#### 7. Multiple Filters\n",
    "$(4 \\times 4 \\times 3) * (3 \\times 3 \\times 3 \\times 4) = (2 \\times 2 \\times 4)$\n",
    "\n",
    "#### 8.Multiple Filters + bias \n",
    "$(4 \\times 4 \\times 3) * (3 \\times 3 \\times 3 \\times 4) + (4)= (2 \\times 2 \\times 4)$\n",
    "\n",
    "#### 9. Mini-batch + bias\n",
    "$(3 \\times 4 \\times 4 \\times 3) * (3 \\times 3 \\times 3 \\times 4) + (4)= (3 \\times 2 \\times 2 \\times 4)$\n",
    "\n",
    "#### 10. RGB Mini-batch $*$ Multiple Filters with stride and padding\n",
    "$(3 \\times 7 \\times 7 \\times 3) * (3 \\times 3 \\times 3 \\times 4) + (4)= (3 \\times 4 \\times 4 \\times 4)$ where $P=1, S=2$\n"
   ]
  },
  {
   "cell_type": "code",
   "execution_count": 3,
   "metadata": {
    "collapsed": true
   },
   "outputs": [],
   "source": [
    "def float_sequence(size):\n",
    "    return np.arange(size, dtype=np.float32)"
   ]
  },
  {
   "cell_type": "markdown",
   "metadata": {},
   "source": [
    "### 1. Basic Convolution\n",
    "\n",
    "$(4 \\times 4) * (3 \\times 3) = (2 \\times 2)$"
   ]
  },
  {
   "cell_type": "code",
   "execution_count": 29,
   "metadata": {},
   "outputs": [
    {
     "name": "stdout",
     "output_type": "stream",
     "text": [
      "=== dY ===\n",
      "[[ 1.  1.]\n",
      " [ 1.  1.]]\n",
      "=== dX ===\n",
      "[[ 12.  23.  21.  10.]\n",
      " [ 21.  40.  36.  17.]\n",
      " [ 15.  28.  24.  11.]\n",
      " [  6.  11.   9.   4.]]\n",
      "=== dW ===\n",
      "[[ 10.  14.  18.]\n",
      " [ 26.  30.  34.]\n",
      " [ 42.  46.  50.]]\n",
      "=== L (tf) ===\n",
      "1848.0\n",
      "=== dX (tf) ===\n",
      "[[ 12.  23.  21.  10.]\n",
      " [ 21.  40.  36.  17.]\n",
      " [ 15.  28.  24.  11.]\n",
      " [  6.  11.   9.   4.]]\n",
      "=== dW (tf) ===\n",
      "[[ 10.  14.  18.]\n",
      " [ 26.  30.  34.]\n",
      " [ 42.  46.  50.]]\n",
      "=== Matched? ===\n",
      "dX:  True\n",
      "dY:  True\n"
     ]
    }
   ],
   "source": [
    "X = float_sequence(4*4).reshape(4,4)\n",
    "W = 12 - float_sequence(3*3).reshape(3,3)\n",
    "\n",
    "dY = np.ones((2,2))\n",
    "\n",
    "print(\"=== dY ===\")     \n",
    "print(dY)\n",
    "\n",
    "dX = np.zeros((4,4))\n",
    "dW = np.zeros((3,3))\n",
    "\n",
    "for h in range(4-3+1):\n",
    "    for w in range(4-3+1):\n",
    "        h_start = h\n",
    "        h_end   = h_start + 3\n",
    "        w_start = w\n",
    "        w_end   = w_start + 3\n",
    "        \n",
    "        current_dY = dY[h, w]\n",
    "        dX[h_start:h_end, w_start:w_end] += current_dY * W\n",
    "        dW += current_dY * X[h_start:h_end, w_start:w_end]\n",
    "        \n",
    "print(\"=== dX ===\")     \n",
    "print(dX)\n",
    "        \n",
    "print(\"=== dW ===\")     \n",
    "print(dW)\n",
    "\n",
    "with tf.Session() as sess:\n",
    "    tf_X = tf.constant(X.reshape(1, 4, 4, 1))\n",
    "    tf_W = tf.Variable(W.reshape(3, 3, 1, 1))\n",
    "    tf_Y = tf.nn.conv2d(tf_X, tf_W, strides=[1, 1, 1, 1], padding='VALID')\n",
    "    tf_L = tf.reduce_sum(tf_Y)\n",
    "    tf_grad = tf.gradients(tf_L, [tf_X, tf_W])\n",
    "    \n",
    "    sess.run(tf.global_variables_initializer())\n",
    "    tf_L_val = sess.run(tf_L)\n",
    "    tf_grad_val = sess.run(tf_grad)\n",
    "    print(\"=== L (tf) ===\")     \n",
    "    print(tf_L_val)\n",
    "    print(\"=== dX (tf) ===\")     \n",
    "    print(tf_grad_val[0][0, :, :, 0])\n",
    "    print(\"=== dW (tf) ===\")     \n",
    "    print(tf_grad_val[1][:, :, 0, 0])\n",
    "\n",
    "print(\"=== Matched? ===\")    \n",
    "print(\"dX: \", np.all(dX == tf_grad_val[0][0, :, :, 0]))\n",
    "print(\"dY: \", np.all(dW == tf_grad_val[1][:, :, 0, 0]))"
   ]
  },
  {
   "cell_type": "markdown",
   "metadata": {},
   "source": [
    "### 2. Convolution with padding\n",
    "\n",
    "$(4 \\times 4) * (3 \\times 3) = (4 \\times 4)$ where $P=1$"
   ]
  },
  {
   "cell_type": "code",
   "execution_count": null,
   "metadata": {},
   "outputs": [],
   "source": []
  },
  {
   "cell_type": "markdown",
   "metadata": {},
   "source": [
    "### 3. Convolution with Stride\n",
    "\n",
    "$(7 \\times 7) * (3 \\times 3) = (3 \\times 3)$ where $S=2$"
   ]
  },
  {
   "cell_type": "code",
   "execution_count": null,
   "metadata": {},
   "outputs": [],
   "source": []
  },
  {
   "cell_type": "markdown",
   "metadata": {},
   "source": [
    "### 4. Padding and Stride\n",
    "\n",
    "$(7 \\times 7) * (3 \\times 3) = (4 \\times 4)$ where $P=1, S=2$"
   ]
  },
  {
   "cell_type": "code",
   "execution_count": null,
   "metadata": {},
   "outputs": [],
   "source": []
  },
  {
   "cell_type": "markdown",
   "metadata": {},
   "source": [
    "### 5. Channel\n",
    "\n",
    "$(4 \\times 4 \\times 3) * (3 \\times 3 \\times 3) = (2 \\times 2)$"
   ]
  },
  {
   "cell_type": "code",
   "execution_count": null,
   "metadata": {},
   "outputs": [],
   "source": []
  },
  {
   "cell_type": "markdown",
   "metadata": {},
   "source": [
    "### 6. Channel and bias \n",
    "\n",
    "$(4 \\times 4 \\times 3) * (3 \\times 3 \\times 3) + (1) = (2 \\times 2)$"
   ]
  },
  {
   "cell_type": "code",
   "execution_count": null,
   "metadata": {},
   "outputs": [],
   "source": []
  },
  {
   "cell_type": "markdown",
   "metadata": {},
   "source": [
    "### 7. Multiple Filters\n",
    "\n",
    "$(4 \\times 4 \\times 3) * (3 \\times 3 \\times 3 \\times 4) = (2 \\times 2 \\times 4)$"
   ]
  },
  {
   "cell_type": "code",
   "execution_count": null,
   "metadata": {},
   "outputs": [],
   "source": []
  },
  {
   "cell_type": "markdown",
   "metadata": {},
   "source": [
    "### 8. Multiple Filters + bias \n",
    "\n",
    "$(4 \\times 4 \\times 3) * (3 \\times 3 \\times 3 \\times 4) + (4)= (2 \\times 2 \\times 4)$"
   ]
  },
  {
   "cell_type": "code",
   "execution_count": null,
   "metadata": {},
   "outputs": [],
   "source": []
  },
  {
   "cell_type": "markdown",
   "metadata": {},
   "source": [
    "### 9. Mini-batch + bias\n",
    "\n",
    "$(3 \\times 4 \\times 4 \\times 3) * (3 \\times 3 \\times 3 \\times 4) + (4)= (3 \\times 2 \\times 2 \\times 4)$"
   ]
  },
  {
   "cell_type": "code",
   "execution_count": null,
   "metadata": {},
   "outputs": [],
   "source": []
  },
  {
   "cell_type": "markdown",
   "metadata": {},
   "source": [
    "#### 10. RGB Mini-batch $*$ Multiple Filters with stride and padding\n",
    "$(3 \\times 7 \\times 7 \\times 3) * (3 \\times 3 \\times 3 \\times 4) + (4)= (3 \\times 4 \\times 4 \\times 4)$ where $P=1, S=2$"
   ]
  },
  {
   "cell_type": "code",
   "execution_count": null,
   "metadata": {},
   "outputs": [],
   "source": []
  }
 ],
 "metadata": {
  "kernelspec": {
   "display_name": "Python 3",
   "language": "python",
   "name": "python3"
  },
  "language_info": {
   "codemirror_mode": {
    "name": "ipython",
    "version": 3
   },
   "file_extension": ".py",
   "mimetype": "text/x-python",
   "name": "python",
   "nbconvert_exporter": "python",
   "pygments_lexer": "ipython3",
   "version": "3.6.2"
  }
 },
 "nbformat": 4,
 "nbformat_minor": 2
}
