{
 "cells": [
  {
   "cell_type": "code",
   "execution_count": 1,
   "metadata": {},
   "outputs": [
    {
     "data": {
      "application/javascript": [
       "MathJax.Hub.Config({\n",
       "    TeX: { equationNumbers: { autoNumber: \"AMS\" } }\n",
       "});\n",
       "MathJax.Hub.Queue(\n",
       "  [\"resetEquationNumbers\", MathJax.InputJax.TeX],\n",
       "  [\"PreProcess\", MathJax.Hub],\n",
       "  [\"Reprocess\", MathJax.Hub]\n",
       ");"
      ],
      "text/plain": [
       "<IPython.core.display.Javascript object>"
      ]
     },
     "metadata": {},
     "output_type": "display_data"
    }
   ],
   "source": [
    "%%javascript\n",
    "MathJax.Hub.Config({\n",
    "    TeX: { equationNumbers: { autoNumber: \"AMS\" } }\n",
    "});\n",
    "MathJax.Hub.Queue(\n",
    "  [\"resetEquationNumbers\", MathJax.InputJax.TeX],\n",
    "  [\"PreProcess\", MathJax.Hub],\n",
    "  [\"Reprocess\", MathJax.Hub]\n",
    ");"
   ]
  },
  {
   "cell_type": "markdown",
   "metadata": {},
   "source": [
    "# Greek Letters"
   ]
  },
  {
   "cell_type": "markdown",
   "metadata": {},
   "source": [
    "\n",
    "| Name    | lower case | lower LaTeX | upper case | upper LaTeX |\n",
    "|:--------|:----------:|:------------|:----------:|:------------|\n",
    "| alpha   | $\\alpha$   | `\\alpha`    | $A$        | `A`         |\n",
    "| beta    | $\\beta$    | `\\beta`     | $B$        | `B`         |\n",
    "| gamma   | $\\gamma$   | `\\gamma`    | $\\Gamma$   | `\\Gamma`    |\n",
    "| delta   | $\\delta$   | `\\delta`    | $\\Delta$   | `\\Delta`    |\n",
    "| epsilon | $\\epsilon$ | `\\epsilon`  | $E$        | `E`         |\n",
    "| zeta    | $\\zeta$    | `\\zeta`     | $Z$        | `Z`         |\n",
    "| eta     | $\\eta$     | `\\eta`      | $H$        | `H`         |\n",
    "| theta   | $\\theta$   | `\\theta`    | $\\Theta$   | `\\Theta`    |\n",
    "| iota    | $\\iota$    | `\\iota`     | $I$        | `I`         |\n",
    "| kappa   | $\\kappa$   | `\\kappa`    | $K$        | `K`         |\n",
    "| lambda  | $\\lambda$  | `\\lambda`   | $\\Lambda$  | `\\Lambda`   |\n",
    "| mu      | $\\mu$      | `\\mu`       | $M$        | `M`         |\n",
    "| nu      | $\\nu$      | `\\nu`       | $N$        | `N`         |\n",
    "| xi      | $\\xi$      | `\\xi`       | $\\Xi$      | `\\Xi`       |\n",
    "| omicron | $o$        | `o`         | $O$        | `O`         |\n",
    "| pi      | $\\pi$      | `\\pi`       | $\\Pi$      | `\\pi`       |\n",
    "| rho     | $\\rho$     | `\\rho`      | $P$        | `P`         |\n",
    "| sigma   | $\\sigma$   | `\\sigma`    | $\\Sigma$   | `\\Sigma`    |\n",
    "| tau     | $\\tau$     | `\\tau`      | $T$        | `T`         |\n",
    "| upsilon | $\\upsilon$ | `\\upsilon`  | $\\Upsilon$ | `\\Upsilon`  |\n",
    "| phi     | $\\phi$     | `\\phi`      | $\\Phi$     | `\\Phi`      |\n",
    "| chi     | $\\chi$     | `\\chi`      | $X$        | `X`         |\n",
    "| psi     | $\\psi$     | `\\psi`      | $\\Psi$     | `\\Psi`      |\n",
    "| omega   | $\\omega$   | `\\omega`    | $\\Omega$   | `\\Omega`    |\n"
   ]
  },
  {
   "cell_type": "markdown",
   "metadata": {},
   "source": [
    "# Limit"
   ]
  },
  {
   "cell_type": "markdown",
   "metadata": {},
   "source": [
    "$$\n",
    "f'(x) = \\lim_{h \\rightarrow 0} \\frac{f(x+h) - f(x)}{h}\n",
    "$$\n",
    "\n",
    "$$\n",
    "\\lim_{x \\rightarrow \\infty} (1 + \\frac{1}{x})^x = e\n",
    "$$\n",
    "\n",
    "$$\n",
    "\\lim_{n=1, 2, \\ldots} a_n\n",
    "$$"
   ]
  },
  {
   "cell_type": "markdown",
   "metadata": {},
   "source": [
    "# Delta and Differentiation"
   ]
  },
  {
   "cell_type": "markdown",
   "metadata": {},
   "source": [
    "$$\n",
    "\\lim_{\\Delta x \\rightarrow 0} \\frac{\\Delta y}{\\Delta x} = \\frac{dy}{dx}\n",
    "$$"
   ]
  },
  {
   "cell_type": "markdown",
   "metadata": {},
   "source": [
    "# Partial Derivatives"
   ]
  },
  {
   "cell_type": "markdown",
   "metadata": {},
   "source": [
    "```\n",
    "$$\n",
    "\\frac{\\partial z}{\\partial x} = \\lim_{\\Delta x \\rightarrow 0} \\frac{f(x+\\Delta x, y) - f(x,y)}{\\Delta x}\n",
    "$$\n",
    "```"
   ]
  },
  {
   "cell_type": "markdown",
   "metadata": {},
   "source": [
    "$$\n",
    "\\frac{\\partial z}{\\partial x} = \\lim_{\\Delta x \\rightarrow 0} \\frac{f(x+\\Delta x, y) - f(x,y)}{\\Delta x}\n",
    "$$"
   ]
  },
  {
   "cell_type": "code",
   "execution_count": 23,
   "metadata": {},
   "outputs": [
    {
     "data": {
      "text/latex": [
       "\n",
       "\\begin{align}\n",
       "\\label{partial}\n",
       "\\frac{\\partial z}{\\partial x} = \\lim_{\\Delta x \\rightarrow 0} \\frac{f(x+\\Delta x, y) - f(x,y)}{\\Delta x}\n",
       "\\end{align}"
      ],
      "text/plain": [
       "<IPython.core.display.Latex object>"
      ]
     },
     "metadata": {},
     "output_type": "display_data"
    }
   ],
   "source": [
    "%%latex\n",
    "\n",
    "\\begin{align}\n",
    "\\label{partial}\n",
    "\\frac{\\partial z}{\\partial x} = \\lim_{\\Delta x \\rightarrow 0} \\frac{f(x+\\Delta x, y) - f(x,y)}{\\Delta x}\n",
    "\\end{align}"
   ]
  },
  {
   "cell_type": "markdown",
   "metadata": {},
   "source": [
    "Equation ($\\ref{partial}$) is partial derivative"
   ]
  },
  {
   "cell_type": "code",
   "execution_count": null,
   "metadata": {
    "collapsed": true
   },
   "outputs": [],
   "source": []
  }
 ],
 "metadata": {
  "kernelspec": {
   "display_name": "Python 3",
   "language": "python",
   "name": "python3"
  },
  "language_info": {
   "codemirror_mode": {
    "name": "ipython",
    "version": 3
   },
   "file_extension": ".py",
   "mimetype": "text/x-python",
   "name": "python",
   "nbconvert_exporter": "python",
   "pygments_lexer": "ipython3",
   "version": "3.6.2"
  }
 },
 "nbformat": 4,
 "nbformat_minor": 2
}
