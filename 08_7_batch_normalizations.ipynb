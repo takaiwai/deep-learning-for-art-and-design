{
 "cells": [
  {
   "cell_type": "code",
   "execution_count": 1,
   "metadata": {
    "collapsed": true
   },
   "outputs": [],
   "source": [
    "import numpy as np\n",
    "%matplotlib inline\n",
    "from mpl_toolkits import mplot3d\n",
    "import matplotlib.pyplot as plt\n",
    "import pickle"
   ]
  },
  {
   "cell_type": "markdown",
   "metadata": {},
   "source": [
    "# 8-7. Batch Normalizations"
   ]
  },
  {
   "cell_type": "markdown",
   "metadata": {},
   "source": [
    "Just like we normalize the input of the network, it turns out that normalizing values before the activation each layer is beneficial for training neural networks. Usually, a batch norm layer is inserted before an activation layer.\n",
    "\n",
    "The benefits of batch norm are:\n",
    "\n",
    "1. Faster training via higher learning rate\n",
    "1. Robustness for initial weight\n",
    "1. Slight regularization effect\n",
    "\n",
    "Paper: Batch Normalization: Accelerating Deep Network Training by Reducing Internal Covariate Shift [arXiv:1502.03167](https://arxiv.org/abs/1502.03167)\n",
    "\n",
    "With the learnable parameter $\\gamma$ and $\\beta$ (initially 1 and 0), the forward pass of batch norm is defined as followings:"
   ]
  },
  {
   "cell_type": "markdown",
   "metadata": {},
   "source": [
    "\\begin{align}\n",
    "\\mu      &\\leftarrow \\frac{1}{m} \\sum_{i=1}^{m} x_i \\\\\n",
    "\\sigma^2 &\\leftarrow \\frac{1}{m} \\sum_{i=1}^{m} (x_i - \\mu) \\\\\n",
    "\\hat{x_i}&\\leftarrow \\frac{x_i - \\mu}{\\sqrt{\\sigma^2 + \\epsilon}} \\\\\n",
    "y_i      &\\leftarrow \\gamma \\hat{x_i} + \\beta\n",
    "\\end{align}"
   ]
  },
  {
   "cell_type": "markdown",
   "metadata": {},
   "source": [
    "The backward pass can be derived using computational graph. [「Understanding the backward pass through Batch Normalization Layer](https://kratzert.github.io/2016/02/12/understanding-the-gradient-flow-through-the-batch-normalization-layer.html) by Frederik Kratzert has a detailed explanation.\n",
    "\n",
    "![](https://kratzert.github.io/images/bn_backpass/BNcircuit.png)"
   ]
  },
  {
   "cell_type": "markdown",
   "metadata": {},
   "source": [
    "## Baseline seven layer net\n",
    "\n",
    "* Seven layers\n",
    "* Around 40 neurons\n",
    "* ReLU\n",
    "* He initialization"
   ]
  },
  {
   "cell_type": "code",
   "execution_count": null,
   "metadata": {
    "collapsed": true
   },
   "outputs": [],
   "source": []
  },
  {
   "cell_type": "code",
   "execution_count": null,
   "metadata": {
    "collapsed": true
   },
   "outputs": [],
   "source": []
  }
 ],
 "metadata": {
  "kernelspec": {
   "display_name": "Python 3",
   "language": "python",
   "name": "python3"
  },
  "language_info": {
   "codemirror_mode": {
    "name": "ipython",
    "version": 3
   },
   "file_extension": ".py",
   "mimetype": "text/x-python",
   "name": "python",
   "nbconvert_exporter": "python",
   "pygments_lexer": "ipython3",
   "version": "3.6.2"
  }
 },
 "nbformat": 4,
 "nbformat_minor": 2
}
