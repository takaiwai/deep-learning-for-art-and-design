{
 "cells": [
  {
   "cell_type": "code",
   "execution_count": 1,
   "metadata": {
    "collapsed": true
   },
   "outputs": [],
   "source": [
    "import numpy as np\n",
    "import matplotlib.pyplot as plt"
   ]
  },
  {
   "cell_type": "markdown",
   "metadata": {},
   "source": [
    "# 8-3. Activation functions"
   ]
  },
  {
   "cell_type": "markdown",
   "metadata": {},
   "source": [
    "* tanh\n",
    "* ReLU\n",
    "* Leaky ReLU"
   ]
  },
  {
   "cell_type": "markdown",
   "metadata": {
    "collapsed": true
   },
   "source": [
    "## Sigmoid function\n",
    "\n",
    "$$\n",
    "\\sigma (x) = \\frac{1}{1 + \\exp(-x)}\n",
    "$$"
   ]
  },
  {
   "cell_type": "code",
   "execution_count": 3,
   "metadata": {},
   "outputs": [],
   "source": [
    "def sigmoid(x):\n",
    "    return 1 / (1 + np.exp(-x))"
   ]
  },
  {
   "cell_type": "code",
   "execution_count": 4,
   "metadata": {},
   "outputs": [
    {
     "data": {
      "text/plain": [
       "0.5"
      ]
     },
     "execution_count": 4,
     "metadata": {},
     "output_type": "execute_result"
    }
   ],
   "source": [
    "sigmoid(0)"
   ]
  },
  {
   "cell_type": "code",
   "execution_count": 5,
   "metadata": {},
   "outputs": [
    {
     "data": {
      "text/plain": [
       "4.5397868702434395e-05"
      ]
     },
     "execution_count": 5,
     "metadata": {},
     "output_type": "execute_result"
    }
   ],
   "source": [
    "sigmoid(-10)"
   ]
  },
  {
   "cell_type": "code",
   "execution_count": 6,
   "metadata": {},
   "outputs": [
    {
     "data": {
      "text/plain": [
       "0.99995460213129761"
      ]
     },
     "execution_count": 6,
     "metadata": {},
     "output_type": "execute_result"
    }
   ],
   "source": [
    "sigmoid(10)"
   ]
  },
  {
   "cell_type": "code",
   "execution_count": 9,
   "metadata": {},
   "outputs": [
    {
     "data": {
      "image/png": "[encoded data removed]",
      "text/plain": [
       "<matplotlib.figure.Figure at 0x1105f88d0>"
      ]
     },
     "metadata": {},
     "output_type": "display_data"
    }
   ],
   "source": [
    "x = np.arange(-5, 5, 0.1)\n",
    "y = sigmoid(x)\n",
    "\n",
    "plt.plot(x, y)\n",
    "plt.show()"
   ]
  },
  {
   "cell_type": "markdown",
   "metadata": {},
   "source": [
    "## Derivative of sigmoid function"
   ]
  },
  {
   "cell_type": "markdown",
   "metadata": {},
   "source": [
    "\\begin{align}\n",
    "\\sigma (x) = \\frac{1}{1 + \\exp(-x)}\n",
    "\\end{align}\n",
    "\n",
    "Let\n",
    "\n",
    "\\begin{align}\n",
    "f(x) &= 1 + \\exp(-x) \\\\\n",
    "g(u) &= u^{-1}\n",
    "\\end{align}\n",
    "\n",
    "Now\n",
    "\n",
    "\\begin{align}\n",
    "\\sigma (x) = g(f(x))\n",
    "\\end{align}\n",
    "\n",
    "As derivatives of $f(x)$ and $g(u)$ are as follows,\n",
    "\n",
    "\\begin{align}\n",
    "f'(x) &= - \\exp(-x) \\\\\n",
    "g'(u) &= - u^{-2}\n",
    "\\end{align}\n",
    "\n",
    "and by using the chain rule\n",
    "\n",
    "\\begin{align}\n",
    "\\sigma' (x) &= g'(f(x)) \\cdot f'(x) \\\\\n",
    "&= g'(1 + \\exp(-x)) \\cdot (- \\exp(-x)) \\\\\n",
    "&= -(1 + \\exp(-x))^{-2} \\cdot (- \\exp(-x)) \\\\\n",
    "&= - \\frac{- \\exp(-x)}{(1 + \\exp(-x))^{-2}} \\\\\n",
    "&= \\frac{\\exp(-x)}{(1 + \\exp(-x))^{-2}} \\\\\n",
    "&= \\frac{1}{1 + \\exp(-x)} \\cdot \\frac{\\exp(-x)}{1 + \\exp(-x)} \\\\\n",
    "&= \\frac{1}{1 + \\exp(-x)} \\cdot \\left(  1 - 1 + \\frac{\\exp(-x)}{1 + \\exp(-x)} \\right) \\\\\n",
    "&= \\frac{1}{1 + \\exp(-x)} \\cdot \\left( 1 - \\frac{1 + \\exp(-x)}{1 + \\exp(-x)} + \\frac{\\exp(-x)}{1 + \\exp(-x)} \\right) \\\\\n",
    "&= \\frac{1}{1 + \\exp(-x)} \\cdot \\left( 1 - \\frac{1}{1 + \\exp(-x)} \\right)\n",
    "\\end{align}\n",
    "\n",
    "Becase $\\sigma (x) = \\frac{1}{1 + \\exp(-x)}$\n",
    "\n",
    "\\begin{align}\n",
    "\\sigma' (x) &= \\sigma(x) (1 - \\sigma(x))\n",
    "\\end{align}"
   ]
  },
  {
   "cell_type": "code",
   "execution_count": 10,
   "metadata": {
    "collapsed": true
   },
   "outputs": [],
   "source": [
    "def sigmoid_prime(x):\n",
    "    s = sigmoid(x)\n",
    "    return s * (1 - s)"
   ]
  },
  {
   "cell_type": "code",
   "execution_count": 11,
   "metadata": {},
   "outputs": [
    {
     "data": {
      "text/plain": [
       "0.23500371220159449"
      ]
     },
     "execution_count": 11,
     "metadata": {},
     "output_type": "execute_result"
    }
   ],
   "source": [
    "sigmoid_prime(0)"
   ]
  },
  {
   "cell_type": "code",
   "execution_count": 12,
   "metadata": {},
   "outputs": [
    {
     "data": {
      "text/plain": [
       "0.25"
      ]
     },
     "execution_count": 12,
     "metadata": {},
     "output_type": "execute_result"
    }
   ],
   "source": [
    "sigmoid_prime(0)"
   ]
  },
  {
   "cell_type": "code",
   "execution_count": null,
   "metadata": {
    "collapsed": true
   },
   "outputs": [],
   "source": []
  }
 ],
 "metadata": {
  "kernelspec": {
   "display_name": "Python 3",
   "language": "python",
   "name": "python3"
  },
  "language_info": {
   "codemirror_mode": {
    "name": "ipython",
    "version": 3
   },
   "file_extension": ".py",
   "mimetype": "text/x-python",
   "name": "python",
   "nbconvert_exporter": "python",
   "pygments_lexer": "ipython3",
   "version": "3.6.2"
  }
 },
 "nbformat": 4,
 "nbformat_minor": 2
}
