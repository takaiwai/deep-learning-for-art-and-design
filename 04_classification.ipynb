{
 "cells": [
  {
   "cell_type": "code",
   "execution_count": 1,
   "metadata": {
    "collapsed": true
   },
   "outputs": [],
   "source": [
    "import numpy as np\n",
    "import matplotlib.pyplot as plt\n",
    "from sklearn.utils import shuffle"
   ]
  },
  {
   "cell_type": "markdown",
   "metadata": {},
   "source": [
    "# Classification"
   ]
  },
  {
   "cell_type": "code",
   "execution_count": 2,
   "metadata": {
    "collapsed": true
   },
   "outputs": [],
   "source": [
    "setA = np.random.randn(50, 2) + np.array([5, 3])\n",
    "labelA = np.array([[1] for i in range(50)])\n",
    "setB = np.random.randn(50, 2) + np.array([1, -1])\n",
    "labelB = np.array([[0] for i in range(50)])"
   ]
  },
  {
   "cell_type": "code",
   "execution_count": 3,
   "metadata": {},
   "outputs": [
    {
     "data": {
      "image/png": "[encoded data removed]",
      "text/plain": [
       "<matplotlib.figure.Figure at 0x1101835f8>"
      ]
     },
     "metadata": {},
     "output_type": "display_data"
    }
   ],
   "source": [
    "plt.plot(setA[:, 0], setA[:, 1], 'o')\n",
    "plt.plot(setB[:, 0], setB[:, 1], 'x')\n",
    "\n",
    "plt.show()"
   ]
  },
  {
   "cell_type": "markdown",
   "metadata": {},
   "source": [
    "## Sigmoid function\n",
    "\n",
    "$$\n",
    "\\sigma (x) = \\frac{1}{1 + e^{-x}} = \\frac{1}{1 + \\exp(-x)}\n",
    "$$"
   ]
  },
  {
   "cell_type": "code",
   "execution_count": 4,
   "metadata": {
    "collapsed": true
   },
   "outputs": [],
   "source": [
    "def sigmoid(x):\n",
    "    return 1 / (1 + np.exp(-x))"
   ]
  },
  {
   "cell_type": "code",
   "execution_count": 5,
   "metadata": {
    "collapsed": true
   },
   "outputs": [],
   "source": [
    "x_range = np.arange(-10, 10, 0.1)\n",
    "y_sigmoid = sigmoid(x_range)"
   ]
  },
  {
   "cell_type": "code",
   "execution_count": 6,
   "metadata": {},
   "outputs": [
    {
     "data": {
      "image/png": "[encoded data removed]",
      "text/plain": [
       "<matplotlib.figure.Figure at 0x110183860>"
      ]
     },
     "metadata": {},
     "output_type": "display_data"
    }
   ],
   "source": [
    "plt.plot(x_range, y_sigmoid)\n",
    "plt.show()"
   ]
  },
  {
   "cell_type": "markdown",
   "metadata": {},
   "source": [
    "## Logistic Regression\n",
    "\n",
    "$$\n",
    "f(x; w, b) = \\sigma(x \\cdot w + b) \n",
    "$$"
   ]
  },
  {
   "cell_type": "code",
   "execution_count": 7,
   "metadata": {
    "collapsed": true
   },
   "outputs": [],
   "source": [
    "wx = 0.5\n",
    "wy = -0.4\n",
    "b = -0.2\n",
    "\n",
    "def compute(data):\n",
    "    return np.dot(data, np.array([wx, wy])) + b"
   ]
  },
  {
   "cell_type": "code",
   "execution_count": 8,
   "metadata": {},
   "outputs": [
    {
     "data": {
      "text/plain": [
       "array([ 1.74669234,  1.21042492,  1.12325949,  1.47327606,  0.83898447,\n",
       "        1.34372916,  1.86656946,  1.59861966,  0.94573841,  1.12684416,\n",
       "        2.30753761,  0.3520539 ,  1.0798981 ,  0.66012287,  0.54827088,\n",
       "        0.91155247,  0.6835061 ,  1.03298883,  1.03290205,  0.55838902,\n",
       "        2.06105273,  1.81377395,  0.40882828, -0.69176167,  0.97048673,\n",
       "        1.25081372,  1.22417301,  0.73153954,  0.84578623,  1.36992355,\n",
       "        1.76469825,  0.30790062,  0.08969168,  1.39112324,  0.53727616,\n",
       "        1.50698257,  0.2553635 ,  1.46086508,  2.04755999,  1.10860236,\n",
       "        0.70354011,  1.27601662,  0.1262448 , -0.57494977,  0.81766522,\n",
       "        1.32967794,  0.46257291,  1.01280771,  1.06359607,  0.80138313])"
      ]
     },
     "execution_count": 8,
     "metadata": {},
     "output_type": "execute_result"
    }
   ],
   "source": [
    "compute(setA)"
   ]
  },
  {
   "cell_type": "code",
   "execution_count": 9,
   "metadata": {},
   "outputs": [
    {
     "data": {
      "text/plain": [
       "array([ 0.85153512,  0.77037412,  0.75459282,  0.81355482,  0.69825129,\n",
       "        0.79310253,  0.86606084,  0.83182537,  0.72025733,  0.75525603,\n",
       "        0.90949938,  0.58711556,  0.7464747 ,  0.65928799,  0.63373433,\n",
       "        0.71331774,  0.66452077,  0.73749493,  0.73747813,  0.63607971,\n",
       "        0.88705968,  0.85981737,  0.60080689,  0.33364129,  0.7252165 ,\n",
       "        0.77744069,  0.77279709,  0.67514302,  0.69968246,  0.7973678 ,\n",
       "        0.85379711,  0.57637274,  0.5224079 ,  0.8007715 ,  0.63117856,\n",
       "        0.81861359,  0.5634962 ,  0.81166495,  0.88570084,  0.75186846,\n",
       "        0.66897219,  0.78177095,  0.53151935,  0.36009548,  0.69374051,\n",
       "        0.79078736,  0.61362437,  0.73356926,  0.74337716,  0.69027027])"
      ]
     },
     "execution_count": 9,
     "metadata": {},
     "output_type": "execute_result"
    }
   ],
   "source": [
    "sigmoid(compute(setA))"
   ]
  },
  {
   "cell_type": "code",
   "execution_count": 10,
   "metadata": {},
   "outputs": [
    {
     "data": {
      "text/plain": [
       "array([ 0.42284286,  0.81559425,  0.53059691,  0.83093764,  0.62043783,\n",
       "        0.80661719,  0.65532138,  0.53746166,  0.50352938,  0.66836851,\n",
       "        0.4103175 ,  0.86778555,  0.88660623,  0.55752817,  0.76615343,\n",
       "        0.70260226,  0.57962021,  0.60460007,  0.53402494,  0.50602174,\n",
       "        0.5479553 ,  0.66511279,  0.69003862,  0.4357133 ,  0.71414418,\n",
       "        0.68813064,  0.50759329,  0.69875928,  0.69225362,  0.71181373,\n",
       "        0.72248403,  0.88938909,  0.42715951,  0.52598812,  0.91877891,\n",
       "        0.778956  ,  0.59302407,  0.82459448,  0.73306837,  0.62191268,\n",
       "        0.88522521,  0.71942328,  0.76564413,  0.51303869,  0.61057196,\n",
       "        0.81154553,  0.70513142,  0.60099123,  0.77194566,  0.57393261])"
      ]
     },
     "execution_count": 10,
     "metadata": {},
     "output_type": "execute_result"
    }
   ],
   "source": [
    "sigmoid(compute(setB))"
   ]
  },
  {
   "cell_type": "markdown",
   "metadata": {},
   "source": [
    "## Maximum Likelihood"
   ]
  },
  {
   "cell_type": "markdown",
   "metadata": {},
   "source": [
    "## Cost function\n",
    "\n",
    "$$\n",
    "E(x; w, b) = - \\frac{1}{N} \\sum_{n=1}^N t_n \\log y_n + (1-t_n) \\log(1-y_n)\n",
    "$$\n"
   ]
  },
  {
   "cell_type": "code",
   "execution_count": 11,
   "metadata": {},
   "outputs": [
    {
     "data": {
      "image/png": "[encoded data removed]",
      "text/plain": [
       "<matplotlib.figure.Figure at 0x110737e10>"
      ]
     },
     "metadata": {},
     "output_type": "display_data"
    }
   ],
   "source": [
    "x_range_log = np.arange(0, 10, 0.1) + 0.1\n",
    "y_log = np.log(x_range_log)\n",
    "plt.plot(x_range_log, y_log)\n",
    "plt.show()"
   ]
  },
  {
   "cell_type": "code",
   "execution_count": 12,
   "metadata": {
    "collapsed": true
   },
   "outputs": [],
   "source": [
    "def cost(t, y):\n",
    "    return -np.mean(t * np.log(y) + (1-t) * np.log(1-y))"
   ]
  },
  {
   "cell_type": "code",
   "execution_count": 13,
   "metadata": {},
   "outputs": [
    {
     "data": {
      "text/plain": [
       "0.010050335853501451"
      ]
     },
     "execution_count": 13,
     "metadata": {},
     "output_type": "execute_result"
    }
   ],
   "source": [
    "cost(\n",
    "    np.array([1, 0, 0, 1]),\n",
    "    np.array([0.99, 0.01, 0.01,0.99])\n",
    ")"
   ]
  },
  {
   "cell_type": "code",
   "execution_count": 14,
   "metadata": {},
   "outputs": [
    {
     "data": {
      "text/plain": [
       "3.453877639491068"
      ]
     },
     "execution_count": 14,
     "metadata": {},
     "output_type": "execute_result"
    }
   ],
   "source": [
    "cost(\n",
    "    np.array([1, 0, 0, 1]),\n",
    "    np.array([0.1, 0.99, 0.99, 0.1])\n",
    ")"
   ]
  },
  {
   "cell_type": "code",
   "execution_count": 15,
   "metadata": {
    "collapsed": true
   },
   "outputs": [],
   "source": [
    "def classify(inputs, param):\n",
    "    wx = param['wx']\n",
    "    wy = param['wy']\n",
    "    b = param['b']\n",
    "    return sigmoid(np.dot(inputs, np.array([wx, wy])) + b)\n"
   ]
  },
  {
   "cell_type": "code",
   "execution_count": 16,
   "metadata": {
    "collapsed": true
   },
   "outputs": [],
   "source": [
    "sets = np.vstack([setA, setB])\n",
    "labels = np.vstack([labelA, labelB])"
   ]
  },
  {
   "cell_type": "code",
   "execution_count": 17,
   "metadata": {},
   "outputs": [
    {
     "data": {
      "text/plain": [
       "array([ 0.75060818,  0.63940593,  0.62276271,  0.72537187,  0.57173319,\n",
       "        0.67537344,  0.78001436,  0.72903011,  0.62223107,  0.68978856,\n",
       "        0.82397142,  0.49075849,  0.60680393,  0.60222254,  0.53155231,\n",
       "        0.6358933 ,  0.52457749,  0.66228504,  0.62084988,  0.56977707,\n",
       "        0.76388281,  0.78567129,  0.53216111,  0.30032039,  0.63807177,\n",
       "        0.65453232,  0.64876233,  0.57386964,  0.59123358,  0.7075616 ,\n",
       "        0.77417481,  0.54711857,  0.42918461,  0.73048823,  0.51606362,\n",
       "        0.71295612,  0.46176645,  0.6394102 ,  0.78149075,  0.63043646,\n",
       "        0.6079858 ,  0.63348113,  0.48335014,  0.32771386,  0.59939009,\n",
       "        0.70522792,  0.5473316 ,  0.6442979 ,  0.64054237,  0.55487457,\n",
       "        0.48780866,  0.85310812,  0.62963505,  0.85529626,  0.76076402,\n",
       "        0.81017397,  0.73776346,  0.65739646,  0.60304344,  0.67105182,\n",
       "        0.49115841,  0.88571663,  0.89365485,  0.61970037,  0.81331615,\n",
       "        0.80205035,  0.70348808,  0.66150959,  0.66909525,  0.57918336,\n",
       "        0.65274258,  0.75687873,  0.7579897 ,  0.56384508,  0.76528616,\n",
       "        0.77759068,  0.64448204,  0.75821824,  0.74964634,  0.72817633,\n",
       "        0.78431971,  0.87713815,  0.51695616,  0.66269813,  0.90962184,\n",
       "        0.78248532,  0.6721406 ,  0.87092254,  0.77444104,  0.68631533,\n",
       "        0.89158818,  0.72218847,  0.82194743,  0.59931164,  0.68979502,\n",
       "        0.83711035,  0.7761064 ,  0.64879297,  0.83934643,  0.64220344])"
      ]
     },
     "execution_count": 17,
     "metadata": {},
     "output_type": "execute_result"
    }
   ],
   "source": [
    "classify(sets, {'wx': 0.3, 'wy': -0.4, 'b': 0.3})"
   ]
  },
  {
   "cell_type": "code",
   "execution_count": 18,
   "metadata": {
    "collapsed": true
   },
   "outputs": [],
   "source": [
    "initial_wx = np.random.rand()\n",
    "initial_wy = np.random.rand()\n",
    "initial_b = np.random.rand()"
   ]
  },
  {
   "cell_type": "code",
   "execution_count": 19,
   "metadata": {},
   "outputs": [
    {
     "data": {
      "text/plain": [
       "1.3697345949675115"
      ]
     },
     "execution_count": 19,
     "metadata": {},
     "output_type": "execute_result"
    }
   ],
   "source": [
    "cost(\n",
    "    labels,\n",
    "    classify(sets, {'wx': initial_wx, 'wy': initial_wy, 'b': initial_b})\n",
    ")"
   ]
  },
  {
   "cell_type": "code",
   "execution_count": 20,
   "metadata": {
    "collapsed": true
   },
   "outputs": [],
   "source": [
    "def gradient(variables, variable_name, labels, sets):\n",
    "    h = 1e-4\n",
    "    input2 = variables.copy()\n",
    "    input2[variable_name] += h\n",
    "    \n",
    "    input1 = variables.copy()\n",
    "    input1[variable_name] -= h\n",
    "    \n",
    "#     print(input1, input2)\n",
    "    \n",
    "    z2 = cost(labels,classify(sets, input2))\n",
    "    z1 = cost(labels,classify(sets, input1))\n",
    "#     print(z1, z2)\n",
    "    \n",
    "    delta_z = z2 - z1\n",
    "    delta_x = h * 2\n",
    "    return delta_z / delta_x"
   ]
  },
  {
   "cell_type": "code",
   "execution_count": 21,
   "metadata": {},
   "outputs": [
    {
     "name": "stdout",
     "output_type": "stream",
     "text": [
      "{'wx': 1.8894564798586544, 'wy': 2.1132066073673483, 'b': -8.1153984524243636}\n"
     ]
    }
   ],
   "source": [
    "initial_wx = np.random.rand()\n",
    "initial_wy = np.random.rand()\n",
    "initial_b = np.random.rand()\n",
    "\n",
    "current_wx = initial_wx\n",
    "current_wy = initial_wy\n",
    "current_b = initial_b\n",
    "\n",
    "ETA = 0.01\n",
    "\n",
    "for iteration in range(1000):\n",
    "    sets_, labels_ = shuffle(sets, labels)\n",
    "    \n",
    "    for (current_point, current_label) in zip(sets_, labels_):\n",
    "        current = {\n",
    "            'wx': current_wx,\n",
    "            'wy': current_wy,\n",
    "            'b': current_b\n",
    "        }\n",
    "        grad = {\n",
    "            'wx': gradient(current, 'wx', current_label, current_point),\n",
    "            'wy': gradient(current, 'wy', current_label, current_point),\n",
    "            'b': gradient(current, 'b', current_label, current_point),\n",
    "        }\n",
    "        current_wx = current_wx - ETA * grad['wx']\n",
    "        current_wy = current_wy - ETA * grad['wy']\n",
    "        current_b  = current_b - ETA * grad['b']\n",
    "\n",
    "    function_output = cost(\n",
    "        labels,\n",
    "        classify(sets, current)\n",
    "    )\n",
    "#     print(\"iteration: {}, {},output: {}\".format(iteration, current, function_output))"
   ]
  },
  {
   "cell_type": "code",
   "execution_count": 27,
   "metadata": {},
   "outputs": [
    {
     "name": "stdout",
     "output_type": "stream",
     "text": [
      "{'wx': 1.8892172786546373, 'wy': 2.1132229303824954, 'b': -8.1155126787886758}\n"
     ]
    }
   ],
   "source": [
    "current = {\n",
    "        'wx': current_wx,\n",
    "        'wy': current_wy,\n",
    "        'b': current_b\n",
    "}\n",
    "print(current)"
   ]
  },
  {
   "cell_type": "code",
   "execution_count": 28,
   "metadata": {},
   "outputs": [
    {
     "data": {
      "text/plain": [
       "array([ True,  True,  True,  True,  True,  True,  True,  True,  True,\n",
       "        True,  True,  True,  True,  True,  True,  True,  True,  True,\n",
       "        True,  True,  True,  True,  True,  True,  True,  True,  True,\n",
       "        True,  True,  True,  True,  True,  True,  True,  True,  True,\n",
       "        True,  True,  True,  True,  True,  True,  True,  True,  True,\n",
       "        True,  True,  True,  True,  True], dtype=bool)"
      ]
     },
     "execution_count": 28,
     "metadata": {},
     "output_type": "execute_result"
    }
   ],
   "source": [
    "classify(setA, current) > 0.5"
   ]
  },
  {
   "cell_type": "code",
   "execution_count": 29,
   "metadata": {},
   "outputs": [
    {
     "data": {
      "text/plain": [
       "array([False, False, False, False, False, False, False, False, False,\n",
       "       False, False, False, False, False, False, False, False, False,\n",
       "       False, False, False, False, False, False, False, False, False,\n",
       "       False, False, False, False, False, False, False, False, False,\n",
       "       False, False, False, False, False, False, False, False, False,\n",
       "       False, False, False, False, False], dtype=bool)"
      ]
     },
     "execution_count": 29,
     "metadata": {},
     "output_type": "execute_result"
    }
   ],
   "source": [
    "classify(setB, current) > 0.5"
   ]
  },
  {
   "cell_type": "code",
   "execution_count": null,
   "metadata": {
    "collapsed": true
   },
   "outputs": [],
   "source": []
  }
 ],
 "metadata": {
  "kernelspec": {
   "display_name": "Python 3",
   "language": "python",
   "name": "python3"
  },
  "language_info": {
   "codemirror_mode": {
    "name": "ipython",
    "version": 3
   },
   "file_extension": ".py",
   "mimetype": "text/x-python",
   "name": "python",
   "nbconvert_exporter": "python",
   "pygments_lexer": "ipython3",
   "version": "3.6.2"
  }
 },
 "nbformat": 4,
 "nbformat_minor": 2
}
