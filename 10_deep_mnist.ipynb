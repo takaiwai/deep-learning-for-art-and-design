{
 "cells": [
  {
   "cell_type": "code",
   "execution_count": 1,
   "metadata": {
    "collapsed": true
   },
   "outputs": [],
   "source": [
    "import numpy as np\n",
    "%matplotlib inline\n",
    "from mpl_toolkits import mplot3d\n",
    "import matplotlib.pyplot as plt\n",
    "import pickle"
   ]
  },
  {
   "cell_type": "markdown",
   "metadata": {},
   "source": [
    "# 10. Deep MNIST"
   ]
  },
  {
   "cell_type": "markdown",
   "metadata": {
    "collapsed": true
   },
   "source": [
    "## Architecture"
   ]
  },
  {
   "cell_type": "code",
   "execution_count": null,
   "metadata": {
    "collapsed": true
   },
   "outputs": [],
   "source": []
  },
  {
   "cell_type": "code",
   "execution_count": null,
   "metadata": {
    "collapsed": true
   },
   "outputs": [],
   "source": []
  },
  {
   "cell_type": "code",
   "execution_count": null,
   "metadata": {
    "collapsed": true
   },
   "outputs": [],
   "source": []
  },
  {
   "cell_type": "code",
   "execution_count": null,
   "metadata": {
    "collapsed": true
   },
   "outputs": [],
   "source": []
  },
  {
   "cell_type": "markdown",
   "metadata": {},
   "source": [
    "## Accuracy"
   ]
  },
  {
   "cell_type": "code",
   "execution_count": 3,
   "metadata": {
    "collapsed": true
   },
   "outputs": [],
   "source": [
    "plt.rcParams['figure.figsize'] = [18.0, 4.0]"
   ]
  },
  {
   "cell_type": "code",
   "execution_count": 4,
   "metadata": {},
   "outputs": [
    {
     "data": {
      "image/png": "[encoded data removed]",
      "text/plain": [
       "<matplotlib.figure.Figure at 0x108cffef0>"
      ]
     },
     "metadata": {},
     "output_type": "display_data"
    }
   ],
   "source": [
    "acc_solo = []\n",
    "labels_solo = []\n",
    "x_solo = []\n",
    "\n",
    "for i in range(1):\n",
    "    a = pickle.load(open('code/10_deep_conv_net/deep_conv_solo_{}_log.pkl'.format(i), \"rb\"))['test_acc']\n",
    "    acc_solo.append(a * 100)\n",
    "    labels_solo.append(\"s{}\".format(i))\n",
    "    x_solo.append(i)\n",
    "\n",
    "acc_ens = []\n",
    "labels_ens = []\n",
    "x_ens = []\n",
    "\n",
    "# for i in range(2, 11):\n",
    "#     index = i\n",
    "#     a = pickle.load(open('code/08_techniques/08_9_ensemble_learning/compare_{}_log.pkl'.format(index), \"rb\"))['test_acc']\n",
    "#     acc_ens.append(a * 100)\n",
    "#     labels_ens.append(\"{}\".format(index))\n",
    "#     x_ens.append(48 + i)\n",
    "\n",
    "\n",
    "plt.bar(x_solo, acc_solo, tick_label=labels_solo)\n",
    "# plt.bar(x_ens, acc_ens, tick_label=labels_ens)\n",
    "plt.ylim(98, 100)\n",
    "plt.show()"
   ]
  },
  {
   "cell_type": "code",
   "execution_count": null,
   "metadata": {
    "collapsed": true
   },
   "outputs": [],
   "source": []
  },
  {
   "cell_type": "markdown",
   "metadata": {},
   "source": [
    "## Loss"
   ]
  },
  {
   "cell_type": "code",
   "execution_count": 9,
   "metadata": {
    "collapsed": true
   },
   "outputs": [],
   "source": [
    "plt.rcParams['figure.figsize'] = [16, 16]"
   ]
  },
  {
   "cell_type": "code",
   "execution_count": null,
   "metadata": {},
   "outputs": [],
   "source": [
    "fig, axes = plt.subplots(4, 4)\n",
    "\n",
    "for row in range(4):\n",
    "    for col in range(4):\n",
    "        index = row * 4 + col\n",
    "        if index > 0:\n",
    "            break;\n",
    "        \n",
    "        log = pickle.load(open('code/10_deep_conv_net/deep_conv_solo_{}_log.pkl'.format(index), \"rb\"))\n",
    "\n",
    "        current = axes[row, col]\n",
    "        current.plot(log['iterations'], log['accuracy'], 'b', label='test accuracy')\n",
    "        current.legend()\n",
    "\n",
    "plt.show()"
   ]
  },
  {
   "cell_type": "code",
   "execution_count": null,
   "metadata": {
    "collapsed": true
   },
   "outputs": [],
   "source": []
  }
 ],
 "metadata": {
  "kernelspec": {
   "display_name": "Python 3",
   "language": "python",
   "name": "python3"
  },
  "language_info": {
   "codemirror_mode": {
    "name": "ipython",
    "version": 3
   },
   "file_extension": ".py",
   "mimetype": "text/x-python",
   "name": "python",
   "nbconvert_exporter": "python",
   "pygments_lexer": "ipython3",
   "version": "3.6.2"
  }
 },
 "nbformat": 4,
 "nbformat_minor": 2
}
