{
 "cells": [
  {
   "cell_type": "code",
   "execution_count": 1,
   "metadata": {
    "collapsed": true
   },
   "outputs": [],
   "source": [
    "import numpy as np\n",
    "import tensorflow as tf"
   ]
  },
  {
   "cell_type": "markdown",
   "metadata": {},
   "source": [
    "## Case 1: Orange and Bag"
   ]
  },
  {
   "cell_type": "code",
   "execution_count": 2,
   "metadata": {
    "collapsed": true
   },
   "outputs": [],
   "source": [
    "price_orange = 1.5\n",
    "count_orange = 3\n",
    "price_bag = 0.5"
   ]
  },
  {
   "cell_type": "code",
   "execution_count": 3,
   "metadata": {
    "collapsed": true
   },
   "outputs": [],
   "source": [
    "def f1(price_orange, count_orange, price_bag):\n",
    "    return price_orange * count_orange + price_bag"
   ]
  },
  {
   "cell_type": "code",
   "execution_count": 4,
   "metadata": {},
   "outputs": [
    {
     "data": {
      "text/plain": [
       "5.0"
      ]
     },
     "execution_count": 4,
     "metadata": {},
     "output_type": "execute_result"
    }
   ],
   "source": [
    "f1(price_orange, count_orange, price_bag)"
   ]
  },
  {
   "cell_type": "markdown",
   "metadata": {},
   "source": [
    "## AddLayer MulLayer"
   ]
  },
  {
   "cell_type": "code",
   "execution_count": 5,
   "metadata": {
    "collapsed": true
   },
   "outputs": [],
   "source": [
    "class AddLayer():\n",
    "    def forward(self, x, y):\n",
    "        return x + y\n",
    "    \n",
    "    def backward(self, dout):\n",
    "        return dout, dout"
   ]
  },
  {
   "cell_type": "code",
   "execution_count": 6,
   "metadata": {
    "collapsed": true
   },
   "outputs": [],
   "source": [
    "class MulLayer():\n",
    "    def __init(self):\n",
    "        self.x = None\n",
    "        self.y = None\n",
    "        \n",
    "    def forward(self, x, y):\n",
    "        self.x = x\n",
    "        self.y = y\n",
    "        return x * y\n",
    "    \n",
    "    def backward(self, dout):\n",
    "        dx = dout * self.y\n",
    "        dy = dout * self.x\n",
    "        return dx, dy"
   ]
  },
  {
   "cell_type": "markdown",
   "metadata": {},
   "source": [
    "## Solve Case 1 using Layers"
   ]
  },
  {
   "cell_type": "code",
   "execution_count": 7,
   "metadata": {
    "collapsed": true
   },
   "outputs": [],
   "source": [
    "orange_l = MulLayer()\n",
    "orange_v = orange_l.forward(price_orange, count_orange)"
   ]
  },
  {
   "cell_type": "code",
   "execution_count": 8,
   "metadata": {
    "collapsed": true
   },
   "outputs": [],
   "source": [
    "bag_l = AddLayer()\n",
    "bag_v = bag_l.forward(orange_v, price_bag)"
   ]
  },
  {
   "cell_type": "code",
   "execution_count": 9,
   "metadata": {},
   "outputs": [
    {
     "data": {
      "text/plain": [
       "5.0"
      ]
     },
     "execution_count": 9,
     "metadata": {},
     "output_type": "execute_result"
    }
   ],
   "source": [
    "bag_v"
   ]
  },
  {
   "cell_type": "code",
   "execution_count": 10,
   "metadata": {
    "collapsed": true
   },
   "outputs": [],
   "source": [
    "d_orange, d_price_bag = bag_l.backward(1)"
   ]
  },
  {
   "cell_type": "code",
   "execution_count": 11,
   "metadata": {
    "collapsed": true
   },
   "outputs": [],
   "source": [
    "d_price_orange, d_count_orange = orange_l.backward(d_orange)"
   ]
  },
  {
   "cell_type": "code",
   "execution_count": 12,
   "metadata": {},
   "outputs": [
    {
     "name": "stdout",
     "output_type": "stream",
     "text": [
      "d_price_orange:  3\n",
      "d_count_orange:  1.5\n",
      "d_price_bag:  1\n"
     ]
    }
   ],
   "source": [
    "print(\"d_price_orange: \", d_price_orange)\n",
    "print(\"d_count_orange: \", d_count_orange)\n",
    "print(\"d_price_bag: \", d_price_bag)"
   ]
  },
  {
   "cell_type": "code",
   "execution_count": 13,
   "metadata": {},
   "outputs": [
    {
     "data": {
      "text/plain": [
       "5.0"
      ]
     },
     "execution_count": 13,
     "metadata": {},
     "output_type": "execute_result"
    }
   ],
   "source": [
    "f1(price_orange, count_orange, price_bag)"
   ]
  },
  {
   "cell_type": "code",
   "execution_count": 14,
   "metadata": {},
   "outputs": [
    {
     "data": {
      "text/plain": [
       "8.0"
      ]
     },
     "execution_count": 14,
     "metadata": {},
     "output_type": "execute_result"
    }
   ],
   "source": [
    "f1(price_orange+1, count_orange, price_bag)"
   ]
  },
  {
   "cell_type": "code",
   "execution_count": 15,
   "metadata": {},
   "outputs": [
    {
     "data": {
      "text/plain": [
       "6.5"
      ]
     },
     "execution_count": 15,
     "metadata": {},
     "output_type": "execute_result"
    }
   ],
   "source": [
    "f1(price_orange, count_orange+1, price_bag)"
   ]
  },
  {
   "cell_type": "markdown",
   "metadata": {},
   "source": [
    "## Solve Case 1 using TF"
   ]
  },
  {
   "cell_type": "code",
   "execution_count": 16,
   "metadata": {},
   "outputs": [
    {
     "data": {
      "text/plain": [
       "5.0"
      ]
     },
     "execution_count": 16,
     "metadata": {},
     "output_type": "execute_result"
    }
   ],
   "source": [
    "price_orange = 1.5\n",
    "count_orange = 3\n",
    "price_bag = 0.5\n",
    "\n",
    "def f1(price_orange, count_orange, price_bag):\n",
    "    return price_orange * count_orange + price_bag\n",
    "\n",
    "f1(price_orange, count_orange, price_bag)"
   ]
  },
  {
   "cell_type": "code",
   "execution_count": 17,
   "metadata": {
    "collapsed": true
   },
   "outputs": [],
   "source": [
    "n_price_orange = tf.Variable(1.5)\n",
    "n_count_orange = tf.Variable(3.0)\n",
    "n_price_bag = tf.Variable(0.5)"
   ]
  },
  {
   "cell_type": "code",
   "execution_count": 18,
   "metadata": {
    "collapsed": true
   },
   "outputs": [],
   "source": [
    "n_total = n_price_orange * n_count_orange + n_price_bag\n",
    "n_gradients = tf.gradients(n_total, [n_price_orange, n_count_orange, n_price_bag])"
   ]
  },
  {
   "cell_type": "code",
   "execution_count": 19,
   "metadata": {},
   "outputs": [
    {
     "name": "stdout",
     "output_type": "stream",
     "text": [
      "5.0\n",
      "[3.0, 1.5, 1.0]\n"
     ]
    }
   ],
   "source": [
    "with tf.Session() as sess:\n",
    "    sess.run(tf.global_variables_initializer())\n",
    "    total = sess.run(n_total)\n",
    "    print(total)\n",
    "    \n",
    "    gradients = sess.run(n_gradients)\n",
    "    print(gradients)"
   ]
  },
  {
   "cell_type": "code",
   "execution_count": null,
   "metadata": {
    "collapsed": true
   },
   "outputs": [],
   "source": []
  },
  {
   "cell_type": "markdown",
   "metadata": {},
   "source": [
    "## Case 2: Smoothie"
   ]
  },
  {
   "cell_type": "code",
   "execution_count": 20,
   "metadata": {
    "collapsed": true
   },
   "outputs": [],
   "source": [
    "price_orange = 1.5\n",
    "price_mango = 2.5\n",
    "count_smoothie = 3\n",
    "price_bag = 0.5"
   ]
  },
  {
   "cell_type": "code",
   "execution_count": 21,
   "metadata": {
    "collapsed": true
   },
   "outputs": [],
   "source": [
    "def f2(price_orange, price_mango, count_smoothie, price_bag):\n",
    "    return price_orange * count_smoothie + price_mango * count_smoothie + price_bag"
   ]
  },
  {
   "cell_type": "code",
   "execution_count": 22,
   "metadata": {},
   "outputs": [
    {
     "data": {
      "text/plain": [
       "12.5"
      ]
     },
     "execution_count": 22,
     "metadata": {},
     "output_type": "execute_result"
    }
   ],
   "source": [
    "f2(price_orange, price_mango, count_smoothie, price_bag)"
   ]
  },
  {
   "cell_type": "markdown",
   "metadata": {},
   "source": [
    "## Solve Case 2 using Layers"
   ]
  },
  {
   "cell_type": "code",
   "execution_count": 23,
   "metadata": {
    "collapsed": true
   },
   "outputs": [],
   "source": [
    "l_orange = MulLayer()\n",
    "v_orange = l_orange.forward(price_orange, count_smoothie)\n",
    "\n",
    "l_mango = MulLayer()\n",
    "v_mango = l_mango.forward(price_mango, count_smoothie)"
   ]
  },
  {
   "cell_type": "code",
   "execution_count": 24,
   "metadata": {
    "collapsed": true
   },
   "outputs": [],
   "source": [
    "l_smoothie = AddLayer()\n",
    "v_smoothie = l_smoothie.forward(v_orange, v_mango)"
   ]
  },
  {
   "cell_type": "code",
   "execution_count": 25,
   "metadata": {
    "collapsed": true
   },
   "outputs": [],
   "source": [
    "l_total = AddLayer()\n",
    "v_total = l_total.forward(v_smoothie, price_bag)"
   ]
  },
  {
   "cell_type": "code",
   "execution_count": 26,
   "metadata": {},
   "outputs": [
    {
     "data": {
      "text/plain": [
       "12.5"
      ]
     },
     "execution_count": 26,
     "metadata": {},
     "output_type": "execute_result"
    }
   ],
   "source": [
    "v_total"
   ]
  },
  {
   "cell_type": "code",
   "execution_count": 27,
   "metadata": {
    "collapsed": true
   },
   "outputs": [],
   "source": [
    "d_smoothie, d_price_bag = l_total.backward(1)"
   ]
  },
  {
   "cell_type": "code",
   "execution_count": 28,
   "metadata": {
    "collapsed": true
   },
   "outputs": [],
   "source": [
    "d_orange, d_mango = l_smoothie.backward(d_smoothie)"
   ]
  },
  {
   "cell_type": "code",
   "execution_count": 29,
   "metadata": {
    "collapsed": true
   },
   "outputs": [],
   "source": [
    "d_price_mango, d_count_mango = l_mango.backward(d_mango)"
   ]
  },
  {
   "cell_type": "code",
   "execution_count": 30,
   "metadata": {
    "collapsed": true
   },
   "outputs": [],
   "source": [
    "d_price_orange, d_count_orange = l_orange.backward(d_orange)"
   ]
  },
  {
   "cell_type": "code",
   "execution_count": 31,
   "metadata": {
    "collapsed": true
   },
   "outputs": [],
   "source": [
    "d_count_smoothie = d_count_orange + d_count_mango"
   ]
  },
  {
   "cell_type": "code",
   "execution_count": 32,
   "metadata": {},
   "outputs": [
    {
     "name": "stdout",
     "output_type": "stream",
     "text": [
      "d_price_orange:  3\n",
      "d_price_mango:  3\n",
      "d_count_smoothie:  4.0\n",
      "d_price_bag:  1\n"
     ]
    }
   ],
   "source": [
    "print(\"d_price_orange: \", d_price_orange)\n",
    "print(\"d_price_mango: \", d_price_mango)\n",
    "print(\"d_count_smoothie: \", d_count_smoothie)\n",
    "print(\"d_price_bag: \", d_price_bag)"
   ]
  },
  {
   "cell_type": "code",
   "execution_count": 33,
   "metadata": {},
   "outputs": [
    {
     "data": {
      "text/plain": [
       "12.5"
      ]
     },
     "execution_count": 33,
     "metadata": {},
     "output_type": "execute_result"
    }
   ],
   "source": [
    "f2(price_orange, price_mango, count_smoothie, price_bag)"
   ]
  },
  {
   "cell_type": "code",
   "execution_count": 34,
   "metadata": {},
   "outputs": [
    {
     "data": {
      "text/plain": [
       "15.5"
      ]
     },
     "execution_count": 34,
     "metadata": {},
     "output_type": "execute_result"
    }
   ],
   "source": [
    "f2(price_orange+1, price_mango, count_smoothie, price_bag)"
   ]
  },
  {
   "cell_type": "code",
   "execution_count": 35,
   "metadata": {},
   "outputs": [
    {
     "data": {
      "text/plain": [
       "15.5"
      ]
     },
     "execution_count": 35,
     "metadata": {},
     "output_type": "execute_result"
    }
   ],
   "source": [
    "f2(price_orange, price_mango+1, count_smoothie, price_bag)"
   ]
  },
  {
   "cell_type": "code",
   "execution_count": 36,
   "metadata": {},
   "outputs": [
    {
     "data": {
      "text/plain": [
       "16.5"
      ]
     },
     "execution_count": 36,
     "metadata": {},
     "output_type": "execute_result"
    }
   ],
   "source": [
    "f2(price_orange, price_mango, count_smoothie+1, price_bag)"
   ]
  },
  {
   "cell_type": "code",
   "execution_count": 37,
   "metadata": {},
   "outputs": [
    {
     "data": {
      "text/plain": [
       "13.5"
      ]
     },
     "execution_count": 37,
     "metadata": {},
     "output_type": "execute_result"
    }
   ],
   "source": [
    "f2(price_orange, price_mango, count_smoothie, price_bag+1)"
   ]
  },
  {
   "cell_type": "markdown",
   "metadata": {},
   "source": [
    "## Case 3: Fruits in CA, NY, and TX"
   ]
  },
  {
   "cell_type": "markdown",
   "metadata": {},
   "source": [
    "$$\n",
    "\\boldsymbol{C} = \\begin{bmatrix}\n",
    "    c_{orange} & c_{mango}\n",
    "\\end{bmatrix}\n",
    "$$\n",
    "\n",
    "$$\n",
    "\\boldsymbol{P} = \\begin{bmatrix}\n",
    "    p_{orange, CA} & p_{orange, NY} & p_{orange, TX} \\\\\n",
    "    p_{mango, CA}  & p_{mango, NY}  & p_{mango, TX}  \\\\\n",
    "\\end{bmatrix}\n",
    "$$\n",
    "\n",
    "$$\n",
    "\\boldsymbol{b} = \\begin{pmatrix}\n",
    "    b_{CA} & b_{NY} & b_{TX}\n",
    "\\end{pmatrix}\n",
    "$$\n",
    "\n",
    "$$\n",
    "Total = \\sum C P + b\n",
    "$$"
   ]
  },
  {
   "cell_type": "code",
   "execution_count": 38,
   "metadata": {
    "collapsed": true
   },
   "outputs": [],
   "source": [
    "C = np.array([\n",
    "    [3, 2]\n",
    "])\n",
    "P = np.array([\n",
    "    [1.5, 1.0, 2.0],\n",
    "    [3.0, 2.0, 4.0]\n",
    "])\n",
    "b = np.array([0.5, 1.0, 0.7])"
   ]
  },
  {
   "cell_type": "code",
   "execution_count": 39,
   "metadata": {},
   "outputs": [
    {
     "data": {
      "text/plain": [
       "array([[ 11. ,   8. ,  14.7]])"
      ]
     },
     "execution_count": 39,
     "metadata": {},
     "output_type": "execute_result"
    }
   ],
   "source": [
    "np.dot(C, P) + b"
   ]
  },
  {
   "cell_type": "code",
   "execution_count": 40,
   "metadata": {},
   "outputs": [
    {
     "data": {
      "text/plain": [
       "33.700000000000003"
      ]
     },
     "execution_count": 40,
     "metadata": {},
     "output_type": "execute_result"
    }
   ],
   "source": [
    "np.sum(np.dot(C, P) + b)"
   ]
  },
  {
   "cell_type": "code",
   "execution_count": 41,
   "metadata": {
    "collapsed": true
   },
   "outputs": [],
   "source": [
    "def f3(C, P, b):\n",
    "    return C[0,0] * P[0,0] + C[0,1] * P[1,0] + C[0,0] * P[0,1] + C[0,1] * P[1,1] +  C[0,0] * P[0,2] + C[0,1] * P[1,2] + b[0] + b[1] + b[2]"
   ]
  },
  {
   "cell_type": "code",
   "execution_count": 42,
   "metadata": {},
   "outputs": [
    {
     "data": {
      "text/plain": [
       "33.700000000000003"
      ]
     },
     "execution_count": 42,
     "metadata": {},
     "output_type": "execute_result"
    }
   ],
   "source": [
    "f3(C, P, b)"
   ]
  },
  {
   "cell_type": "markdown",
   "metadata": {},
   "source": [
    "## MatMul and MatAdd Layers"
   ]
  },
  {
   "cell_type": "code",
   "execution_count": 43,
   "metadata": {
    "collapsed": true
   },
   "outputs": [],
   "source": [
    "class MatMul:\n",
    "    def __init__(self):\n",
    "        self.X = None\n",
    "        self.W = None\n",
    "        \n",
    "    def forward(self, X, W):\n",
    "        Y = np.dot(X, W)\n",
    "        self.X = X\n",
    "        self.W = W\n",
    "        return Y\n",
    "    \n",
    "    def backward(self, dY):\n",
    "        dX = np.dot(dY, self.W.T)\n",
    "        dW = np.dot(self.X.T, dY)\n",
    "        return dX, dW"
   ]
  },
  {
   "cell_type": "code",
   "execution_count": 44,
   "metadata": {
    "collapsed": true
   },
   "outputs": [],
   "source": [
    "class MatAdd:\n",
    "    def forward(self, A, b):\n",
    "        return A + b\n",
    "    \n",
    "    def backward(self, dY):\n",
    "        dA = dY\n",
    "        db = np.sum(dY, axis=0)\n",
    "        return dA, db"
   ]
  },
  {
   "cell_type": "code",
   "execution_count": 45,
   "metadata": {
    "collapsed": true
   },
   "outputs": [],
   "source": [
    "l_fruit = MatMul()\n",
    "v_fruit = l_fruit.forward(C, P)"
   ]
  },
  {
   "cell_type": "code",
   "execution_count": 46,
   "metadata": {
    "collapsed": true
   },
   "outputs": [],
   "source": [
    "l_bag = MatAdd()\n",
    "v_bag = l_bag.forward(v_fruit, b)"
   ]
  },
  {
   "cell_type": "code",
   "execution_count": 47,
   "metadata": {},
   "outputs": [
    {
     "data": {
      "text/plain": [
       "33.700000000000003"
      ]
     },
     "execution_count": 47,
     "metadata": {},
     "output_type": "execute_result"
    }
   ],
   "source": [
    "np.sum(v_bag)"
   ]
  },
  {
   "cell_type": "code",
   "execution_count": 48,
   "metadata": {
    "collapsed": true
   },
   "outputs": [],
   "source": [
    "d_v_fruit, d_b = l_bag.backward(np.ones((1, 3)))"
   ]
  },
  {
   "cell_type": "code",
   "execution_count": 49,
   "metadata": {
    "collapsed": true
   },
   "outputs": [],
   "source": [
    "dC, dP = l_fruit.backward(d_v_fruit)"
   ]
  },
  {
   "cell_type": "code",
   "execution_count": 50,
   "metadata": {},
   "outputs": [
    {
     "name": "stdout",
     "output_type": "stream",
     "text": [
      "dC:\n",
      "[[ 4.5  9. ]]\n",
      "dP:\n",
      "[[ 3.  3.  3.]\n",
      " [ 2.  2.  2.]]\n",
      "d_b:\n",
      "[ 1.  1.  1.]\n"
     ]
    }
   ],
   "source": [
    "print(\"dC:\")\n",
    "print(dC)\n",
    "print(\"dP:\")\n",
    "print(dP)\n",
    "print(\"d_b:\")\n",
    "print(d_b)"
   ]
  },
  {
   "cell_type": "code",
   "execution_count": 51,
   "metadata": {},
   "outputs": [
    {
     "data": {
      "text/plain": [
       "33.700000000000003"
      ]
     },
     "execution_count": 51,
     "metadata": {},
     "output_type": "execute_result"
    }
   ],
   "source": [
    "C = np.array([\n",
    "    [3, 2]\n",
    "])\n",
    "P = np.array([\n",
    "    [1.5, 1.0, 2.0],\n",
    "    [3.0, 2.0, 4.0]\n",
    "])\n",
    "b = np.array([0.5, 1.0, 0.7])\n",
    "f3(C, P, b)"
   ]
  },
  {
   "cell_type": "code",
   "execution_count": 52,
   "metadata": {},
   "outputs": [
    {
     "data": {
      "text/plain": [
       "42.700000000000003"
      ]
     },
     "execution_count": 52,
     "metadata": {},
     "output_type": "execute_result"
    }
   ],
   "source": [
    "# Increase mango count\n",
    "C2 = np.array([\n",
    "    [3, 3]\n",
    "])\n",
    "P2 = np.array([\n",
    "    [1.5, 1.0, 2.0],\n",
    "    [3.0, 2.0, 4.0]\n",
    "])\n",
    "b2 = np.array([0.5, 1.0, 0.7])\n",
    "f3(C2, P2, b2)"
   ]
  },
  {
   "cell_type": "code",
   "execution_count": 53,
   "metadata": {},
   "outputs": [
    {
     "data": {
      "text/plain": [
       "30.699999999999999"
      ]
     },
     "execution_count": 53,
     "metadata": {},
     "output_type": "execute_result"
    }
   ],
   "source": [
    "C2 = np.array([\n",
    "    [3, 2]\n",
    "])\n",
    "# Decrease orange price in TX\n",
    "P2 = np.array([\n",
    "    [1.5, 1.0, 1.0],\n",
    "    [3.0, 2.0, 4.0]\n",
    "])\n",
    "b2 = np.array([0.5, 1.0, 0.7])\n",
    "f3(C2, P2, b2)"
   ]
  },
  {
   "cell_type": "markdown",
   "metadata": {},
   "source": [
    "## Case 4: Group of friends in CA, NY, and TX"
   ]
  },
  {
   "cell_type": "code",
   "execution_count": 54,
   "metadata": {
    "collapsed": true
   },
   "outputs": [],
   "source": [
    "C = np.array([\n",
    "    [3, 2],\n",
    "    [1, 0],\n",
    "    [0, 4],\n",
    "    [5, 6],\n",
    "])"
   ]
  },
  {
   "cell_type": "code",
   "execution_count": 55,
   "metadata": {},
   "outputs": [
    {
     "data": {
      "text/plain": [
       "157.30000000000001"
      ]
     },
     "execution_count": 55,
     "metadata": {},
     "output_type": "execute_result"
    }
   ],
   "source": [
    "np.sum(np.dot(C, P) + b)"
   ]
  },
  {
   "cell_type": "code",
   "execution_count": 56,
   "metadata": {
    "collapsed": true
   },
   "outputs": [],
   "source": [
    "l_fruit = MatMul()\n",
    "v_fruit = l_fruit.forward(C, P)\n",
    "l_bag = MatAdd()\n",
    "v_bag = l_bag.forward(v_fruit, b)\n",
    "\n",
    "d_v_fruit, d_b = l_bag.backward(np.ones((4, 3)))\n",
    "dC, dP = l_fruit.backward(d_v_fruit)"
   ]
  },
  {
   "cell_type": "code",
   "execution_count": 57,
   "metadata": {},
   "outputs": [
    {
     "name": "stdout",
     "output_type": "stream",
     "text": [
      "dC:\n",
      "[[ 4.5  9. ]\n",
      " [ 4.5  9. ]\n",
      " [ 4.5  9. ]\n",
      " [ 4.5  9. ]]\n",
      "dP:\n",
      "[[  9.   9.   9.]\n",
      " [ 12.  12.  12.]]\n",
      "d_b:\n",
      "[ 4.  4.  4.]\n"
     ]
    }
   ],
   "source": [
    "print(\"dC:\")\n",
    "print(dC)\n",
    "print(\"dP:\")\n",
    "print(dP)\n",
    "print(\"d_b:\")\n",
    "print(d_b)"
   ]
  },
  {
   "cell_type": "code",
   "execution_count": 58,
   "metadata": {},
   "outputs": [
    {
     "data": {
      "text/plain": [
       "157.30000000000001"
      ]
     },
     "execution_count": 58,
     "metadata": {},
     "output_type": "execute_result"
    }
   ],
   "source": [
    "# Original\n",
    "C = np.array([\n",
    "    [3, 2],\n",
    "    [1, 0],\n",
    "    [0, 4],\n",
    "    [5, 6],\n",
    "])\n",
    "P = np.array([\n",
    "    [1.5, 1.0, 2.0],\n",
    "    [3.0, 2.0, 4.0]\n",
    "])\n",
    "b = np.array([0.5, 1.0, 0.7])\n",
    "np.sum(np.dot(C, P) + b)"
   ]
  },
  {
   "cell_type": "code",
   "execution_count": 59,
   "metadata": {},
   "outputs": [
    {
     "data": {
      "text/plain": [
       "161.30000000000001"
      ]
     },
     "execution_count": 59,
     "metadata": {},
     "output_type": "execute_result"
    }
   ],
   "source": [
    "# CA bag price increase\n",
    "C2 = np.array([\n",
    "    [3, 2],\n",
    "    [1, 0],\n",
    "    [0, 4],\n",
    "    [5, 6],\n",
    "])\n",
    "P2 = np.array([\n",
    "    [1.5, 1.0, 2.0],\n",
    "    [3.0, 2.0, 4.0]\n",
    "])\n",
    "b2 = np.array([1.5, 1.0, 0.7])\n",
    "np.sum(np.dot(C2, P2) + b2)"
   ]
  },
  {
   "cell_type": "code",
   "execution_count": 60,
   "metadata": {},
   "outputs": [
    {
     "data": {
      "text/plain": [
       "166.30000000000001"
      ]
     },
     "execution_count": 60,
     "metadata": {},
     "output_type": "execute_result"
    }
   ],
   "source": [
    "# Original\n",
    "C2 = np.array([\n",
    "    [3, 3],\n",
    "    [1, 0],\n",
    "    [0, 4],\n",
    "    [5, 6],\n",
    "])\n",
    "P2 = np.array([\n",
    "    [1.5, 1.0, 2.0],\n",
    "    [3.0, 2.0, 4.0]\n",
    "])\n",
    "b2 = np.array([0.5, 1.0, 0.7])\n",
    "np.sum(np.dot(C2, P2) + b2)"
   ]
  },
  {
   "cell_type": "markdown",
   "metadata": {},
   "source": [
    "## Solve Case 4 using TF"
   ]
  },
  {
   "cell_type": "code",
   "execution_count": 61,
   "metadata": {},
   "outputs": [
    {
     "data": {
      "text/plain": [
       "157.30000000000001"
      ]
     },
     "execution_count": 61,
     "metadata": {},
     "output_type": "execute_result"
    }
   ],
   "source": [
    "C = np.array([\n",
    "    [3.0, 2.0],\n",
    "    [1.0, 0.0],\n",
    "    [0.0, 4.0],\n",
    "    [5.0, 6.0],\n",
    "])\n",
    "P = np.array([\n",
    "    [1.5, 1.0, 2.0],\n",
    "    [3.0, 2.0, 4.0]\n",
    "])\n",
    "b = np.array([0.5, 1.0, 0.7])\n",
    "np.sum(np.dot(C, P) + b)"
   ]
  },
  {
   "cell_type": "code",
   "execution_count": 62,
   "metadata": {
    "collapsed": true
   },
   "outputs": [],
   "source": [
    "nC = tf.Variable(C)\n",
    "nP = tf.Variable(P)\n",
    "nb = tf.Variable(b)\n",
    "nTotal = tf.reduce_sum(tf.matmul(nC, nP) + nb)\n",
    "nGradients = tf.gradients(nTotal, [nC, nP, nb])"
   ]
  },
  {
   "cell_type": "code",
   "execution_count": 63,
   "metadata": {},
   "outputs": [
    {
     "name": "stdout",
     "output_type": "stream",
     "text": [
      "157.3\n",
      "dC\n",
      "[[ 4.5  9. ]\n",
      " [ 4.5  9. ]\n",
      " [ 4.5  9. ]\n",
      " [ 4.5  9. ]]\n",
      "dP\n",
      "[[  9.   9.   9.]\n",
      " [ 12.  12.  12.]]\n",
      "db\n",
      "[ 4.  4.  4.]\n"
     ]
    }
   ],
   "source": [
    "with tf.Session() as sess:\n",
    "    sess.run(tf.global_variables_initializer())\n",
    "    total = sess.run(nTotal)\n",
    "    print(total)\n",
    "    \n",
    "    gradients = sess.run(nGradients)\n",
    "    \n",
    "    print(\"dC\")\n",
    "    print(gradients[0])\n",
    "    print(\"dP\")\n",
    "    print(gradients[1])\n",
    "    print(\"db\")\n",
    "    print(gradients[2])"
   ]
  },
  {
   "cell_type": "markdown",
   "metadata": {},
   "source": [
    "Original\n",
    "\n",
    "```\n",
    "dC:\n",
    "[[ 4.5  9. ]\n",
    " [ 4.5  9. ]\n",
    " [ 4.5  9. ]\n",
    " [ 4.5  9. ]]\n",
    "dP:\n",
    "[[  9.   9.   9.]\n",
    " [ 12.  12.  12.]]\n",
    "d_b:\n",
    "[ 4.  4.  4.]\n",
    "```"
   ]
  },
  {
   "cell_type": "code",
   "execution_count": null,
   "metadata": {
    "collapsed": true
   },
   "outputs": [],
   "source": []
  }
 ],
 "metadata": {
  "kernelspec": {
   "display_name": "Python 3",
   "language": "python",
   "name": "python3"
  },
  "language_info": {
   "codemirror_mode": {
    "name": "ipython",
    "version": 3
   },
   "file_extension": ".py",
   "mimetype": "text/x-python",
   "name": "python",
   "nbconvert_exporter": "python",
   "pygments_lexer": "ipython3",
   "version": "3.6.2"
  }
 },
 "nbformat": 4,
 "nbformat_minor": 2
}
